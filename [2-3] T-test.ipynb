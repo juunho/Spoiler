{
 "cells": [
  {
   "cell_type": "code",
   "execution_count": 1,
   "id": "6a6f3535",
   "metadata": {},
   "outputs": [],
   "source": [
    "import pandas as pd\n",
    "from scipy import stats"
   ]
  },
  {
   "cell_type": "code",
   "execution_count": 2,
   "id": "90ffa4b6",
   "metadata": {},
   "outputs": [],
   "source": [
    "df1 = pd.read_csv('IMDB/dataset/sim1-spacy-pre-unq.csv')"
   ]
  },
  {
   "cell_type": "code",
   "execution_count": 3,
   "id": "eb866fc7",
   "metadata": {},
   "outputs": [],
   "source": [
    "df2 = pd.read_csv('IMDB/dataset/sim2-spacy-pre-unq.csv')"
   ]
  },
  {
   "cell_type": "code",
   "execution_count": 4,
   "id": "fd510e50",
   "metadata": {},
   "outputs": [],
   "source": [
    "df_stem = pd.concat([df1,df2], ignore_index=True)"
   ]
  },
  {
   "cell_type": "code",
   "execution_count": 5,
   "id": "b8236612",
   "metadata": {},
   "outputs": [
    {
     "data": {
      "text/html": [
       "<div>\n",
       "<style scoped>\n",
       "    .dataframe tbody tr th:only-of-type {\n",
       "        vertical-align: middle;\n",
       "    }\n",
       "\n",
       "    .dataframe tbody tr th {\n",
       "        vertical-align: top;\n",
       "    }\n",
       "\n",
       "    .dataframe thead th {\n",
       "        text-align: right;\n",
       "    }\n",
       "</style>\n",
       "<table border=\"1\" class=\"dataframe\">\n",
       "  <thead>\n",
       "    <tr style=\"text-align: right;\">\n",
       "      <th></th>\n",
       "      <th>movie_id</th>\n",
       "      <th>user_id</th>\n",
       "      <th>is_spoiler</th>\n",
       "      <th>review</th>\n",
       "      <th>summary</th>\n",
       "      <th>synopsis</th>\n",
       "      <th>summary_sim</th>\n",
       "      <th>synopsis_sim</th>\n",
       "    </tr>\n",
       "  </thead>\n",
       "  <tbody>\n",
       "    <tr>\n",
       "      <th>0</th>\n",
       "      <td>tt0111161</td>\n",
       "      <td>ur6574726</td>\n",
       "      <td>True</td>\n",
       "      <td>fan long ever time life hit downward spiral al...</td>\n",
       "      <td>chronicl experi former success banker prison g...</td>\n",
       "      <td>andi said larg black stone meanwhil remain ste...</td>\n",
       "      <td>0.818253</td>\n",
       "      <td>0.938000</td>\n",
       "    </tr>\n",
       "    <tr>\n",
       "      <th>1</th>\n",
       "      <td>tt0111161</td>\n",
       "      <td>ur31182745</td>\n",
       "      <td>True</td>\n",
       "      <td>made account rate heard someon tim robin done ...</td>\n",
       "      <td>chronicl experi former success banker prison g...</td>\n",
       "      <td>andi said larg black stone meanwhil remain ste...</td>\n",
       "      <td>0.824860</td>\n",
       "      <td>0.941031</td>\n",
       "    </tr>\n",
       "    <tr>\n",
       "      <th>2</th>\n",
       "      <td>tt0111161</td>\n",
       "      <td>ur9871443</td>\n",
       "      <td>True</td>\n",
       "      <td>friend mine list shawshank redempt one time fa...</td>\n",
       "      <td>chronicl experi former success banker prison g...</td>\n",
       "      <td>andi said larg black stone meanwhil remain ste...</td>\n",
       "      <td>0.828660</td>\n",
       "      <td>0.945121</td>\n",
       "    </tr>\n",
       "    <tr>\n",
       "      <th>3</th>\n",
       "      <td>tt0111161</td>\n",
       "      <td>ur23169472</td>\n",
       "      <td>True</td>\n",
       "      <td>tell truth speechless young fanat fact film ca...</td>\n",
       "      <td>chronicl experi former success banker prison g...</td>\n",
       "      <td>andi said larg black stone meanwhil remain ste...</td>\n",
       "      <td>0.853654</td>\n",
       "      <td>0.929594</td>\n",
       "    </tr>\n",
       "    <tr>\n",
       "      <th>4</th>\n",
       "      <td>tt0111161</td>\n",
       "      <td>ur34426359</td>\n",
       "      <td>True</td>\n",
       "      <td>wow film babi one brilliant ever written man l...</td>\n",
       "      <td>chronicl experi former success banker prison g...</td>\n",
       "      <td>andi said larg black stone meanwhil remain ste...</td>\n",
       "      <td>0.772776</td>\n",
       "      <td>0.894399</td>\n",
       "    </tr>\n",
       "    <tr>\n",
       "      <th>...</th>\n",
       "      <td>...</td>\n",
       "      <td>...</td>\n",
       "      <td>...</td>\n",
       "      <td>...</td>\n",
       "      <td>...</td>\n",
       "      <td>...</td>\n",
       "      <td>...</td>\n",
       "      <td>...</td>\n",
       "    </tr>\n",
       "    <tr>\n",
       "      <th>257272</th>\n",
       "      <td>tt0139239</td>\n",
       "      <td>ur0415521</td>\n",
       "      <td>False</td>\n",
       "      <td>type one ordinarili see howev becom acquaint a...</td>\n",
       "      <td>told three perspect stori bunch young californ...</td>\n",
       "      <td>ronna lie motionless storyearli recruit cover ...</td>\n",
       "      <td>0.750702</td>\n",
       "      <td>0.750702</td>\n",
       "    </tr>\n",
       "    <tr>\n",
       "      <th>257273</th>\n",
       "      <td>tt0139239</td>\n",
       "      <td>ur0100166</td>\n",
       "      <td>False</td>\n",
       "      <td>go wise fast pure entertain assembl except cas...</td>\n",
       "      <td>told three perspect stori bunch young californ...</td>\n",
       "      <td>ronna lie motionless storyearli recruit cover ...</td>\n",
       "      <td>0.760869</td>\n",
       "      <td>0.760869</td>\n",
       "    </tr>\n",
       "    <tr>\n",
       "      <th>257274</th>\n",
       "      <td>tt0139239</td>\n",
       "      <td>ur0021767</td>\n",
       "      <td>False</td>\n",
       "      <td>well shall say fun rate three plotlin origin o...</td>\n",
       "      <td>told three perspect stori bunch young californ...</td>\n",
       "      <td>ronna lie motionless storyearli recruit cover ...</td>\n",
       "      <td>0.771797</td>\n",
       "      <td>0.771797</td>\n",
       "    </tr>\n",
       "    <tr>\n",
       "      <th>257275</th>\n",
       "      <td>tt0139239</td>\n",
       "      <td>ur0349105</td>\n",
       "      <td>False</td>\n",
       "      <td>call teenag version pulp fiction whatev pleas ...</td>\n",
       "      <td>told three perspect stori bunch young californ...</td>\n",
       "      <td>ronna lie motionless storyearli recruit cover ...</td>\n",
       "      <td>0.752629</td>\n",
       "      <td>0.752629</td>\n",
       "    </tr>\n",
       "    <tr>\n",
       "      <th>257276</th>\n",
       "      <td>tt0139239</td>\n",
       "      <td>ur0156431</td>\n",
       "      <td>False</td>\n",
       "      <td>made doubt sucker mtv faith care anyth exterio...</td>\n",
       "      <td>told three perspect stori bunch young californ...</td>\n",
       "      <td>ronna lie motionless storyearli recruit cover ...</td>\n",
       "      <td>0.837549</td>\n",
       "      <td>0.837549</td>\n",
       "    </tr>\n",
       "  </tbody>\n",
       "</table>\n",
       "<p>257277 rows × 8 columns</p>\n",
       "</div>"
      ],
      "text/plain": [
       "         movie_id     user_id  is_spoiler  \\\n",
       "0       tt0111161   ur6574726        True   \n",
       "1       tt0111161  ur31182745        True   \n",
       "2       tt0111161   ur9871443        True   \n",
       "3       tt0111161  ur23169472        True   \n",
       "4       tt0111161  ur34426359        True   \n",
       "...           ...         ...         ...   \n",
       "257272  tt0139239   ur0415521       False   \n",
       "257273  tt0139239   ur0100166       False   \n",
       "257274  tt0139239   ur0021767       False   \n",
       "257275  tt0139239   ur0349105       False   \n",
       "257276  tt0139239   ur0156431       False   \n",
       "\n",
       "                                                   review  \\\n",
       "0       fan long ever time life hit downward spiral al...   \n",
       "1       made account rate heard someon tim robin done ...   \n",
       "2       friend mine list shawshank redempt one time fa...   \n",
       "3       tell truth speechless young fanat fact film ca...   \n",
       "4       wow film babi one brilliant ever written man l...   \n",
       "...                                                   ...   \n",
       "257272  type one ordinarili see howev becom acquaint a...   \n",
       "257273  go wise fast pure entertain assembl except cas...   \n",
       "257274  well shall say fun rate three plotlin origin o...   \n",
       "257275  call teenag version pulp fiction whatev pleas ...   \n",
       "257276  made doubt sucker mtv faith care anyth exterio...   \n",
       "\n",
       "                                                  summary  \\\n",
       "0       chronicl experi former success banker prison g...   \n",
       "1       chronicl experi former success banker prison g...   \n",
       "2       chronicl experi former success banker prison g...   \n",
       "3       chronicl experi former success banker prison g...   \n",
       "4       chronicl experi former success banker prison g...   \n",
       "...                                                   ...   \n",
       "257272  told three perspect stori bunch young californ...   \n",
       "257273  told three perspect stori bunch young californ...   \n",
       "257274  told three perspect stori bunch young californ...   \n",
       "257275  told three perspect stori bunch young californ...   \n",
       "257276  told three perspect stori bunch young californ...   \n",
       "\n",
       "                                                 synopsis  summary_sim  \\\n",
       "0       andi said larg black stone meanwhil remain ste...     0.818253   \n",
       "1       andi said larg black stone meanwhil remain ste...     0.824860   \n",
       "2       andi said larg black stone meanwhil remain ste...     0.828660   \n",
       "3       andi said larg black stone meanwhil remain ste...     0.853654   \n",
       "4       andi said larg black stone meanwhil remain ste...     0.772776   \n",
       "...                                                   ...          ...   \n",
       "257272  ronna lie motionless storyearli recruit cover ...     0.750702   \n",
       "257273  ronna lie motionless storyearli recruit cover ...     0.760869   \n",
       "257274  ronna lie motionless storyearli recruit cover ...     0.771797   \n",
       "257275  ronna lie motionless storyearli recruit cover ...     0.752629   \n",
       "257276  ronna lie motionless storyearli recruit cover ...     0.837549   \n",
       "\n",
       "        synopsis_sim  \n",
       "0           0.938000  \n",
       "1           0.941031  \n",
       "2           0.945121  \n",
       "3           0.929594  \n",
       "4           0.894399  \n",
       "...              ...  \n",
       "257272      0.750702  \n",
       "257273      0.760869  \n",
       "257274      0.771797  \n",
       "257275      0.752629  \n",
       "257276      0.837549  \n",
       "\n",
       "[257277 rows x 8 columns]"
      ]
     },
     "execution_count": 5,
     "metadata": {},
     "output_type": "execute_result"
    }
   ],
   "source": [
    "df_stem"
   ]
  },
  {
   "cell_type": "code",
   "execution_count": 10,
   "id": "26c91971",
   "metadata": {},
   "outputs": [],
   "source": [
    "stem_sp = df_stem[df_stem.is_spoiler == True] \n",
    "stem_nsp = df_stem[df_stem.is_spoiler == False] "
   ]
  },
  {
   "cell_type": "code",
   "execution_count": 19,
   "id": "c94ba090",
   "metadata": {},
   "outputs": [
    {
     "name": "stdout",
     "output_type": "stream",
     "text": [
      "0.8391146339069274\n",
      "0.8214457315988617\n",
      "0.8787153889506696\n",
      "0.8565708618254373\n"
     ]
    }
   ],
   "source": [
    "print(stem_sp.summary_sim.mean())\n",
    "print(stem_nsp.summary_sim.mean())\n",
    "\n",
    "print(stem_sp.synopsis_sim.mean())\n",
    "print(stem_nsp.synopsis_sim.mean())"
   ]
  },
  {
   "cell_type": "code",
   "execution_count": 7,
   "id": "3391f6f2",
   "metadata": {},
   "outputs": [],
   "source": [
    "# 정규성 검정 - 중심극한 정리\n",
    "#stats.anderson_ksamp([stem_sp.Similarity, stem_nsp.Similarity])"
   ]
  },
  {
   "cell_type": "code",
   "execution_count": 12,
   "id": "bd6dbbe8",
   "metadata": {},
   "outputs": [
    {
     "name": "stdout",
     "output_type": "stream",
     "text": [
      "LeveneResult(F) : 217.074 \n",
      "p-value : 0.000\n"
     ]
    }
   ],
   "source": [
    "#Levene의 등분산 검정 (Summary Similarity)\n",
    "lresult = stats.levene(stem_sp.summary_sim, stem_nsp.summary_sim)\n",
    "print('LeveneResult(F) : %.3f \\np-value : %.3f' % (lresult))"
   ]
  },
  {
   "cell_type": "code",
   "execution_count": 13,
   "id": "6045ece6",
   "metadata": {},
   "outputs": [
    {
     "name": "stdout",
     "output_type": "stream",
     "text": [
      "t statistic : 52.291 \n",
      "p-value : 0.000\n"
     ]
    }
   ],
   "source": [
    "# T 검정 (Summary Similarity)\n",
    "result = stats.ttest_ind(stem_sp.summary_sim, stem_nsp.summary_sim, equal_var=False) \n",
    "print('t statistic : %.3f \\np-value : %.3f' % (result))"
   ]
  },
  {
   "cell_type": "code",
   "execution_count": 14,
   "id": "8ed6d8cd",
   "metadata": {},
   "outputs": [
    {
     "name": "stdout",
     "output_type": "stream",
     "text": [
      "LeveneResult(F) : 750.613 \n",
      "p-value : 0.000\n"
     ]
    }
   ],
   "source": [
    "#Levene의 등분산 검정 (Synopsis Similarity)\n",
    "lresult = stats.levene(stem_sp.synopsis_sim, stem_nsp.synopsis_sim)\n",
    "print('LeveneResult(F) : %.3f \\np-value : %.3f' % (lresult))"
   ]
  },
  {
   "cell_type": "code",
   "execution_count": 15,
   "id": "ed4f26bb",
   "metadata": {},
   "outputs": [
    {
     "name": "stdout",
     "output_type": "stream",
     "text": [
      "t statistic : 79.293 \n",
      "p-value : 0.000\n"
     ]
    }
   ],
   "source": [
    "# T 검정 (Synopsis Similarity)\n",
    "result = stats.ttest_ind(stem_sp.synopsis_sim, stem_nsp.synopsis_sim, equal_var=False) \n",
    "print('t statistic : %.3f \\np-value : %.3f' % (result))"
   ]
  }
 ],
 "metadata": {
  "kernelspec": {
   "display_name": "juunho",
   "language": "python",
   "name": "juunho"
  },
  "language_info": {
   "codemirror_mode": {
    "name": "ipython",
    "version": 3
   },
   "file_extension": ".py",
   "mimetype": "text/x-python",
   "name": "python",
   "nbconvert_exporter": "python",
   "pygments_lexer": "ipython3",
   "version": "3.7.13"
  },
  "toc": {
   "base_numbering": 1,
   "nav_menu": {},
   "number_sections": true,
   "sideBar": true,
   "skip_h1_title": false,
   "title_cell": "Table of Contents",
   "title_sidebar": "Contents",
   "toc_cell": false,
   "toc_position": {},
   "toc_section_display": true,
   "toc_window_display": false
  }
 },
 "nbformat": 4,
 "nbformat_minor": 5
}
