{
 "cells": [
  {
   "cell_type": "code",
   "execution_count": 1,
   "id": "bfd44932",
   "metadata": {},
   "outputs": [],
   "source": [
    "import re\n",
    "import pandas as pd\n",
    "import numpy as np\n",
    "import nltk\n",
    "from nltk.corpus import stopwords\n",
    "from nltk.stem import SnowballStemmer, PorterStemmer\n",
    "import spacy\n",
    "nlp = spacy.load('en_core_web_lg')"
   ]
  },
  {
   "cell_type": "code",
   "execution_count": 2,
   "id": "f766b237",
   "metadata": {},
   "outputs": [],
   "source": [
    "from tqdm import tqdm"
   ]
  },
  {
   "cell_type": "markdown",
   "id": "ccda3bae",
   "metadata": {},
   "source": [
    "### Data Load"
   ]
  },
  {
   "cell_type": "code",
   "execution_count": 3,
   "id": "98f23ba7",
   "metadata": {},
   "outputs": [],
   "source": [
    "df = pd.read_csv('IMDB/dataset/gensim-spacy-pre.csv')"
   ]
  },
  {
   "cell_type": "code",
   "execution_count": 4,
   "id": "68376656",
   "metadata": {},
   "outputs": [],
   "source": [
    "df_true = df[df['is_spoiler'] == True]\n",
    "df_false = df[df['is_spoiler'] == False]"
   ]
  },
  {
   "cell_type": "code",
   "execution_count": 5,
   "id": "894eea02",
   "metadata": {},
   "outputs": [],
   "source": [
    "df_true = df_true.head(10000)\n",
    "df_false = df_false.head(10000)"
   ]
  },
  {
   "cell_type": "code",
   "execution_count": 6,
   "id": "a1d793b6",
   "metadata": {
    "scrolled": true
   },
   "outputs": [
    {
     "name": "stderr",
     "output_type": "stream",
     "text": [
      "100%|████████████████████████████████████████████████████████████████████████████| 10000/10000 [22:10<00:00,  7.52it/s]\n"
     ]
    }
   ],
   "source": [
    "similarityValue = []\n",
    "\n",
    "for i in tqdm(range(df_true.count()[0])):\n",
    "    sentence_1 = nlp(df_true.iloc[i][3])\n",
    "    sentence_2 = nlp(df_true.iloc[i][4])\n",
    "    similarityValue.append(sentence_1.similarity(sentence_2))\n",
    "\n",
    "df_true['Similarity'] = similarityValue"
   ]
  },
  {
   "cell_type": "code",
   "execution_count": null,
   "id": "b3ae9377",
   "metadata": {},
   "outputs": [
    {
     "name": "stderr",
     "output_type": "stream",
     "text": [
      " 75%|█████████████████████████████████████████████████████████▊                   | 7504/10000 [19:15<10:24,  4.00it/s]"
     ]
    }
   ],
   "source": [
    "similarityValue = []\n",
    "\n",
    "for i in tqdm(range(df_false.count()[0])):\n",
    "    sentence_1 = nlp(df_false.iloc[i][3])\n",
    "    sentence_2 = nlp(df_false.iloc[i][4])\n",
    "    similarityValue.append(sentence_1.similarity(sentence_2))\n",
    "\n",
    "df_false['Similarity'] = similarityValue"
   ]
  },
  {
   "cell_type": "code",
   "execution_count": null,
   "id": "7832f88c",
   "metadata": {},
   "outputs": [],
   "source": [
    "df_true['Similarity'].mean"
   ]
  },
  {
   "cell_type": "code",
   "execution_count": null,
   "id": "39983b58",
   "metadata": {},
   "outputs": [],
   "source": [
    "df_false['Similarity'].mean"
   ]
  }
 ],
 "metadata": {
  "kernelspec": {
   "display_name": "juunho",
   "language": "python",
   "name": "juunho"
  },
  "language_info": {
   "codemirror_mode": {
    "name": "ipython",
    "version": 3
   },
   "file_extension": ".py",
   "mimetype": "text/x-python",
   "name": "python",
   "nbconvert_exporter": "python",
   "pygments_lexer": "ipython3",
   "version": "3.7.13"
  },
  "toc": {
   "base_numbering": 1,
   "nav_menu": {},
   "number_sections": true,
   "sideBar": true,
   "skip_h1_title": false,
   "title_cell": "Table of Contents",
   "title_sidebar": "Contents",
   "toc_cell": false,
   "toc_position": {},
   "toc_section_display": true,
   "toc_window_display": false
  }
 },
 "nbformat": 4,
 "nbformat_minor": 5
}
