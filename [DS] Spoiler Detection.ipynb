{
 "cells": [
  {
   "cell_type": "code",
   "execution_count": 1,
   "id": "3f0d0519",
   "metadata": {},
   "outputs": [],
   "source": [
    "import numpy as np # linear algebra\n",
    "import pandas as pd # data processing, CSV file I/O (e.g. pd.read_csv)\n",
    "import matplotlib.pyplot as plt # Used to do plots\n",
    "%matplotlib inline\n",
    "\n",
    "import nltk \n",
    "from nltk.corpus import stopwords # Stopwords \n",
    "from nltk.tokenize import word_tokenize # Word_tokenizer\n",
    "from nltk.stem.porter import PorterStemmer\n",
    "from pattern.text.en import singularize\n",
    "\n",
    "from pandarallel import pandarallel # Parallel workers on pandas dataframe\n",
    "\n",
    "import unidecode\n",
    "import re \n",
    "import time\n",
    "import string\n",
    "import statistics\n",
    "\n",
    "from datetime import datetime\n",
    "\n",
    "import contractions"
   ]
  },
  {
   "cell_type": "code",
   "execution_count": 2,
   "id": "a5f83468",
   "metadata": {},
   "outputs": [
    {
     "name": "stdout",
     "output_type": "stream",
     "text": [
      "INFO: Pandarallel will run on 8 workers.\n",
      "INFO: Pandarallel will use standard multiprocessing data transfer (pipe) to transfer data between the main process and workers.\n",
      "\n",
      "WARNING: You are on Windows. If you detect any issue with pandarallel, be sure you checked out the Troubleshooting page:\n",
      "https://nalepae.github.io/pandarallel/troubleshooting/\n"
     ]
    }
   ],
   "source": [
    "pandarallel.initialize()"
   ]
  },
  {
   "cell_type": "code",
   "execution_count": 3,
   "id": "71d2ff29",
   "metadata": {},
   "outputs": [],
   "source": [
    "stop = stopwords.words('english') # Set of stopwords\n",
    "\n",
    "words = set(nltk.corpus.words.words()) # Set of meaniningful words"
   ]
  },
  {
   "cell_type": "markdown",
   "id": "e85507fb",
   "metadata": {},
   "source": [
    "### Data Load"
   ]
  },
  {
   "cell_type": "code",
   "execution_count": 4,
   "id": "8526e047",
   "metadata": {},
   "outputs": [],
   "source": [
    "df_reviews = pd.read_json('IMDB_reviews.json', lines=True) "
   ]
  },
  {
   "cell_type": "code",
   "execution_count": 5,
   "id": "202400d1",
   "metadata": {},
   "outputs": [
    {
     "name": "stdout",
     "output_type": "stream",
     "text": [
      "User reviews shape:  (573913, 7)\n"
     ]
    }
   ],
   "source": [
    "# Print datasets shape\n",
    "print('User reviews shape: ', df_reviews.shape)"
   ]
  },
  {
   "cell_type": "code",
   "execution_count": 6,
   "id": "cf18085b",
   "metadata": {},
   "outputs": [
    {
     "data": {
      "text/html": [
       "<div>\n",
       "<style scoped>\n",
       "    .dataframe tbody tr th:only-of-type {\n",
       "        vertical-align: middle;\n",
       "    }\n",
       "\n",
       "    .dataframe tbody tr th {\n",
       "        vertical-align: top;\n",
       "    }\n",
       "\n",
       "    .dataframe thead th {\n",
       "        text-align: right;\n",
       "    }\n",
       "</style>\n",
       "<table border=\"1\" class=\"dataframe\">\n",
       "  <thead>\n",
       "    <tr style=\"text-align: right;\">\n",
       "      <th></th>\n",
       "      <th>review_date</th>\n",
       "      <th>movie_id</th>\n",
       "      <th>user_id</th>\n",
       "      <th>is_spoiler</th>\n",
       "      <th>review_text</th>\n",
       "      <th>rating</th>\n",
       "      <th>review_summary</th>\n",
       "    </tr>\n",
       "  </thead>\n",
       "  <tbody>\n",
       "    <tr>\n",
       "      <th>0</th>\n",
       "      <td>10 February 2006</td>\n",
       "      <td>tt0111161</td>\n",
       "      <td>ur1898687</td>\n",
       "      <td>True</td>\n",
       "      <td>In its Oscar year, Shawshank Redemption (writt...</td>\n",
       "      <td>10</td>\n",
       "      <td>A classic piece of unforgettable film-making.</td>\n",
       "    </tr>\n",
       "    <tr>\n",
       "      <th>1</th>\n",
       "      <td>6 September 2000</td>\n",
       "      <td>tt0111161</td>\n",
       "      <td>ur0842118</td>\n",
       "      <td>True</td>\n",
       "      <td>The Shawshank Redemption is without a doubt on...</td>\n",
       "      <td>10</td>\n",
       "      <td>Simply amazing. The best film of the 90's.</td>\n",
       "    </tr>\n",
       "    <tr>\n",
       "      <th>2</th>\n",
       "      <td>3 August 2001</td>\n",
       "      <td>tt0111161</td>\n",
       "      <td>ur1285640</td>\n",
       "      <td>True</td>\n",
       "      <td>I believe that this film is the best story eve...</td>\n",
       "      <td>8</td>\n",
       "      <td>The best story ever told on film</td>\n",
       "    </tr>\n",
       "    <tr>\n",
       "      <th>3</th>\n",
       "      <td>1 September 2002</td>\n",
       "      <td>tt0111161</td>\n",
       "      <td>ur1003471</td>\n",
       "      <td>True</td>\n",
       "      <td>**Yes, there are SPOILERS here**This film has ...</td>\n",
       "      <td>10</td>\n",
       "      <td>Busy dying or busy living?</td>\n",
       "    </tr>\n",
       "    <tr>\n",
       "      <th>4</th>\n",
       "      <td>20 May 2004</td>\n",
       "      <td>tt0111161</td>\n",
       "      <td>ur0226855</td>\n",
       "      <td>True</td>\n",
       "      <td>At the heart of this extraordinary movie is a ...</td>\n",
       "      <td>8</td>\n",
       "      <td>Great story, wondrously told and acted</td>\n",
       "    </tr>\n",
       "  </tbody>\n",
       "</table>\n",
       "</div>"
      ],
      "text/plain": [
       "        review_date   movie_id    user_id  is_spoiler  \\\n",
       "0  10 February 2006  tt0111161  ur1898687        True   \n",
       "1  6 September 2000  tt0111161  ur0842118        True   \n",
       "2     3 August 2001  tt0111161  ur1285640        True   \n",
       "3  1 September 2002  tt0111161  ur1003471        True   \n",
       "4       20 May 2004  tt0111161  ur0226855        True   \n",
       "\n",
       "                                         review_text  rating  \\\n",
       "0  In its Oscar year, Shawshank Redemption (writt...      10   \n",
       "1  The Shawshank Redemption is without a doubt on...      10   \n",
       "2  I believe that this film is the best story eve...       8   \n",
       "3  **Yes, there are SPOILERS here**This film has ...      10   \n",
       "4  At the heart of this extraordinary movie is a ...       8   \n",
       "\n",
       "                                  review_summary  \n",
       "0  A classic piece of unforgettable film-making.  \n",
       "1     Simply amazing. The best film of the 90's.  \n",
       "2               The best story ever told on film  \n",
       "3                     Busy dying or busy living?  \n",
       "4         Great story, wondrously told and acted  "
      ]
     },
     "execution_count": 6,
     "metadata": {},
     "output_type": "execute_result"
    }
   ],
   "source": [
    "# Get an idea about the reviews dataset\n",
    "df_reviews.head()"
   ]
  },
  {
   "cell_type": "code",
   "execution_count": 19,
   "id": "3a603bcf",
   "metadata": {},
   "outputs": [
    {
     "data": {
      "text/html": [
       "<div>\n",
       "<style scoped>\n",
       "    .dataframe tbody tr th:only-of-type {\n",
       "        vertical-align: middle;\n",
       "    }\n",
       "\n",
       "    .dataframe tbody tr th {\n",
       "        vertical-align: top;\n",
       "    }\n",
       "\n",
       "    .dataframe thead th {\n",
       "        text-align: right;\n",
       "    }\n",
       "</style>\n",
       "<table border=\"1\" class=\"dataframe\">\n",
       "  <thead>\n",
       "    <tr style=\"text-align: right;\">\n",
       "      <th></th>\n",
       "      <th>review_date</th>\n",
       "      <th>movie_id</th>\n",
       "      <th>user_id</th>\n",
       "      <th>is_spoiler</th>\n",
       "      <th>review_text</th>\n",
       "      <th>rating</th>\n",
       "      <th>review_summary</th>\n",
       "    </tr>\n",
       "  </thead>\n",
       "  <tbody>\n",
       "    <tr>\n",
       "      <th>112052</th>\n",
       "      <td>9 September 2017</td>\n",
       "      <td>tt1536537</td>\n",
       "      <td>ur24039506</td>\n",
       "      <td>False</td>\n",
       "      <td>The main question bothered me throughout all m...</td>\n",
       "      <td>9</td>\n",
       "      <td>Breedingwood</td>\n",
       "    </tr>\n",
       "    <tr>\n",
       "      <th>265585</th>\n",
       "      <td>9 September 2017</td>\n",
       "      <td>tt1396484</td>\n",
       "      <td>ur56441196</td>\n",
       "      <td>False</td>\n",
       "      <td>Dare I say it, the cheesy 1990 mini-series is ...</td>\n",
       "      <td>5</td>\n",
       "      <td>Disappointing</td>\n",
       "    </tr>\n",
       "    <tr>\n",
       "      <th>84030</th>\n",
       "      <td>9 September 2017</td>\n",
       "      <td>tt3011894</td>\n",
       "      <td>ur80261008</td>\n",
       "      <td>False</td>\n",
       "      <td>6 stories, 6 lifes, all connected by two thing...</td>\n",
       "      <td>8</td>\n",
       "      <td>Evolution of humanity</td>\n",
       "    </tr>\n",
       "    <tr>\n",
       "      <th>265664</th>\n",
       "      <td>9 September 2017</td>\n",
       "      <td>tt1396484</td>\n",
       "      <td>ur25709856</td>\n",
       "      <td>False</td>\n",
       "      <td>OK so firstly I see myself as a horror fan and...</td>\n",
       "      <td>4</td>\n",
       "      <td>Things really do float down here. Like this TURD</td>\n",
       "    </tr>\n",
       "    <tr>\n",
       "      <th>265659</th>\n",
       "      <td>9 September 2017</td>\n",
       "      <td>tt1396484</td>\n",
       "      <td>ur3081887</td>\n",
       "      <td>False</td>\n",
       "      <td>I just don't know. This was a well directed fi...</td>\n",
       "      <td>2</td>\n",
       "      <td>Not sure why but didn't enjoy it at all after ...</td>\n",
       "    </tr>\n",
       "    <tr>\n",
       "      <th>...</th>\n",
       "      <td>...</td>\n",
       "      <td>...</td>\n",
       "      <td>...</td>\n",
       "      <td>...</td>\n",
       "      <td>...</td>\n",
       "      <td>...</td>\n",
       "      <td>...</td>\n",
       "    </tr>\n",
       "    <tr>\n",
       "      <th>510797</th>\n",
       "      <td>1 April 1999</td>\n",
       "      <td>tt0111282</td>\n",
       "      <td>ur0149753</td>\n",
       "      <td>False</td>\n",
       "      <td>\"Stargate\" the movie is one of those Saturday ...</td>\n",
       "      <td>7</td>\n",
       "      <td>A harmless way to pass a couple of hours</td>\n",
       "    </tr>\n",
       "    <tr>\n",
       "      <th>514058</th>\n",
       "      <td>1 April 1999</td>\n",
       "      <td>tt0114369</td>\n",
       "      <td>ur0254390</td>\n",
       "      <td>False</td>\n",
       "      <td>This is one of the more memorable films I ever...</td>\n",
       "      <td>10</td>\n",
       "      <td>Come join the Dark Side</td>\n",
       "    </tr>\n",
       "    <tr>\n",
       "      <th>546856</th>\n",
       "      <td>1 April 1999</td>\n",
       "      <td>tt0120863</td>\n",
       "      <td>ur0283047</td>\n",
       "      <td>False</td>\n",
       "      <td>There are few things I regret in life, however...</td>\n",
       "      <td>1</td>\n",
       "      <td>Time is a very valuable gift.</td>\n",
       "    </tr>\n",
       "    <tr>\n",
       "      <th>479465</th>\n",
       "      <td>1 April 1999</td>\n",
       "      <td>tt0099685</td>\n",
       "      <td>ur0276960</td>\n",
       "      <td>False</td>\n",
       "      <td>GoodFellas is so good for so many reasons. The...</td>\n",
       "      <td>10</td>\n",
       "      <td>The Best Mob Movie Ever!</td>\n",
       "    </tr>\n",
       "    <tr>\n",
       "      <th>495156</th>\n",
       "      <td>1 April 1999</td>\n",
       "      <td>tt0106308</td>\n",
       "      <td>ur0219531</td>\n",
       "      <td>False</td>\n",
       "      <td>For all of those people who say that the speci...</td>\n",
       "      <td>9</td>\n",
       "      <td>A+</td>\n",
       "    </tr>\n",
       "  </tbody>\n",
       "</table>\n",
       "<p>573913 rows × 7 columns</p>\n",
       "</div>"
      ],
      "text/plain": [
       "             review_date   movie_id     user_id  is_spoiler  \\\n",
       "112052  9 September 2017  tt1536537  ur24039506       False   \n",
       "265585  9 September 2017  tt1396484  ur56441196       False   \n",
       "84030   9 September 2017  tt3011894  ur80261008       False   \n",
       "265664  9 September 2017  tt1396484  ur25709856       False   \n",
       "265659  9 September 2017  tt1396484   ur3081887       False   \n",
       "...                  ...        ...         ...         ...   \n",
       "510797      1 April 1999  tt0111282   ur0149753       False   \n",
       "514058      1 April 1999  tt0114369   ur0254390       False   \n",
       "546856      1 April 1999  tt0120863   ur0283047       False   \n",
       "479465      1 April 1999  tt0099685   ur0276960       False   \n",
       "495156      1 April 1999  tt0106308   ur0219531       False   \n",
       "\n",
       "                                              review_text  rating  \\\n",
       "112052  The main question bothered me throughout all m...       9   \n",
       "265585  Dare I say it, the cheesy 1990 mini-series is ...       5   \n",
       "84030   6 stories, 6 lifes, all connected by two thing...       8   \n",
       "265664  OK so firstly I see myself as a horror fan and...       4   \n",
       "265659  I just don't know. This was a well directed fi...       2   \n",
       "...                                                   ...     ...   \n",
       "510797  \"Stargate\" the movie is one of those Saturday ...       7   \n",
       "514058  This is one of the more memorable films I ever...      10   \n",
       "546856  There are few things I regret in life, however...       1   \n",
       "479465  GoodFellas is so good for so many reasons. The...      10   \n",
       "495156  For all of those people who say that the speci...       9   \n",
       "\n",
       "                                           review_summary  \n",
       "112052                                       Breedingwood  \n",
       "265585                                      Disappointing  \n",
       "84030                               Evolution of humanity  \n",
       "265664   Things really do float down here. Like this TURD  \n",
       "265659  Not sure why but didn't enjoy it at all after ...  \n",
       "...                                                   ...  \n",
       "510797           A harmless way to pass a couple of hours  \n",
       "514058                            Come join the Dark Side  \n",
       "546856                      Time is a very valuable gift.  \n",
       "479465                           The Best Mob Movie Ever!  \n",
       "495156                                                 A+  \n",
       "\n",
       "[573913 rows x 7 columns]"
      ]
     },
     "execution_count": 19,
     "metadata": {},
     "output_type": "execute_result"
    }
   ],
   "source": [
    "df_reviews.sort_values(by='review_date', ascending =False)"
   ]
  },
  {
   "cell_type": "code",
   "execution_count": 7,
   "id": "bac31ce2",
   "metadata": {},
   "outputs": [
    {
     "name": "stdout",
     "output_type": "stream",
     "text": [
      "<class 'pandas.core.frame.DataFrame'>\n",
      "RangeIndex: 573913 entries, 0 to 573912\n",
      "Data columns (total 7 columns):\n",
      " #   Column          Non-Null Count   Dtype \n",
      "---  ------          --------------   ----- \n",
      " 0   review_date     573913 non-null  object\n",
      " 1   movie_id        573913 non-null  object\n",
      " 2   user_id         573913 non-null  object\n",
      " 3   is_spoiler      573913 non-null  bool  \n",
      " 4   review_text     573913 non-null  object\n",
      " 5   rating          573913 non-null  int64 \n",
      " 6   review_summary  573913 non-null  object\n",
      "dtypes: bool(1), int64(1), object(5)\n",
      "memory usage: 26.8+ MB\n"
     ]
    }
   ],
   "source": [
    "# Analyze the type of the columns and non-null values of them\n",
    "df_reviews.info()"
   ]
  },
  {
   "cell_type": "markdown",
   "id": "aa8ee914",
   "metadata": {},
   "source": [
    "### EDA"
   ]
  },
  {
   "cell_type": "markdown",
   "id": "cc46c528",
   "metadata": {},
   "source": [
    "Data Distribution"
   ]
  },
  {
   "cell_type": "code",
   "execution_count": 8,
   "id": "5b00518a",
   "metadata": {},
   "outputs": [
    {
     "name": "stdout",
     "output_type": "stream",
     "text": [
      "Percentage distribution in the dataset of spoilers and not spoilers \n",
      "\n",
      "False    73.7\n",
      "True     26.3\n",
      "Name: is_spoiler, dtype: float64\n"
     ]
    },
    {
     "data": {
      "image/png": "[encoded data removed]",
      "text/plain": [
       "<Figure size 432x288 with 1 Axes>"
      ]
     },
     "metadata": {
      "needs_background": "light"
     },
     "output_type": "display_data"
    }
   ],
   "source": [
    "print('Percentage distribution in the dataset of spoilers and not spoilers \\n')\n",
    "\n",
    "# Compute distribution between classes\n",
    "print(round(df_reviews.is_spoiler.value_counts(normalize=True)*100,2)) \n",
    "# Plot distribution between classes \n",
    "round(df_reviews.is_spoiler.value_counts(normalize=True)*100,2).plot(kind='bar')\n",
    "\n",
    "plt.title('Distributions')\n",
    "plt.show()"
   ]
  },
  {
   "cell_type": "markdown",
   "id": "7a2b6146",
   "metadata": {},
   "source": [
    "Missing Value"
   ]
  },
  {
   "cell_type": "code",
   "execution_count": 9,
   "id": "efcf5f6c",
   "metadata": {},
   "outputs": [
    {
     "name": "stdout",
     "output_type": "stream",
     "text": [
      "                Count  Percentage\n",
      "review_date         0         0.0\n",
      "movie_id            0         0.0\n",
      "user_id             0         0.0\n",
      "is_spoiler          0         0.0\n",
      "review_text         0         0.0\n",
      "rating              0         0.0\n",
      "review_summary      0         0.0\n"
     ]
    }
   ],
   "source": [
    "# Count missing values for each column\n",
    "count = df_reviews.isnull().sum().sort_values(ascending=False)\n",
    "\n",
    "# Compute percentage \n",
    "percentage = ((df_reviews.isnull().sum()/len(df_reviews)*100)).sort_values(ascending=False)\n",
    "\n",
    "# Concatenate count and percentage arrays and print them \n",
    "missing_data = pd.concat([count,percentage],axis=1, keys=['Count','Percentage'])\n",
    "\n",
    "print(missing_data)"
   ]
  },
  {
   "cell_type": "code",
   "execution_count": 10,
   "id": "96b99685",
   "metadata": {},
   "outputs": [
    {
     "data": {
      "image/png": "[encoded data removed]",
      "text/plain": [
       "<Figure size 432x288 with 1 Axes>"
      ]
     },
     "metadata": {
      "needs_background": "light"
     },
     "output_type": "display_data"
    }
   ],
   "source": [
    "group = df_reviews.groupby('rating') # Groupby rating\n",
    " # Get only the spoiler reviews and group them by rating\n",
    "group_is_spoiler = df_reviews[df_reviews['is_spoiler'] == True].groupby('rating')\n",
    "tot_review_for_vote = group.size() # Get the number of reviews foreach vote\n",
    "tot_spoiler_for_vote = group_is_spoiler.size() # Get the number of spoiler review foreach vote\n",
    "percentage = ((tot_spoiler_for_vote / tot_review_for_vote) * 100) # Compute the %\n",
    "\n",
    "# Print % graph\n",
    "\n",
    "y_axis = ['1', '2', '3', '4', '5', '6','7','8','9','10']\n",
    "x_axis = percentage.tolist()\n",
    "\n",
    "plt.barh(y_axis,x_axis,color=['red','cyan','blue','purple','lime','magenta','orange','brown','silver','Green'])\n",
    "plt.xlim(0,100)\n",
    "plt.title('Percentage of spoiler reviews per rating')\n",
    "plt.ylabel('Ratings')\n",
    "plt.xlabel('Percentages')\n",
    "plt.show()"
   ]
  },
  {
   "cell_type": "markdown",
   "id": "044d75e2",
   "metadata": {},
   "source": [
    "Checking spoiler distribution for some selected words"
   ]
  },
  {
   "cell_type": "code",
   "execution_count": 11,
   "id": "83f883c8",
   "metadata": {},
   "outputs": [],
   "source": [
    "def compare_review_by_word(word,df_reviews):\n",
    "    \n",
    "    # Create the name for the column that will be added to the dataset\n",
    "    column_name = 'contains_word_' + word \n",
    "    # Filtering reviews that contains the word \"word\"\n",
    "    df_reviews[column_name] = df_reviews['review_text'].apply(lambda x: word.lower() in x.lower()) \n",
    "    \n",
    "    # Count the number of reviews that contains the word \"word\"\n",
    "    n_reviews_with_word = df_reviews[df_reviews[column_name] == True].shape[0]\n",
    "    # Count the number of reviews that are spoiler and contains the word \"word\"\n",
    "    spoilers_with_word = df_reviews[(df_reviews['is_spoiler'] == True) & (df_reviews[column_name] == True)].shape[0]\n",
    "    # Count the number of reviews that are NOT spoiler and contains the word \"word\"\n",
    "    not_spoilers_with_word = df_reviews[(df_reviews['is_spoiler'] == False) & (df_reviews[column_name] == True)].shape[0]\n",
    "    # Count the number of spoilers in total\n",
    "    total_spoilers = df_reviews[(df_reviews['is_spoiler'] == True)].shape[0]\n",
    "    \n",
    "    print(\"Spoiler reviews that contain the word \" + word + \": \" + str(spoilers_with_word))\n",
    "    print(\"Not spoiler reviews that contain the word \" + word + \": \" + str(not_spoilers_with_word))\n",
    "    print(\"Total number of spoiler reviews: \" + str(total_spoilers))\n",
    "    print(\"\\n--------------------------------------------------------------- \\n\")\n",
    "    \n",
    "    # -------------------------------- #\n",
    "    \n",
    "    # Plot the graphs \n",
    "    \n",
    "    fig, (ax1,ax2) = plt.subplots(1,2,figsize=(15,15)) #ax1,ax2 refer to your two pies\n",
    "    fig.tight_layout(pad = 10.0)\n",
    "    \n",
    "    # Graph that compare the number of reviews that are spoiler/not spoiler and contains the word \"word\"\n",
    "    labels = [\"Spoiler\", \"Not spoiler\"]\n",
    "    values = np.array([(spoilers_with_word/n_reviews_with_word)*100,(not_spoilers_with_word/n_reviews_with_word)*100 ])\n",
    "    ax1.pie(values,labels = labels,colors = ['#ff6361','#ffa600'],autopct='%1.2f%%') #plot first pie\n",
    "    ax1.set_title('Reviews containing the word ' + word)\n",
    "\n",
    "    # Graph that compare the number of reviews in total that contains/not contains the word \"word\" \n",
    "    labels = [\"Containing the word \" + word, \"Not containing the word \" + word]\n",
    "    values = np.array([(spoilers_with_word/total_spoilers)*100,((total_spoilers - spoilers_with_word)/total_spoilers)*100 ])\n",
    "    ax2.pie(values,labels = labels,colors = ['#ff6361', '#77B1E0'],autopct = '%1.2f%%') #plot second pie\n",
    "    ax2.set_title('Spoiler reviews')\n",
    "\n",
    "    # Remove the column created\n",
    "    df_reviews = df_reviews.drop([column_name], axis=1)\n",
    "    \n",
    "    return df_reviews"
   ]
  },
  {
   "cell_type": "code",
   "execution_count": 12,
   "id": "e13ea201",
   "metadata": {
    "scrolled": false
   },
   "outputs": [
    {
     "name": "stdout",
     "output_type": "stream",
     "text": [
      "Spoiler reviews that contain the word spoiler: 19018\n",
      "Not spoiler reviews that contain the word spoiler: 7418\n",
      "Total number of spoiler reviews: 150924\n",
      "\n",
      "--------------------------------------------------------------- \n",
      "\n",
      "Spoiler reviews that contain the word die: 48060\n",
      "Not spoiler reviews that contain the word die: 92520\n",
      "Total number of spoiler reviews: 150924\n",
      "\n",
      "--------------------------------------------------------------- \n",
      "\n",
      "Spoiler reviews that contain the word win: 47468\n",
      "Not spoiler reviews that contain the word win: 96692\n",
      "Total number of spoiler reviews: 150924\n",
      "\n",
      "--------------------------------------------------------------- \n",
      "\n"
     ]
    },
    {
     "data": {
      "image/png": "[encoded data removed]",
      "text/plain": [
       "<Figure size 1080x1080 with 2 Axes>"
      ]
     },
     "metadata": {},
     "output_type": "display_data"
    },
    {
     "data": {
      "image/png": "[encoded data removed]",
      "text/plain": [
       "<Figure size 1080x1080 with 2 Axes>"
      ]
     },
     "metadata": {},
     "output_type": "display_data"
    },
    {
     "data": {
      "image/png": "[encoded data removed]",
      "text/plain": [
       "<Figure size 1080x1080 with 2 Axes>"
      ]
     },
     "metadata": {},
     "output_type": "display_data"
    }
   ],
   "source": [
    "# Plot the pies for words \"spoiler\", \"die\" and \"win\".\n",
    "df_reviews = compare_review_by_word('spoiler',df_reviews)\n",
    "df_reviews = compare_review_by_word('die',df_reviews)\n",
    "df_reviews = compare_review_by_word('win',df_reviews)"
   ]
  },
  {
   "cell_type": "markdown",
   "id": "ea9de9c3",
   "metadata": {},
   "source": [
    "Average number of words for spoiler and not spoiler reviews\n",
    "- We have analyzed if the review length is a discriminant respect to the spoiler label. We have found that in average the number of words used in the spoiler review is higher than in not spoiler reviews."
   ]
  },
  {
   "cell_type": "code",
   "execution_count": 13,
   "id": "1d7a7747",
   "metadata": {},
   "outputs": [
    {
     "name": "stdout",
     "output_type": "stream",
     "text": [
      "avg words for spoiler reviews: 335\n",
      "avg words for not spoiler reviews: 232\n"
     ]
    },
    {
     "data": {
      "image/png": "[encoded data removed]",
      "text/plain": [
       "<Figure size 432x288 with 1 Axes>"
      ]
     },
     "metadata": {
      "needs_background": "light"
     },
     "output_type": "display_data"
    }
   ],
   "source": [
    "# Compute the number of words foreach review\n",
    "df_reviews['number_of_words_in_review'] = df_reviews['review_text'].apply(lambda x: len(x.split(\" \")))\n",
    "\n",
    "# Compute the mean for spoiler and not spoiler reviews\n",
    "avg_length_of_spoilers = df_reviews.groupby('is_spoiler').mean()['number_of_words_in_review']\n",
    "\n",
    "# Print values\n",
    "print('avg words for spoiler reviews: ' + str('{:.0f}'.format(avg_length_of_spoilers[1])))\n",
    "print('avg words for not spoiler reviews: ' + str('{:.0f}'.format(avg_length_of_spoilers[0])))\n",
    "\n",
    "# ---- PLOT ----- #\n",
    "\n",
    "plt.bar('Spoiler', avg_length_of_spoilers[0])\n",
    "plt.bar('Not Spoiler', avg_length_of_spoilers[1])\n",
    "\n",
    "plt.ylabel('Avg number of words per review')\n",
    "\n",
    "plt.show()\n",
    "\n",
    "# Remove the column created\n",
    "df_reviews = df_reviews.drop(['number_of_words_in_review'], axis=1)"
   ]
  },
  {
   "cell_type": "code",
   "execution_count": 14,
   "id": "362b9015",
   "metadata": {},
   "outputs": [],
   "source": [
    "df_reviews_dataset = df_reviews"
   ]
  },
  {
   "cell_type": "markdown",
   "id": "431721a7",
   "metadata": {},
   "source": [
    "### Data Preprocessing"
   ]
  },
  {
   "cell_type": "code",
   "execution_count": 15,
   "id": "be8debf5",
   "metadata": {},
   "outputs": [],
   "source": [
    "from nltk.tokenize import sent_tokenize"
   ]
  },
  {
   "cell_type": "code",
   "execution_count": 16,
   "id": "d21da277",
   "metadata": {},
   "outputs": [],
   "source": [
    "df_reviews_dataset['review_text'] = df_reviews_dataset['review_text'].apply(str)\n",
    "\n",
    "df_reviews_dataset['review_text_count'] = df_reviews_dataset['review_text'].apply(sent_tokenize).tolist()\n",
    "df_reviews_dataset['review_text_count'] = df_reviews_dataset['review_text_count'].apply(len)\n",
    "\n",
    "df_reviews_dataset = df_reviews_dataset[df_reviews_dataset['review_text_count'] < 10]"
   ]
  },
  {
   "cell_type": "code",
   "execution_count": 17,
   "id": "a72931da",
   "metadata": {},
   "outputs": [
    {
     "data": {
      "text/plain": [
       "279670"
      ]
     },
     "execution_count": 17,
     "metadata": {},
     "output_type": "execute_result"
    }
   ],
   "source": [
    "len(df_reviews_dataset)"
   ]
  },
  {
   "cell_type": "markdown",
   "id": "d0c9460d",
   "metadata": {},
   "source": [
    "Data Cleaning"
   ]
  },
  {
   "cell_type": "code",
   "execution_count": 18,
   "id": "f5729602",
   "metadata": {},
   "outputs": [],
   "source": [
    "# Remove links from text\n",
    "def remove_links(text):\n",
    "    \"\"\"\n",
    "    This function will remove links from the \n",
    "    text contained within the Dataset.\n",
    "       \n",
    "    arguments:\n",
    "        input_text: \"text\" of type \"String\". \n",
    "                    \n",
    "    return:\n",
    "        value: \"text\" with removed links. \n",
    "    \"\"\"\n",
    "    \n",
    "    text = re.sub(r'http\\S+', '', text)\n",
    "    return text"
   ]
  },
  {
   "cell_type": "code",
   "execution_count": 19,
   "id": "b05e028a",
   "metadata": {},
   "outputs": [],
   "source": [
    "# Remove accented characters\n",
    "def accented_characters_removal(text):\n",
    "    \"\"\"\n",
    "    This function will remove accented characters from the \n",
    "    text contained within the Dataset.\n",
    "       \n",
    "    arguments:\n",
    "        input_text: \"text\" of type \"String\". \n",
    "                    \n",
    "    return:\n",
    "        value: \"text\" with removed accented characters.  \n",
    "    \"\"\"\n",
    "    \n",
    "    # Unidecode() - It takes unicode data & tries to represent it to ASCII characters. \n",
    "    text = unidecode.unidecode(text) \n",
    "    \n",
    "    return text"
   ]
  },
  {
   "cell_type": "code",
   "execution_count": 20,
   "id": "d941247c",
   "metadata": {},
   "outputs": [],
   "source": [
    "# Remove repeated characters and punctuations\n",
    "def reducing_incorrect_character_repeatation(text):\n",
    "    \"\"\"\n",
    "    This Function will reduce repeatition to two characters \n",
    "    for alphabets and to one character for punctuations.\n",
    "    \n",
    "    arguments:\n",
    "         input_text: \"text\" of type \"String\".\n",
    "         \n",
    "    return:\n",
    "        value: Finally formatted text with alphabets repeating to \n",
    "        two characters & punctuations limited to one repeatition \n",
    "    \"\"\"\n",
    "    \n",
    "    # Pattern matching for all case alphabets\n",
    "    Pattern_alpha = re.compile(r\"([A-Za-z])\\1{1,}\", re.DOTALL)\n",
    "    \n",
    "    # Limiting all the  repeatation to two characters.\n",
    "    Formatted_text = Pattern_alpha.sub(r\"\\1\\1\", text) \n",
    "    \n",
    "    # Pattern matching for all the punctuations that can occur\n",
    "    Pattern_Punct = re.compile(r'([.,/#!$%^&*?;:{}=_`~()+-])\\1{1,}')\n",
    "    \n",
    "    # Limiting punctuations in previously formatted string to only one.\n",
    "    Combined_Formatted = Pattern_Punct.sub(r'\\1', Formatted_text)\n",
    "    \n",
    "    # The below statement is replacing repeatation of spaces that occur more than two times with that of one occurrence.\n",
    "    Final_Formatted = re.sub(' {2,}',' ', Combined_Formatted)\n",
    "    \n",
    "    return Final_Formatted"
   ]
  },
  {
   "cell_type": "code",
   "execution_count": 21,
   "id": "c0bb38a2",
   "metadata": {},
   "outputs": [],
   "source": [
    "# Expand contraction words\n",
    "def expand_contractions(text):\n",
    "    \"\"\"\n",
    "    This Function will expands contractions in words.\n",
    "    \n",
    "    arguments:\n",
    "         input_text: \"text\" of type \"String\".\n",
    "         \n",
    "    return:\n",
    "        value: \"text\" with expanded contractions .  \n",
    "    \"\"\"\n",
    "    \n",
    "    # creating an empty list\n",
    "    expanded_words = []    \n",
    "    for word in text.split():\n",
    "      # using contractions.fix to expand the shotened words\n",
    "      expanded_words.append(contractions.fix(word)) \n",
    "    \n",
    "    String_Of_tokens = ' '.join(expanded_words)\n",
    "    \n",
    "    return String_Of_tokens"
   ]
  },
  {
   "cell_type": "code",
   "execution_count": 22,
   "id": "f7667bbe",
   "metadata": {},
   "outputs": [],
   "source": [
    "# Remove special characters\n",
    "def removing_special_characters(text):\n",
    "    \"\"\"\n",
    "    This Function will remove special characters (including punctualization).\n",
    "    \n",
    "    arguments:\n",
    "         input_text: \"text\" of type \"String\".\n",
    "         \n",
    "    return:\n",
    "        value: \"text\" with special characters removed.  \n",
    "    \"\"\"\n",
    "    \n",
    "    pattern = r\"[^a-zA-Z]\"\n",
    "    text = re.sub(pattern,' ', text)\n",
    "    \n",
    "    return text"
   ]
  },
  {
   "cell_type": "code",
   "execution_count": 23,
   "id": "d2bc2b83",
   "metadata": {},
   "outputs": [],
   "source": [
    "port_stemmer = PorterStemmer() # Creating the stemmer\n",
    "\n",
    "# Apply Stemming, remove stopwords, remove meaninglessWords\n",
    "def stemming_stopwords_meaninglessWords(text):\n",
    "    \"\"\"\n",
    "    This Function will remove meaningless words, stopwords and apply stemming.\n",
    "    \n",
    "    arguments:\n",
    "         input_text: \"text\" of type \"String\".\n",
    "         \n",
    "    return:\n",
    "        value: \"text\" with meaningless and stopwords removed, stemming applied. \n",
    "    \"\"\"\n",
    "\n",
    "    tokens = word_tokenize(text) # Tokenizing the text \n",
    "    \n",
    "    text_1 = ' '.join([\n",
    "        port_stemmer.stem(token) for token in tokens if token not in stop and singularize(token) in words])\n",
    "    \n",
    "    text_2 = ' '.join([\n",
    "        singularize(token) for token in tokens if token not in stop and singularize(token) in words\n",
    "        ]) \n",
    "        \n",
    "    return text_1, text_2"
   ]
  },
  {
   "cell_type": "code",
   "execution_count": 24,
   "id": "273e2457",
   "metadata": {},
   "outputs": [],
   "source": [
    "# Text cleaning\n",
    "\n",
    "def text_clean(text):\n",
    "    \n",
    "    text = text.lower()\n",
    "    \n",
    "    text = remove_links(text)\n",
    "    \n",
    "    text = expand_contractions(text)\n",
    "    \n",
    "    text = accented_characters_removal(text)\n",
    "    \n",
    "    text = removing_special_characters(text)\n",
    "\n",
    "    text = reducing_incorrect_character_repeatation(text)\n",
    "    \n",
    "    text_1, text_2 = stemming_stopwords_meaninglessWords(text)\n",
    "    \n",
    "    return text_1, text_2"
   ]
  },
  {
   "cell_type": "code",
   "execution_count": 25,
   "id": "e399066f",
   "metadata": {},
   "outputs": [
    {
     "name": "stdout",
     "output_type": "stream",
     "text": [
      "--- Initial text example ---\n",
      "http://google.com this IS treee okk test fòr text cleaning, isn't it  dsiadohaspidnpas anomalies ? \n",
      "\n",
      "--- Lower function ---\n",
      "http://google.com this is treee okk test fòr text cleaning, isn't it  dsiadohaspidnpas anomalies ? \n",
      "\n",
      "--- Remove_Links function ---\n",
      " this is treee okk test fòr text cleaning, isn't it  dsiadohaspidnpas anomalies ? \n",
      "\n",
      "--- Remove_Links function ---\n",
      "this is treee okk test fòr text cleaning, is not it dsiadohaspidnpas anomalies ? \n",
      "\n",
      "--- Remove_Accented_Characters function ---\n",
      "this is treee okk test for text cleaning, is not it dsiadohaspidnpas anomalies ? \n",
      "\n",
      "--- Remove_Special_Characters function ---\n",
      "this is treee okk test for text cleaning  is not it dsiadohaspidnpas anomalies   \n",
      "\n",
      "--- Reduce_Incorrect_Character_Repeatation function ---\n",
      "this is tree okk test for text cleaning is not it dsiadohaspidnpas anomalies  \n",
      "\n",
      "--- Remove stopwords_meaningLessWord and apply stemming function ---\n",
      "tree test text clean anomali \n",
      "\n",
      "--- Remove stopwords_meaningLessWord function -> Don't apply stemming ---\n",
      "tree test text cleaning anomaly \n",
      "\n"
     ]
    }
   ],
   "source": [
    "# Example of text cleaning\n",
    "\n",
    "example_text = \"http://google.com this IS treee okk test fòr text cleaning, isn't it  dsiadohaspidnpas anomalies ?\"\n",
    "\n",
    "print(\"--- Initial text example ---\")\n",
    "print(example_text,\"\\n\")\n",
    "\n",
    "print(\"--- Lower function ---\")\n",
    "example_text = example_text.lower()\n",
    "print(example_text,\"\\n\")\n",
    "\n",
    "print(\"--- Remove_Links function ---\")\n",
    "example_text = remove_links(example_text)\n",
    "print(example_text,\"\\n\")\n",
    "\n",
    "print(\"--- Remove_Links function ---\")\n",
    "example_text = expand_contractions(example_text)\n",
    "print(example_text,\"\\n\")\n",
    "\n",
    "print(\"--- Remove_Accented_Characters function ---\")\n",
    "example_text = accented_characters_removal(example_text)\n",
    "print(example_text,\"\\n\")\n",
    "\n",
    "print(\"--- Remove_Special_Characters function ---\")\n",
    "example_text = removing_special_characters(example_text)\n",
    "print(example_text,\"\\n\")\n",
    "\n",
    "print(\"--- Reduce_Incorrect_Character_Repeatation function ---\")\n",
    "example_text = reducing_incorrect_character_repeatation(example_text)\n",
    "print(example_text,\"\\n\")\n",
    "\n",
    "example_text_1, example_text_2 = stemming_stopwords_meaninglessWords(example_text)\n",
    "\n",
    "print(\"--- Remove stopwords_meaningLessWord and apply stemming function ---\")\n",
    "print(example_text_1,\"\\n\")\n",
    "\n",
    "print(\"--- Remove stopwords_meaningLessWord function -> Don't apply stemming ---\")\n",
    "print(example_text_2,\"\\n\")"
   ]
  },
  {
   "cell_type": "code",
   "execution_count": 26,
   "id": "54491aa8",
   "metadata": {},
   "outputs": [
    {
     "name": "stdout",
     "output_type": "stream",
     "text": [
      "Wall time: 38min 44s\n"
     ]
    },
    {
     "name": "stderr",
     "output_type": "stream",
     "text": [
      "C:\\Users\\User\\anaconda3\\envs\\juunho\\lib\\site-packages\\ipykernel_launcher.py:1: SettingWithCopyWarning: \n",
      "A value is trying to be set on a copy of a slice from a DataFrame.\n",
      "Try using .loc[row_indexer,col_indexer] = value instead\n",
      "\n",
      "See the caveats in the documentation: https://pandas.pydata.org/pandas-docs/stable/user_guide/indexing.html#returning-a-view-versus-a-copy\n",
      "  \"\"\"Entry point for launching an IPython kernel.\n"
     ]
    }
   ],
   "source": [
    "%%time\n",
    "df_reviews_dataset['cleaned_review_stemming'], df_reviews_dataset['cleaned_review'] = zip(*df_reviews_dataset.review_text.apply(text_clean))"
   ]
  },
  {
   "cell_type": "code",
   "execution_count": 27,
   "id": "629acad2",
   "metadata": {},
   "outputs": [
    {
     "data": {
      "text/plain": [
       "review_date                0\n",
       "movie_id                   0\n",
       "user_id                    0\n",
       "is_spoiler                 0\n",
       "review_text                0\n",
       "rating                     0\n",
       "review_summary             0\n",
       "review_text_count          0\n",
       "cleaned_review_stemming    0\n",
       "cleaned_review             0\n",
       "dtype: int64"
      ]
     },
     "execution_count": 27,
     "metadata": {},
     "output_type": "execute_result"
    }
   ],
   "source": [
    "df_reviews_dataset.isna().sum() "
   ]
  },
  {
   "cell_type": "code",
   "execution_count": 28,
   "id": "9423d1a9",
   "metadata": {},
   "outputs": [],
   "source": [
    "df_reviews_dataset = df_reviews_dataset.dropna()"
   ]
  },
  {
   "cell_type": "code",
   "execution_count": 30,
   "id": "74165353",
   "metadata": {},
   "outputs": [],
   "source": [
    "df_reviews_dataset.to_csv('IMDB/DS/dataset.csv', index=False)"
   ]
  }
 ],
 "metadata": {
  "kernelspec": {
   "display_name": "juunho",
   "language": "python",
   "name": "juunho"
  },
  "language_info": {
   "codemirror_mode": {
    "name": "ipython",
    "version": 3
   },
   "file_extension": ".py",
   "mimetype": "text/x-python",
   "name": "python",
   "nbconvert_exporter": "python",
   "pygments_lexer": "ipython3",
   "version": "3.7.13"
  },
  "toc": {
   "base_numbering": 1,
   "nav_menu": {},
   "number_sections": true,
   "sideBar": true,
   "skip_h1_title": false,
   "title_cell": "Table of Contents",
   "title_sidebar": "Contents",
   "toc_cell": false,
   "toc_position": {},
   "toc_section_display": true,
   "toc_window_display": false
  }
 },
 "nbformat": 4,
 "nbformat_minor": 5
}
