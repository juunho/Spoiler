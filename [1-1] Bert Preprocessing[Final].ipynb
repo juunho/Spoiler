{
 "cells": [
  {
   "cell_type": "code",
   "execution_count": 1,
   "id": "eed7e0af",
   "metadata": {},
   "outputs": [],
   "source": [
    "import pandas as pd\n",
    "import json\n",
    "import re\n",
    "import os\n",
    "import sys\n",
    "import numpy as np\n",
    "from nltk.tokenize import sent_tokenize\n",
    "import random\n",
    "pd.options.display.float_format = '{:,}'.format\n",
    "random.seed(42)"
   ]
  },
  {
   "cell_type": "markdown",
   "id": "ece368ce",
   "metadata": {},
   "source": [
    "### Data Load"
   ]
  },
  {
   "cell_type": "code",
   "execution_count": 2,
   "id": "5df2ed1a",
   "metadata": {},
   "outputs": [
    {
     "data": {
      "text/plain": [
       "(573913, 7)"
      ]
     },
     "execution_count": 2,
     "metadata": {},
     "output_type": "execute_result"
    }
   ],
   "source": [
    "df_raw = pd.read_json('IMDB_reviews.json', lines=True)\n",
    "df_raw.shape"
   ]
  },
  {
   "cell_type": "markdown",
   "id": "b3459b6d",
   "metadata": {},
   "source": [
    "### Data Preprocessing"
   ]
  },
  {
   "cell_type": "code",
   "execution_count": 3,
   "id": "2ca9b130",
   "metadata": {},
   "outputs": [
    {
     "data": {
      "text/plain": [
       "(562076, 7)"
      ]
     },
     "execution_count": 3,
     "metadata": {},
     "output_type": "execute_result"
    }
   ],
   "source": [
    "# review filtering\n",
    "df_review = df_raw.groupby('movie_id').count().sort_values(by='user_id', ascending = False)\n",
    "df_review = df_review[df_review['review_date'] > 100]\n",
    "\n",
    "df_list = df_review.index.values.tolist()\n",
    "\n",
    "df_raw = df_raw[df_raw['movie_id'].isin(df_list)]\n",
    "df_raw.shape"
   ]
  },
  {
   "cell_type": "code",
   "execution_count": 4,
   "id": "ad3457ae",
   "metadata": {},
   "outputs": [],
   "source": [
    "# column rename\n",
    "df_raw['is_spoiler']= df_raw['is_spoiler'].replace([True,False],[1,0])\n",
    "df_raw.rename(columns={'is_spoiler':'class', 'review_text':'text'}, inplace = True)\n",
    "df = df_raw[['class','text']]"
   ]
  },
  {
   "cell_type": "code",
   "execution_count": 5,
   "id": "f40fb7d9",
   "metadata": {},
   "outputs": [
    {
     "name": "stderr",
     "output_type": "stream",
     "text": [
      "C:\\Users\\User\\anaconda3\\envs\\juunho\\lib\\site-packages\\pandas\\core\\generic.py:6619: SettingWithCopyWarning: \n",
      "A value is trying to be set on a copy of a slice from a DataFrame\n",
      "\n",
      "See the caveats in the documentation: https://pandas.pydata.org/pandas-docs/stable/user_guide/indexing.html#returning-a-view-versus-a-copy\n",
      "  return self._update_inplace(result)\n",
      "C:\\Users\\User\\anaconda3\\envs\\juunho\\lib\\site-packages\\pandas\\util\\_decorators.py:311: SettingWithCopyWarning: \n",
      "A value is trying to be set on a copy of a slice from a DataFrame\n",
      "\n",
      "See the caveats in the documentation: https://pandas.pydata.org/pandas-docs/stable/user_guide/indexing.html#returning-a-view-versus-a-copy\n",
      "  return func(*args, **kwargs)\n"
     ]
    }
   ],
   "source": [
    "# null replace\n",
    "df['text'].replace('', np.nan, inplace=True)\n",
    "df.dropna(subset=['text'], inplace=True)"
   ]
  },
  {
   "cell_type": "code",
   "execution_count": 6,
   "id": "b4373f80",
   "metadata": {},
   "outputs": [
    {
     "name": "stderr",
     "output_type": "stream",
     "text": [
      "C:\\Users\\User\\anaconda3\\envs\\juunho\\lib\\site-packages\\ipykernel_launcher.py:1: SettingWithCopyWarning: \n",
      "A value is trying to be set on a copy of a slice from a DataFrame.\n",
      "Try using .loc[row_indexer,col_indexer] = value instead\n",
      "\n",
      "See the caveats in the documentation: https://pandas.pydata.org/pandas-docs/stable/user_guide/indexing.html#returning-a-view-versus-a-copy\n",
      "  \"\"\"Entry point for launching an IPython kernel.\n",
      "C:\\Users\\User\\anaconda3\\envs\\juunho\\lib\\site-packages\\ipykernel_launcher.py:3: SettingWithCopyWarning: \n",
      "A value is trying to be set on a copy of a slice from a DataFrame.\n",
      "Try using .loc[row_indexer,col_indexer] = value instead\n",
      "\n",
      "See the caveats in the documentation: https://pandas.pydata.org/pandas-docs/stable/user_guide/indexing.html#returning-a-view-versus-a-copy\n",
      "  This is separate from the ipykernel package so we can avoid doing imports until\n",
      "C:\\Users\\User\\anaconda3\\envs\\juunho\\lib\\site-packages\\ipykernel_launcher.py:4: SettingWithCopyWarning: \n",
      "A value is trying to be set on a copy of a slice from a DataFrame.\n",
      "Try using .loc[row_indexer,col_indexer] = value instead\n",
      "\n",
      "See the caveats in the documentation: https://pandas.pydata.org/pandas-docs/stable/user_guide/indexing.html#returning-a-view-versus-a-copy\n",
      "  after removing the cwd from sys.path.\n"
     ]
    },
    {
     "data": {
      "text/plain": [
       "(272977, 3)"
      ]
     },
     "execution_count": 6,
     "metadata": {},
     "output_type": "execute_result"
    }
   ],
   "source": [
    "df['text'] = df['text'].apply(str)\n",
    "\n",
    "df['text_count'] = df['text'].apply(sent_tokenize).tolist()\n",
    "df['text_count'] = df['text_count'].apply(len)\n",
    "\n",
    "df = df[df['text_count'] < 10]\n",
    "df.shape"
   ]
  },
  {
   "cell_type": "code",
   "execution_count": 7,
   "id": "888e77ff",
   "metadata": {},
   "outputs": [
    {
     "data": {
      "text/html": [
       "<div>\n",
       "<style scoped>\n",
       "    .dataframe tbody tr th:only-of-type {\n",
       "        vertical-align: middle;\n",
       "    }\n",
       "\n",
       "    .dataframe tbody tr th {\n",
       "        vertical-align: top;\n",
       "    }\n",
       "\n",
       "    .dataframe thead th {\n",
       "        text-align: right;\n",
       "    }\n",
       "</style>\n",
       "<table border=\"1\" class=\"dataframe\">\n",
       "  <thead>\n",
       "    <tr style=\"text-align: right;\">\n",
       "      <th></th>\n",
       "      <th>class</th>\n",
       "      <th>text</th>\n",
       "      <th>text_count</th>\n",
       "    </tr>\n",
       "  </thead>\n",
       "  <tbody>\n",
       "    <tr>\n",
       "      <th>1</th>\n",
       "      <td>1</td>\n",
       "      <td>The Shawshank Redemption is without a doubt on...</td>\n",
       "      <td>9</td>\n",
       "    </tr>\n",
       "    <tr>\n",
       "      <th>6</th>\n",
       "      <td>1</td>\n",
       "      <td>I have been a fan of this movie for a long tim...</td>\n",
       "      <td>7</td>\n",
       "    </tr>\n",
       "    <tr>\n",
       "      <th>7</th>\n",
       "      <td>1</td>\n",
       "      <td>I made my account on IMDb Just to Rate this mo...</td>\n",
       "      <td>8</td>\n",
       "    </tr>\n",
       "    <tr>\n",
       "      <th>8</th>\n",
       "      <td>1</td>\n",
       "      <td>A friend of mine listed \"The Shawshank Redempt...</td>\n",
       "      <td>6</td>\n",
       "    </tr>\n",
       "    <tr>\n",
       "      <th>11</th>\n",
       "      <td>1</td>\n",
       "      <td>To tell the truth, I am speechless. I am a you...</td>\n",
       "      <td>9</td>\n",
       "    </tr>\n",
       "    <tr>\n",
       "      <th>...</th>\n",
       "      <td>...</td>\n",
       "      <td>...</td>\n",
       "      <td>...</td>\n",
       "    </tr>\n",
       "    <tr>\n",
       "      <th>573907</th>\n",
       "      <td>0</td>\n",
       "      <td>This type of movie is one that I would not ord...</td>\n",
       "      <td>5</td>\n",
       "    </tr>\n",
       "    <tr>\n",
       "      <th>573908</th>\n",
       "      <td>0</td>\n",
       "      <td>Go is wise, fast and pure entertainment. Assem...</td>\n",
       "      <td>4</td>\n",
       "    </tr>\n",
       "    <tr>\n",
       "      <th>573909</th>\n",
       "      <td>0</td>\n",
       "      <td>Well, what shall I say. this one´s fun at any ...</td>\n",
       "      <td>7</td>\n",
       "    </tr>\n",
       "    <tr>\n",
       "      <th>573911</th>\n",
       "      <td>0</td>\n",
       "      <td>Call this 1999 teenage version of Pulp Fiction...</td>\n",
       "      <td>7</td>\n",
       "    </tr>\n",
       "    <tr>\n",
       "      <th>573912</th>\n",
       "      <td>0</td>\n",
       "      <td>Why was this movie made? No doubt to sucker in...</td>\n",
       "      <td>8</td>\n",
       "    </tr>\n",
       "  </tbody>\n",
       "</table>\n",
       "<p>272977 rows × 3 columns</p>\n",
       "</div>"
      ],
      "text/plain": [
       "        class                                               text  text_count\n",
       "1           1  The Shawshank Redemption is without a doubt on...           9\n",
       "6           1  I have been a fan of this movie for a long tim...           7\n",
       "7           1  I made my account on IMDb Just to Rate this mo...           8\n",
       "8           1  A friend of mine listed \"The Shawshank Redempt...           6\n",
       "11          1  To tell the truth, I am speechless. I am a you...           9\n",
       "...       ...                                                ...         ...\n",
       "573907      0  This type of movie is one that I would not ord...           5\n",
       "573908      0  Go is wise, fast and pure entertainment. Assem...           4\n",
       "573909      0  Well, what shall I say. this one´s fun at any ...           7\n",
       "573911      0  Call this 1999 teenage version of Pulp Fiction...           7\n",
       "573912      0  Why was this movie made? No doubt to sucker in...           8\n",
       "\n",
       "[272977 rows x 3 columns]"
      ]
     },
     "execution_count": 7,
     "metadata": {},
     "output_type": "execute_result"
    }
   ],
   "source": [
    "df"
   ]
  },
  {
   "cell_type": "markdown",
   "id": "6ca2e8d3",
   "metadata": {},
   "source": [
    "### Balancing"
   ]
  },
  {
   "cell_type": "code",
   "execution_count": 8,
   "id": "31ec1f75",
   "metadata": {},
   "outputs": [
    {
     "name": "stdout",
     "output_type": "stream",
     "text": [
      "nonspoiler: 221697\n",
      "spoiler: 51280\n"
     ]
    }
   ],
   "source": [
    "df_non = df[df['class'] == 0]\n",
    "df_spoiler = df[df['class'] == 1]\n",
    "print(\"nonspoiler:\", len(df_non))\n",
    "print(\"spoiler:\", len(df_spoiler))"
   ]
  },
  {
   "cell_type": "code",
   "execution_count": 9,
   "id": "6b4924e0",
   "metadata": {},
   "outputs": [
    {
     "name": "stdout",
     "output_type": "stream",
     "text": [
      "weight-decreased nonspoiler: 110848\n",
      "spoiler: 51280\n",
      "balanced total: 162128\n"
     ]
    }
   ],
   "source": [
    "df_non = df_non.sample(frac =.5)\n",
    "print(\"weight-decreased nonspoiler:\", len(df_non))\n",
    "print(\"spoiler:\", len(df_spoiler))\n",
    "print(\"balanced total:\", len(df_non)+len(df_spoiler))"
   ]
  },
  {
   "cell_type": "markdown",
   "id": "f2b2c44e",
   "metadata": {},
   "source": [
    "### Holdout"
   ]
  },
  {
   "cell_type": "code",
   "execution_count": 10,
   "id": "012c5e5b",
   "metadata": {},
   "outputs": [],
   "source": [
    "# 70/10/20 train/val/test\n",
    "df_train_non = df_non.sample(frac = .70)\n",
    "df_non = df_non.drop(df_train_non.index)\n",
    "df_train_spoiler = df_spoiler.sample(frac = .70)\n",
    "df_spoiler = df_spoiler.drop(df_train_spoiler.index)\n",
    "\n",
    "# use 33% of the remaining for validation (which is 10% of whole dataset)\n",
    "df_dev_non = df_non.sample(frac = .333)\n",
    "df_non = df_non.drop(df_dev_non.index)\n",
    "df_dev_spoiler = df_spoiler.sample(frac = .333)\n",
    "df_spoiler = df_spoiler.drop(df_dev_spoiler.index)\n",
    "\n",
    "# use all of the remaining for test (which is 20% of whole dataset)\n",
    "df_test_non = df_non\n",
    "df_test_spoiler = df_spoiler"
   ]
  },
  {
   "cell_type": "code",
   "execution_count": 11,
   "id": "d0147367",
   "metadata": {},
   "outputs": [
    {
     "name": "stdout",
     "output_type": "stream",
     "text": [
      "train: 113490\n",
      "dev: 16197\n",
      "test: 32441\n",
      "all: 162128\n"
     ]
    }
   ],
   "source": [
    "# merge and shuffle\n",
    "\n",
    "df_train = pd.concat([df_train_non, df_train_spoiler])\n",
    "df_train = df_train.sample(frac=1).reset_index(drop=True)\n",
    "\n",
    "df_dev = pd.concat([df_dev_non, df_dev_spoiler])\n",
    "df_dev = df_dev.sample(frac=1).reset_index(drop=True)\n",
    "\n",
    "df_test = pd.concat([df_test_non, df_test_spoiler])\n",
    "df_test = df_test.sample(frac=1).reset_index(drop=True)\n",
    "\n",
    "print(\"train:\",len(df_train))\n",
    "print(\"dev:\",len(df_dev))\n",
    "print(\"test:\",len(df_test))\n",
    "print(\"all:\",len(df_train)+len(df_dev)+len(df_test))"
   ]
  },
  {
   "cell_type": "code",
   "execution_count": 12,
   "id": "5ead6238",
   "metadata": {},
   "outputs": [],
   "source": [
    "df_train.to_csv('IMDB/final/train.csv', index=False)\n",
    "df_dev.to_csv('IMDB/final/dev.csv', index=False)\n",
    "df_test.to_csv('IMDB/final/test.csv', index=False)"
   ]
  },
  {
   "cell_type": "markdown",
   "id": "076e49fa",
   "metadata": {},
   "source": [
    "### Sample"
   ]
  },
  {
   "cell_type": "code",
   "execution_count": 13,
   "id": "a83d2916",
   "metadata": {},
   "outputs": [],
   "source": [
    "df_train_sample = df_train.sample(35000)\n",
    "df_dev_sample = df_dev.sample(5000)\n",
    "df_test_sample = df_test.sample(10000)"
   ]
  },
  {
   "cell_type": "code",
   "execution_count": 14,
   "id": "a4276e20",
   "metadata": {},
   "outputs": [],
   "source": [
    "df_train_sample.to_csv('IMDB/final_sample/train.csv', index=False)\n",
    "df_dev_sample.to_csv('IMDB/final_sample/dev.csv', index=False)\n",
    "df_test_sample.to_csv('IMDB/final_sample/test.csv', index=False)"
   ]
  }
 ],
 "metadata": {
  "kernelspec": {
   "display_name": "juunho",
   "language": "python",
   "name": "juunho"
  },
  "language_info": {
   "codemirror_mode": {
    "name": "ipython",
    "version": 3
   },
   "file_extension": ".py",
   "mimetype": "text/x-python",
   "name": "python",
   "nbconvert_exporter": "python",
   "pygments_lexer": "ipython3",
   "version": "3.7.13"
  },
  "toc": {
   "base_numbering": 1,
   "nav_menu": {},
   "number_sections": true,
   "sideBar": true,
   "skip_h1_title": false,
   "title_cell": "Table of Contents",
   "title_sidebar": "Contents",
   "toc_cell": false,
   "toc_position": {},
   "toc_section_display": true,
   "toc_window_display": false
  }
 },
 "nbformat": 4,
 "nbformat_minor": 5
}
