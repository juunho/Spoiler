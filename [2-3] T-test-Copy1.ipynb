{
 "cells": [
  {
   "cell_type": "code",
   "execution_count": 1,
   "id": "eb2e4565",
   "metadata": {},
   "outputs": [],
   "source": [
    "import pandas as pd\n",
    "from scipy import stats"
   ]
  },
  {
   "cell_type": "code",
   "execution_count": 2,
   "id": "668ca6a8",
   "metadata": {},
   "outputs": [],
   "source": [
    "df1 = pd.read_csv('IMDB/dataset/sim1-spacy-pre-unq-lem.csv')"
   ]
  },
  {
   "cell_type": "code",
   "execution_count": 3,
   "id": "791bd36f",
   "metadata": {},
   "outputs": [],
   "source": [
    "df2 = pd.read_csv('IMDB/dataset/sim2-spacy-pre-unq-lem.csv')"
   ]
  },
  {
   "cell_type": "code",
   "execution_count": 4,
   "id": "3a3fdcf2",
   "metadata": {},
   "outputs": [],
   "source": [
    "df_lemm = pd.concat([df1,df2], ignore_index=True)"
   ]
  },
  {
   "cell_type": "code",
   "execution_count": 11,
   "id": "4b814c14",
   "metadata": {},
   "outputs": [],
   "source": [
    "lemm_sp = df_lemm[df_lemm.is_spoiler == True] \n",
    "lemm_nsp = df_lemm[df_lemm.is_spoiler == False] "
   ]
  },
  {
   "cell_type": "code",
   "execution_count": 20,
   "id": "fc0923d2",
   "metadata": {},
   "outputs": [],
   "source": [
    "# 정규성 검정 - 중심극한 정리\n",
    "#stats.anderson_ksamp([lemm_sp.Similarity, lemm_nsp.Similarity])"
   ]
  },
  {
   "cell_type": "code",
   "execution_count": 16,
   "id": "3ddbf766",
   "metadata": {},
   "outputs": [
    {
     "name": "stdout",
     "output_type": "stream",
     "text": [
      "LeveneResult(F) : 3840.517 \n",
      "p-value : 0.000\n"
     ]
    }
   ],
   "source": [
    "#Levene의 등분산 검정 \n",
    "lresult = stats.levene(lemm_sp.Similarity, lemm_nsp.Similarity)\n",
    "print('LeveneResult(F) : %.3f \\np-value : %.3f' % (lresult))"
   ]
  },
  {
   "cell_type": "code",
   "execution_count": 17,
   "id": "9ce2374f",
   "metadata": {},
   "outputs": [
    {
     "name": "stdout",
     "output_type": "stream",
     "text": [
      "t statistic : 178.749 \n",
      "p-value : 0.000\n"
     ]
    }
   ],
   "source": [
    "result = stats.ttest_ind(lemm_sp.Similarity, lemm_nsp.Similarity, equal_var=False) \n",
    "print('t statistic : %.3f \\np-value : %.3f' % (result))"
   ]
  }
 ],
 "metadata": {
  "kernelspec": {
   "display_name": "juunho",
   "language": "python",
   "name": "juunho"
  },
  "language_info": {
   "codemirror_mode": {
    "name": "ipython",
    "version": 3
   },
   "file_extension": ".py",
   "mimetype": "text/x-python",
   "name": "python",
   "nbconvert_exporter": "python",
   "pygments_lexer": "ipython3",
   "version": "3.7.13"
  },
  "toc": {
   "base_numbering": 1,
   "nav_menu": {},
   "number_sections": true,
   "sideBar": true,
   "skip_h1_title": false,
   "title_cell": "Table of Contents",
   "title_sidebar": "Contents",
   "toc_cell": false,
   "toc_position": {},
   "toc_section_display": true,
   "toc_window_display": false
  }
 },
 "nbformat": 4,
 "nbformat_minor": 5
}
