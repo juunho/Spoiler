{
 "cells": [
  {
   "cell_type": "code",
   "execution_count": 5,
   "id": "eed7e0af",
   "metadata": {},
   "outputs": [],
   "source": [
    "import pandas as pd\n",
    "import json\n",
    "import re\n",
    "import os\n",
    "import sys\n",
    "import numpy as np\n",
    "import random\n",
    "pd.options.display.float_format = '{:,}'.format\n",
    "random.seed(2021)"
   ]
  },
  {
   "cell_type": "markdown",
   "id": "ece368ce",
   "metadata": {},
   "source": [
    "### Data Load"
   ]
  },
  {
   "cell_type": "code",
   "execution_count": 6,
   "id": "5df2ed1a",
   "metadata": {},
   "outputs": [],
   "source": [
    "df_raw = pd.read_json('IMDB_reviews.json', lines=True)"
   ]
  },
  {
   "cell_type": "code",
   "execution_count": 7,
   "id": "2ca9b130",
   "metadata": {},
   "outputs": [],
   "source": [
    "# review filtering\n",
    "df_review = df_raw.groupby('movie_id').count().sort_values(by='user_id', ascending = False)\n",
    "df_review = df_review[df_review['review_date'] > 100]"
   ]
  },
  {
   "cell_type": "code",
   "execution_count": 8,
   "id": "7c28922a",
   "metadata": {},
   "outputs": [],
   "source": [
    "df_list = df_review.index.values.tolist()"
   ]
  },
  {
   "cell_type": "code",
   "execution_count": 9,
   "id": "b1fe3f08",
   "metadata": {},
   "outputs": [],
   "source": [
    "df_raw = df_raw[df_raw['movie_id'].isin(df_list)]"
   ]
  },
  {
   "cell_type": "code",
   "execution_count": 10,
   "id": "4ea61563",
   "metadata": {},
   "outputs": [],
   "source": [
    "df_raw.to_csv('IMDB/dataset/review_raw.csv')"
   ]
  },
  {
   "cell_type": "code",
   "execution_count": 11,
   "id": "ad3457ae",
   "metadata": {},
   "outputs": [],
   "source": [
    "df_raw['is_spoiler']= df_raw['is_spoiler'].replace([True,False],[1,0])\n",
    "df_raw.rename(columns={'is_spoiler':'class', 'review_text':'text'}, inplace = True)\n",
    "df = df_raw[['class','text']]"
   ]
  },
  {
   "cell_type": "code",
   "execution_count": 12,
   "id": "ee447ae4",
   "metadata": {},
   "outputs": [
    {
     "data": {
      "text/plain": [
       "562076"
      ]
     },
     "execution_count": 12,
     "metadata": {},
     "output_type": "execute_result"
    }
   ],
   "source": [
    "len(df)"
   ]
  },
  {
   "cell_type": "code",
   "execution_count": 13,
   "id": "dd8ff0cb",
   "metadata": {},
   "outputs": [],
   "source": [
    "df.to_csv('IMDB/dataset/review.csv', index = False)"
   ]
  },
  {
   "cell_type": "markdown",
   "id": "6ca2e8d3",
   "metadata": {},
   "source": [
    "### Balancing"
   ]
  },
  {
   "cell_type": "code",
   "execution_count": 14,
   "id": "31ec1f75",
   "metadata": {},
   "outputs": [
    {
     "name": "stdout",
     "output_type": "stream",
     "text": [
      "nonspoiler: 413853\n",
      "spoiler: 148223\n",
      "weight-decreased nonspoiler: 206926\n",
      "balanced total: 355149\n"
     ]
    }
   ],
   "source": [
    "df_non = df[df['class'] == 0]\n",
    "df_spoiler = df[df['class'] == 1]\n",
    "print(\"nonspoiler:\", len(df_non))\n",
    "print(\"spoiler:\", len(df_spoiler))\n",
    "\n",
    "df_non = df_non.sample(frac =.5)\n",
    "print(\"weight-decreased nonspoiler:\", len(df_non))\n",
    "print(\"balanced total:\", len(df_non)+len(df_spoiler))"
   ]
  },
  {
   "cell_type": "code",
   "execution_count": 15,
   "id": "012c5e5b",
   "metadata": {},
   "outputs": [],
   "source": [
    "# 70/10/20 train/val/test\n",
    "df_train_non = df_non.sample(frac = .70)\n",
    "df_non = df_non.drop(df_train_non.index)\n",
    "df_train_spoiler = df_spoiler.sample(frac = .70)\n",
    "df_spoiler = df_spoiler.drop(df_train_spoiler.index)\n",
    "\n",
    "# use 33% of the remaining for validation (which is 10% of whole dataset)\n",
    "df_dev_non = df_non.sample(frac = .333)\n",
    "df_non = df_non.drop(df_dev_non.index)\n",
    "df_dev_spoiler = df_spoiler.sample(frac = .333)\n",
    "df_spoiler = df_spoiler.drop(df_dev_spoiler.index)\n",
    "\n",
    "# use all of the remaining for test (which is 20% of whole dataset)\n",
    "df_test_non = df_non\n",
    "df_test_spoiler = df_spoiler"
   ]
  },
  {
   "cell_type": "code",
   "execution_count": 16,
   "id": "d0147367",
   "metadata": {},
   "outputs": [
    {
     "name": "stdout",
     "output_type": "stream",
     "text": [
      "train: 248604\n",
      "dev: 35480\n",
      "test: 71065\n",
      "all: 355149\n"
     ]
    }
   ],
   "source": [
    "# merge and shuffle\n",
    "\n",
    "df_train = pd.concat([df_train_non, df_train_spoiler])\n",
    "df_train = df_train.sample(frac=1).reset_index(drop=True)\n",
    "\n",
    "df_dev = pd.concat([df_dev_non, df_dev_spoiler])\n",
    "df_dev = df_dev.sample(frac=1).reset_index(drop=True)\n",
    "\n",
    "df_test = pd.concat([df_test_non, df_test_spoiler])\n",
    "df_test = df_test.sample(frac=1).reset_index(drop=True)\n",
    "\n",
    "print(\"train:\",len(df_train))\n",
    "print(\"dev:\",len(df_dev))\n",
    "print(\"test:\",len(df_test))\n",
    "print(\"all:\",len(df_train)+len(df_dev)+len(df_test))"
   ]
  },
  {
   "cell_type": "code",
   "execution_count": 17,
   "id": "5ead6238",
   "metadata": {},
   "outputs": [],
   "source": [
    "df_train.to_csv('IMDB/dataset/train.csv', index=False)\n",
    "df_dev.to_csv('IMDB/dataset/dev.csv', index=False)\n",
    "df_test.to_csv('IMDB/dataset/test.csv', index=False)"
   ]
  },
  {
   "cell_type": "markdown",
   "id": "076e49fa",
   "metadata": {},
   "source": [
    "### Sample"
   ]
  },
  {
   "cell_type": "code",
   "execution_count": 18,
   "id": "a83d2916",
   "metadata": {},
   "outputs": [],
   "source": [
    "df_train_sample = df_train.sample(35000)\n",
    "df_dev_sample = df_dev.sample(5000)\n",
    "df_test_sample = df_test.sample(10000)"
   ]
  },
  {
   "cell_type": "code",
   "execution_count": 19,
   "id": "a4276e20",
   "metadata": {},
   "outputs": [],
   "source": [
    "df_train_sample.to_csv('IMDB/sample/train.csv', index=False)\n",
    "df_dev_sample.to_csv('IMDB/sample/dev.csv', index=False)\n",
    "df_test_sample.to_csv('IMDB/sample/test.csv', index=False)"
   ]
  },
  {
   "cell_type": "code",
   "execution_count": null,
   "id": "9b986cf4",
   "metadata": {},
   "outputs": [],
   "source": []
  }
 ],
 "metadata": {
  "kernelspec": {
   "display_name": "juunho",
   "language": "python",
   "name": "juunho"
  },
  "language_info": {
   "codemirror_mode": {
    "name": "ipython",
    "version": 3
   },
   "file_extension": ".py",
   "mimetype": "text/x-python",
   "name": "python",
   "nbconvert_exporter": "python",
   "pygments_lexer": "ipython3",
   "version": "3.7.13"
  },
  "toc": {
   "base_numbering": 1,
   "nav_menu": {},
   "number_sections": true,
   "sideBar": true,
   "skip_h1_title": false,
   "title_cell": "Table of Contents",
   "title_sidebar": "Contents",
   "toc_cell": false,
   "toc_position": {},
   "toc_section_display": true,
   "toc_window_display": false
  }
 },
 "nbformat": 4,
 "nbformat_minor": 5
}
