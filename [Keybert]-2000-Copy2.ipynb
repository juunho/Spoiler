{
 "cells": [
  {
   "cell_type": "code",
   "execution_count": 1,
   "id": "a9621beb",
   "metadata": {
    "scrolled": true
   },
   "outputs": [
    {
     "name": "stderr",
     "output_type": "stream",
     "text": [
      "[nltk_data] Downloading package punkt to\n",
      "[nltk_data]     C:\\Users\\User\\AppData\\Roaming\\nltk_data...\n",
      "[nltk_data]   Package punkt is already up-to-date!\n"
     ]
    }
   ],
   "source": [
    "import pandas as pd\n",
    "import json\n",
    "import re\n",
    "import os\n",
    "import sys\n",
    "import numpy as np\n",
    "import random\n",
    "pd.options.display.float_format = '{:,}'.format\n",
    "\n",
    "import nltk\n",
    "nltk.download('punkt')\n",
    "from nltk.tokenize import sent_tokenize\n",
    "\n",
    "import numpy as np\n",
    "import itertools\n",
    "\n",
    "from sklearn.feature_extraction.text import CountVectorizer\n",
    "from sklearn.metrics.pairwise import cosine_similarity\n",
    "from sentence_transformers import SentenceTransformer"
   ]
  },
  {
   "cell_type": "code",
   "execution_count": 2,
   "id": "1ca7a3bd",
   "metadata": {},
   "outputs": [],
   "source": [
    "from keybert import KeyBERT\n",
    "\n",
    "kw_model = KeyBERT()"
   ]
  },
  {
   "cell_type": "code",
   "execution_count": 3,
   "id": "d0e32421",
   "metadata": {},
   "outputs": [],
   "source": [
    "from keybert import KeyBERT\n",
    "from sentence_transformers import SentenceTransformer\n",
    "\n",
    "sentence_model = SentenceTransformer(\"distilbert-base-nli-mean-tokens\")\n",
    "kw_model = KeyBERT(model=sentence_model)"
   ]
  },
  {
   "cell_type": "code",
   "execution_count": 4,
   "id": "1c537e8d",
   "metadata": {},
   "outputs": [],
   "source": [
    "f = open('key_1_text.txt', 'r', encoding='UTF-8')\n",
    "doc = f.read()\n",
    "keywords = kw_model.extract_keywords(doc)"
   ]
  },
  {
   "cell_type": "code",
   "execution_count": 15,
   "id": "41f1b65d",
   "metadata": {
    "scrolled": true
   },
   "outputs": [
    {
     "data": {
      "text/plain": [
       "[('brother train finally', 0.4695),\n",
       " ('quits school decathlon', 0.4606),\n",
       " ('boy kills agents', 0.4562),\n",
       " ('heroin demands president', 0.45),\n",
       " ('train fled murder', 0.4498),\n",
       " ('brothers meet cauliflower', 0.4489),\n",
       " ('father building comet', 0.4385),\n",
       " ('disturbance meeting sheriff', 0.4366),\n",
       " ('german army stealing', 0.4356),\n",
       " ('upcoming pageant security', 0.4339),\n",
       " ('army stealing maru', 0.4315),\n",
       " ('decathlon competition washington', 0.4261),\n",
       " ('prisoners escaping gang', 0.4256),\n",
       " ('run reuniting father', 0.4251),\n",
       " ('kingsmen whiskey accidentally', 0.4224),\n",
       " ('man killed wolverine', 0.4173),\n",
       " ('monster hunting cashier', 0.417),\n",
       " ('son attacks brother', 0.4165),\n",
       " ('calling brother train', 0.4158),\n",
       " ('team robbers stage', 0.4155)]"
      ]
     },
     "execution_count": 15,
     "metadata": {},
     "output_type": "execute_result"
    }
   ],
   "source": [
    "kw_model.extract_keywords(doc, keyphrase_ngram_range=(3, 3), stop_words='english',top_n=20)"
   ]
  },
  {
   "cell_type": "code",
   "execution_count": 16,
   "id": "693152f2",
   "metadata": {},
   "outputs": [],
   "source": [
    "#keywords = kw_model.extract_keywords(doc, highlight=True)"
   ]
  },
  {
   "cell_type": "code",
   "execution_count": 7,
   "id": "93005fa4",
   "metadata": {},
   "outputs": [
    {
     "data": {
      "text/plain": [
       "[('team robbers stage', 0.4155),\n",
       " ('calling brother train', 0.4158),\n",
       " ('son attacks brother', 0.4165),\n",
       " ('monster hunting cashier', 0.417),\n",
       " ('man killed wolverine', 0.4173),\n",
       " ('kingsmen whiskey accidentally', 0.4224),\n",
       " ('run reuniting father', 0.4251),\n",
       " ('prisoners escaping gang', 0.4256),\n",
       " ('decathlon competition washington', 0.4261),\n",
       " ('army stealing maru', 0.4315),\n",
       " ('upcoming pageant security', 0.4339),\n",
       " ('german army stealing', 0.4356),\n",
       " ('disturbance meeting sheriff', 0.4366),\n",
       " ('father building comet', 0.4385),\n",
       " ('brothers meet cauliflower', 0.4489),\n",
       " ('train fled murder', 0.4498),\n",
       " ('heroin demands president', 0.45),\n",
       " ('boy kills agents', 0.4562),\n",
       " ('quits school decathlon', 0.4606),\n",
       " ('brother train finally', 0.4695)]"
      ]
     },
     "execution_count": 7,
     "metadata": {},
     "output_type": "execute_result"
    }
   ],
   "source": [
    "kw_model.extract_keywords(doc, keyphrase_ngram_range=(3, 3), stop_words='english',\n",
    "                              use_maxsum=True, nr_candidates=20,top_n=20)"
   ]
  },
  {
   "cell_type": "code",
   "execution_count": 8,
   "id": "71a1c017",
   "metadata": {},
   "outputs": [
    {
     "data": {
      "text/plain": [
       "[('brother train finally', 0.4695),\n",
       " ('heroin demands president', 0.45),\n",
       " ('woman dying cancer', 0.4052),\n",
       " ('younger brothers fish', 0.3671),\n",
       " ('build lego death', 0.3464),\n",
       " ('going forest trespass', 0.2964),\n",
       " ('seal tom cruise', 0.284),\n",
       " ('kicked colombia second', 0.283),\n",
       " ('pool hall drunk', 0.2522),\n",
       " ('works car salesman', 0.2521),\n",
       " ('flames burning house', 0.2514),\n",
       " ('shop prom dresses', 0.2422),\n",
       " ('safe president obama', 0.2315),\n",
       " ('start race faster', 0.2299),\n",
       " ('000 troops rescued', 0.2184),\n",
       " ('starts make sandwich', 0.1916),\n",
       " ('kind crush spider', 0.1872),\n",
       " ('play cricket nearby', 0.1718),\n",
       " ('chinese soldiers nameless', 0.1585),\n",
       " ('precision bombs repel', 0.0979)]"
      ]
     },
     "execution_count": 8,
     "metadata": {},
     "output_type": "execute_result"
    }
   ],
   "source": [
    "kw_model.extract_keywords(doc, keyphrase_ngram_range=(3, 3), stop_words='english',\n",
    "                              use_mmr=True, diversity=0.7,top_n=20)"
   ]
  },
  {
   "cell_type": "code",
   "execution_count": 12,
   "id": "2c19c606",
   "metadata": {},
   "outputs": [],
   "source": [
    "keywords = kw_model.extract_keywords(doc, keyphrase_ngram_range=(3, 3), stop_words='english',\n",
    "                              use_mmr=True, diversity=0.2,top_n=30)"
   ]
  },
  {
   "cell_type": "code",
   "execution_count": 17,
   "id": "54539ffa",
   "metadata": {},
   "outputs": [
    {
     "data": {
      "text/plain": [
       "[('brother train finally', 0.4695),\n",
       " ('quits school decathlon', 0.4606),\n",
       " ('boy kills agents', 0.4562),\n",
       " ('heroin demands president', 0.45),\n",
       " ('train fled murder', 0.4498),\n",
       " ('brothers meet cauliflower', 0.4489),\n",
       " ('father building comet', 0.4385),\n",
       " ('disturbance meeting sheriff', 0.4366),\n",
       " ('german army stealing', 0.4356),\n",
       " ('upcoming pageant security', 0.4339),\n",
       " ('decathlon competition washington', 0.4261),\n",
       " ('prisoners escaping gang', 0.4256),\n",
       " ('run reuniting father', 0.4251),\n",
       " ('kingsmen whiskey accidentally', 0.4224),\n",
       " ('man killed wolverine', 0.4173),\n",
       " ('monster hunting cashier', 0.417),\n",
       " ('grandmaster chasing thor', 0.4117),\n",
       " ('sexual slavery morning', 0.4106),\n",
       " ('ambushed soldiers alerted', 0.4092),\n",
       " ('hitler returns home', 0.4068),\n",
       " ('woman dying cancer', 0.4052),\n",
       " ('family photos crash', 0.4028),\n",
       " ('explosives switching emergency', 0.3957),\n",
       " ('investigate robbery sadie', 0.3936),\n",
       " ('boyfriend later confronts', 0.3897),\n",
       " ('world mourn superman', 0.3815),\n",
       " ('prom lunch family', 0.3809),\n",
       " ('drilling camp trailers', 0.3785),\n",
       " ('final showdown league', 0.3748),\n",
       " ('new spider man', 0.365)]"
      ]
     },
     "execution_count": 17,
     "metadata": {},
     "output_type": "execute_result"
    }
   ],
   "source": [
    "kw_model.extract_keywords(doc, keyphrase_ngram_range=(3, 3), stop_words='english',\n",
    "                              use_mmr=True, diversity=0.2,top_n=30)"
   ]
  },
  {
   "cell_type": "code",
   "execution_count": 13,
   "id": "4bab8fcd",
   "metadata": {},
   "outputs": [],
   "source": [
    "import pickle\n",
    "with open(\"keybert_1\", \"wb\") as fp:\n",
    "    pickle.dump(keywords, fp)"
   ]
  }
 ],
 "metadata": {
  "kernelspec": {
   "display_name": "Python 3 (ipykernel)",
   "language": "python",
   "name": "python3"
  },
  "language_info": {
   "codemirror_mode": {
    "name": "ipython",
    "version": 3
   },
   "file_extension": ".py",
   "mimetype": "text/x-python",
   "name": "python",
   "nbconvert_exporter": "python",
   "pygments_lexer": "ipython3",
   "version": "3.7.13"
  },
  "toc": {
   "base_numbering": 1,
   "nav_menu": {},
   "number_sections": true,
   "sideBar": true,
   "skip_h1_title": false,
   "title_cell": "Table of Contents",
   "title_sidebar": "Contents",
   "toc_cell": false,
   "toc_position": {},
   "toc_section_display": true,
   "toc_window_display": false
  }
 },
 "nbformat": 4,
 "nbformat_minor": 5
}
