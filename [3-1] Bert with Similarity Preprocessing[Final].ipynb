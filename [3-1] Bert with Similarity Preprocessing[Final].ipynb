{
 "cells": [
  {
   "cell_type": "code",
   "execution_count": 1,
   "id": "eed7e0af",
   "metadata": {},
   "outputs": [],
   "source": [
    "import pandas as pd\n",
    "import json\n",
    "import re\n",
    "import os\n",
    "import sys\n",
    "import numpy as np\n",
    "from nltk.tokenize import sent_tokenize\n",
    "import random\n",
    "pd.options.display.float_format = '{:,}'.format\n",
    "random.seed(42)"
   ]
  },
  {
   "cell_type": "markdown",
   "id": "ece368ce",
   "metadata": {},
   "source": [
    "### Data Load"
   ]
  },
  {
   "cell_type": "code",
   "execution_count": 2,
   "id": "bdcce9d5",
   "metadata": {
    "scrolled": true
   },
   "outputs": [
    {
     "data": {
      "text/plain": [
       "(573913, 7)"
      ]
     },
     "execution_count": 2,
     "metadata": {},
     "output_type": "execute_result"
    }
   ],
   "source": [
    "df_raw = pd.read_json('IMDB_reviews.json', lines=True)\n",
    "df_raw.shape"
   ]
  },
  {
   "cell_type": "markdown",
   "id": "27cde8d7",
   "metadata": {},
   "source": [
    "### Review Filtering"
   ]
  },
  {
   "cell_type": "code",
   "execution_count": 3,
   "id": "deaad6a3",
   "metadata": {},
   "outputs": [
    {
     "data": {
      "text/plain": [
       "(562076, 7)"
      ]
     },
     "execution_count": 3,
     "metadata": {},
     "output_type": "execute_result"
    }
   ],
   "source": [
    "# review filtering\n",
    "df_review = df_raw.groupby('movie_id').count().sort_values(by='user_id', ascending = False)\n",
    "df_review = df_review[df_review['review_date'] > 100]\n",
    "\n",
    "df_list = df_review.index.values.tolist()\n",
    "\n",
    "df_raw = df_raw[df_raw['movie_id'].isin(df_list)]\n",
    "df_raw.shape"
   ]
  },
  {
   "cell_type": "code",
   "execution_count": 4,
   "id": "cbd1e972",
   "metadata": {},
   "outputs": [
    {
     "data": {
      "text/plain": [
       "(562076, 7)"
      ]
     },
     "execution_count": 4,
     "metadata": {},
     "output_type": "execute_result"
    }
   ],
   "source": [
    "# null replace\n",
    "df_raw['review_text'].replace('', np.nan, inplace=True)\n",
    "df_raw.dropna(subset=['review_text'], inplace=True)\n",
    "df_raw.shape"
   ]
  },
  {
   "cell_type": "code",
   "execution_count": 5,
   "id": "aef2ac0b",
   "metadata": {},
   "outputs": [
    {
     "data": {
      "text/plain": [
       "(272977, 8)"
      ]
     },
     "execution_count": 5,
     "metadata": {},
     "output_type": "execute_result"
    }
   ],
   "source": [
    "# \n",
    "df_raw['review_text'] = df_raw['review_text'].apply(str)\n",
    "\n",
    "df_raw['text_count'] = df_raw['review_text'].apply(sent_tokenize).tolist()\n",
    "df_raw['text_count'] = df_raw['text_count'].apply(len)\n",
    "\n",
    "df_raw = df_raw[df_raw['text_count'] < 10]\n",
    "df_raw.shape"
   ]
  },
  {
   "cell_type": "code",
   "execution_count": 6,
   "id": "e2d22437",
   "metadata": {},
   "outputs": [],
   "source": [
    "df_raw.reset_index(drop=True, inplace=True)"
   ]
  },
  {
   "cell_type": "code",
   "execution_count": 7,
   "id": "8bc55876",
   "metadata": {
    "scrolled": true
   },
   "outputs": [],
   "source": [
    "df_raw['Key'] = df_raw['movie_id'].map(str) + \"_\" + df_raw['user_id'].map(str)\n",
    "df_raw.drop(columns = ['review_date','review_summary','text_count'], inplace = True)"
   ]
  },
  {
   "cell_type": "markdown",
   "id": "c00c3bc3",
   "metadata": {},
   "source": [
    "### Similarity Combine"
   ]
  },
  {
   "cell_type": "code",
   "execution_count": 8,
   "id": "5df2ed1a",
   "metadata": {},
   "outputs": [
    {
     "data": {
      "text/plain": [
       "(257277, 8)"
      ]
     },
     "execution_count": 8,
     "metadata": {},
     "output_type": "execute_result"
    }
   ],
   "source": [
    "# Similarity Data\n",
    "df1 = pd.read_csv('IMDB/dataset/sim1-spacy-pre-unq.csv')\n",
    "df2 = pd.read_csv('IMDB/dataset/sim2-spacy-pre-unq.csv')\n",
    "\n",
    "df = pd.concat([df1,df2], ignore_index=True)\n",
    "df.shape"
   ]
  },
  {
   "cell_type": "code",
   "execution_count": 9,
   "id": "97035be0",
   "metadata": {},
   "outputs": [],
   "source": [
    "df.drop(columns = ['review','summary','synopsis'], inplace = True)"
   ]
  },
  {
   "cell_type": "code",
   "execution_count": 10,
   "id": "91c2eb0c",
   "metadata": {},
   "outputs": [],
   "source": [
    "df['Key'] = df['movie_id'].map(str) + \"_\" + df['user_id'].map(str)"
   ]
  },
  {
   "cell_type": "code",
   "execution_count": 11,
   "id": "5af09a7b",
   "metadata": {},
   "outputs": [
    {
     "data": {
      "text/html": [
       "<div>\n",
       "<style scoped>\n",
       "    .dataframe tbody tr th:only-of-type {\n",
       "        vertical-align: middle;\n",
       "    }\n",
       "\n",
       "    .dataframe tbody tr th {\n",
       "        vertical-align: top;\n",
       "    }\n",
       "\n",
       "    .dataframe thead th {\n",
       "        text-align: right;\n",
       "    }\n",
       "</style>\n",
       "<table border=\"1\" class=\"dataframe\">\n",
       "  <thead>\n",
       "    <tr style=\"text-align: right;\">\n",
       "      <th></th>\n",
       "      <th>summary_sim</th>\n",
       "      <th>synopsis_sim</th>\n",
       "      <th>Key</th>\n",
       "    </tr>\n",
       "  </thead>\n",
       "  <tbody>\n",
       "    <tr>\n",
       "      <th>0</th>\n",
       "      <td>0.8182528627370624</td>\n",
       "      <td>0.9379999551535706</td>\n",
       "      <td>tt0111161_ur6574726</td>\n",
       "    </tr>\n",
       "    <tr>\n",
       "      <th>1</th>\n",
       "      <td>0.8248598156132173</td>\n",
       "      <td>0.9410306515057832</td>\n",
       "      <td>tt0111161_ur31182745</td>\n",
       "    </tr>\n",
       "    <tr>\n",
       "      <th>2</th>\n",
       "      <td>0.8286599404831738</td>\n",
       "      <td>0.9451207633340328</td>\n",
       "      <td>tt0111161_ur9871443</td>\n",
       "    </tr>\n",
       "    <tr>\n",
       "      <th>3</th>\n",
       "      <td>0.8536536626202199</td>\n",
       "      <td>0.929594141329498</td>\n",
       "      <td>tt0111161_ur23169472</td>\n",
       "    </tr>\n",
       "    <tr>\n",
       "      <th>4</th>\n",
       "      <td>0.7727762898072235</td>\n",
       "      <td>0.8943991748293878</td>\n",
       "      <td>tt0111161_ur34426359</td>\n",
       "    </tr>\n",
       "    <tr>\n",
       "      <th>...</th>\n",
       "      <td>...</td>\n",
       "      <td>...</td>\n",
       "      <td>...</td>\n",
       "    </tr>\n",
       "    <tr>\n",
       "      <th>257272</th>\n",
       "      <td>0.7507024106067787</td>\n",
       "      <td>0.7507024106067787</td>\n",
       "      <td>tt0139239_ur0415521</td>\n",
       "    </tr>\n",
       "    <tr>\n",
       "      <th>257273</th>\n",
       "      <td>0.7608688119019157</td>\n",
       "      <td>0.7608688119019157</td>\n",
       "      <td>tt0139239_ur0100166</td>\n",
       "    </tr>\n",
       "    <tr>\n",
       "      <th>257274</th>\n",
       "      <td>0.7717965122266363</td>\n",
       "      <td>0.7717965122266363</td>\n",
       "      <td>tt0139239_ur0021767</td>\n",
       "    </tr>\n",
       "    <tr>\n",
       "      <th>257275</th>\n",
       "      <td>0.7526294445454874</td>\n",
       "      <td>0.7526294445454874</td>\n",
       "      <td>tt0139239_ur0349105</td>\n",
       "    </tr>\n",
       "    <tr>\n",
       "      <th>257276</th>\n",
       "      <td>0.8375494060841269</td>\n",
       "      <td>0.8375494060841269</td>\n",
       "      <td>tt0139239_ur0156431</td>\n",
       "    </tr>\n",
       "  </tbody>\n",
       "</table>\n",
       "<p>257277 rows × 3 columns</p>\n",
       "</div>"
      ],
      "text/plain": [
       "              summary_sim       synopsis_sim                   Key\n",
       "0      0.8182528627370624 0.9379999551535706   tt0111161_ur6574726\n",
       "1      0.8248598156132173 0.9410306515057832  tt0111161_ur31182745\n",
       "2      0.8286599404831738 0.9451207633340328   tt0111161_ur9871443\n",
       "3      0.8536536626202199  0.929594141329498  tt0111161_ur23169472\n",
       "4      0.7727762898072235 0.8943991748293878  tt0111161_ur34426359\n",
       "...                   ...                ...                   ...\n",
       "257272 0.7507024106067787 0.7507024106067787   tt0139239_ur0415521\n",
       "257273 0.7608688119019157 0.7608688119019157   tt0139239_ur0100166\n",
       "257274 0.7717965122266363 0.7717965122266363   tt0139239_ur0021767\n",
       "257275 0.7526294445454874 0.7526294445454874   tt0139239_ur0349105\n",
       "257276 0.8375494060841269 0.8375494060841269   tt0139239_ur0156431\n",
       "\n",
       "[257277 rows x 3 columns]"
      ]
     },
     "execution_count": 11,
     "metadata": {},
     "output_type": "execute_result"
    }
   ],
   "source": [
    "df.drop(columns = ['movie_id','user_id','is_spoiler'], inplace = True)\n",
    "df"
   ]
  },
  {
   "cell_type": "code",
   "execution_count": 12,
   "id": "f0c6f2d3",
   "metadata": {},
   "outputs": [],
   "source": [
    "df_raw = pd.merge(df_raw, df, how='inner', on ='Key')"
   ]
  },
  {
   "cell_type": "code",
   "execution_count": 13,
   "id": "cd7c342f",
   "metadata": {},
   "outputs": [
    {
     "data": {
      "text/html": [
       "<div>\n",
       "<style scoped>\n",
       "    .dataframe tbody tr th:only-of-type {\n",
       "        vertical-align: middle;\n",
       "    }\n",
       "\n",
       "    .dataframe tbody tr th {\n",
       "        vertical-align: top;\n",
       "    }\n",
       "\n",
       "    .dataframe thead th {\n",
       "        text-align: right;\n",
       "    }\n",
       "</style>\n",
       "<table border=\"1\" class=\"dataframe\">\n",
       "  <thead>\n",
       "    <tr style=\"text-align: right;\">\n",
       "      <th></th>\n",
       "      <th>movie_id</th>\n",
       "      <th>user_id</th>\n",
       "      <th>is_spoiler</th>\n",
       "      <th>review_text</th>\n",
       "      <th>rating</th>\n",
       "      <th>Key</th>\n",
       "      <th>summary_sim</th>\n",
       "      <th>synopsis_sim</th>\n",
       "    </tr>\n",
       "  </thead>\n",
       "  <tbody>\n",
       "    <tr>\n",
       "      <th>0</th>\n",
       "      <td>tt0111161</td>\n",
       "      <td>ur6574726</td>\n",
       "      <td>True</td>\n",
       "      <td>I have been a fan of this movie for a long tim...</td>\n",
       "      <td>9</td>\n",
       "      <td>tt0111161_ur6574726</td>\n",
       "      <td>0.8182528627370624</td>\n",
       "      <td>0.9379999551535706</td>\n",
       "    </tr>\n",
       "    <tr>\n",
       "      <th>1</th>\n",
       "      <td>tt0111161</td>\n",
       "      <td>ur31182745</td>\n",
       "      <td>True</td>\n",
       "      <td>I made my account on IMDb Just to Rate this mo...</td>\n",
       "      <td>10</td>\n",
       "      <td>tt0111161_ur31182745</td>\n",
       "      <td>0.8248598156132173</td>\n",
       "      <td>0.9410306515057832</td>\n",
       "    </tr>\n",
       "    <tr>\n",
       "      <th>2</th>\n",
       "      <td>tt0111161</td>\n",
       "      <td>ur9871443</td>\n",
       "      <td>True</td>\n",
       "      <td>A friend of mine listed \"The Shawshank Redempt...</td>\n",
       "      <td>10</td>\n",
       "      <td>tt0111161_ur9871443</td>\n",
       "      <td>0.8286599404831738</td>\n",
       "      <td>0.9451207633340328</td>\n",
       "    </tr>\n",
       "    <tr>\n",
       "      <th>3</th>\n",
       "      <td>tt0111161</td>\n",
       "      <td>ur23169472</td>\n",
       "      <td>True</td>\n",
       "      <td>To tell the truth, I am speechless. I am a you...</td>\n",
       "      <td>10</td>\n",
       "      <td>tt0111161_ur23169472</td>\n",
       "      <td>0.8536536626202199</td>\n",
       "      <td>0.929594141329498</td>\n",
       "    </tr>\n",
       "    <tr>\n",
       "      <th>4</th>\n",
       "      <td>tt0111161</td>\n",
       "      <td>ur34426359</td>\n",
       "      <td>True</td>\n",
       "      <td>Wow! what a film this baby is and yes this fil...</td>\n",
       "      <td>10</td>\n",
       "      <td>tt0111161_ur34426359</td>\n",
       "      <td>0.7727762898072235</td>\n",
       "      <td>0.8943991748293878</td>\n",
       "    </tr>\n",
       "    <tr>\n",
       "      <th>...</th>\n",
       "      <td>...</td>\n",
       "      <td>...</td>\n",
       "      <td>...</td>\n",
       "      <td>...</td>\n",
       "      <td>...</td>\n",
       "      <td>...</td>\n",
       "      <td>...</td>\n",
       "      <td>...</td>\n",
       "    </tr>\n",
       "    <tr>\n",
       "      <th>257272</th>\n",
       "      <td>tt0139239</td>\n",
       "      <td>ur0415521</td>\n",
       "      <td>False</td>\n",
       "      <td>This type of movie is one that I would not ord...</td>\n",
       "      <td>9</td>\n",
       "      <td>tt0139239_ur0415521</td>\n",
       "      <td>0.7507024106067787</td>\n",
       "      <td>0.7507024106067787</td>\n",
       "    </tr>\n",
       "    <tr>\n",
       "      <th>257273</th>\n",
       "      <td>tt0139239</td>\n",
       "      <td>ur0100166</td>\n",
       "      <td>False</td>\n",
       "      <td>Go is wise, fast and pure entertainment. Assem...</td>\n",
       "      <td>10</td>\n",
       "      <td>tt0139239_ur0100166</td>\n",
       "      <td>0.7608688119019157</td>\n",
       "      <td>0.7608688119019157</td>\n",
       "    </tr>\n",
       "    <tr>\n",
       "      <th>257274</th>\n",
       "      <td>tt0139239</td>\n",
       "      <td>ur0021767</td>\n",
       "      <td>False</td>\n",
       "      <td>Well, what shall I say. this one´s fun at any ...</td>\n",
       "      <td>9</td>\n",
       "      <td>tt0139239_ur0021767</td>\n",
       "      <td>0.7717965122266363</td>\n",
       "      <td>0.7717965122266363</td>\n",
       "    </tr>\n",
       "    <tr>\n",
       "      <th>257275</th>\n",
       "      <td>tt0139239</td>\n",
       "      <td>ur0349105</td>\n",
       "      <td>False</td>\n",
       "      <td>Call this 1999 teenage version of Pulp Fiction...</td>\n",
       "      <td>3</td>\n",
       "      <td>tt0139239_ur0349105</td>\n",
       "      <td>0.7526294445454874</td>\n",
       "      <td>0.7526294445454874</td>\n",
       "    </tr>\n",
       "    <tr>\n",
       "      <th>257276</th>\n",
       "      <td>tt0139239</td>\n",
       "      <td>ur0156431</td>\n",
       "      <td>False</td>\n",
       "      <td>Why was this movie made? No doubt to sucker in...</td>\n",
       "      <td>2</td>\n",
       "      <td>tt0139239_ur0156431</td>\n",
       "      <td>0.8375494060841269</td>\n",
       "      <td>0.8375494060841269</td>\n",
       "    </tr>\n",
       "  </tbody>\n",
       "</table>\n",
       "<p>257277 rows × 8 columns</p>\n",
       "</div>"
      ],
      "text/plain": [
       "         movie_id     user_id  is_spoiler  \\\n",
       "0       tt0111161   ur6574726        True   \n",
       "1       tt0111161  ur31182745        True   \n",
       "2       tt0111161   ur9871443        True   \n",
       "3       tt0111161  ur23169472        True   \n",
       "4       tt0111161  ur34426359        True   \n",
       "...           ...         ...         ...   \n",
       "257272  tt0139239   ur0415521       False   \n",
       "257273  tt0139239   ur0100166       False   \n",
       "257274  tt0139239   ur0021767       False   \n",
       "257275  tt0139239   ur0349105       False   \n",
       "257276  tt0139239   ur0156431       False   \n",
       "\n",
       "                                              review_text  rating  \\\n",
       "0       I have been a fan of this movie for a long tim...       9   \n",
       "1       I made my account on IMDb Just to Rate this mo...      10   \n",
       "2       A friend of mine listed \"The Shawshank Redempt...      10   \n",
       "3       To tell the truth, I am speechless. I am a you...      10   \n",
       "4       Wow! what a film this baby is and yes this fil...      10   \n",
       "...                                                   ...     ...   \n",
       "257272  This type of movie is one that I would not ord...       9   \n",
       "257273  Go is wise, fast and pure entertainment. Assem...      10   \n",
       "257274  Well, what shall I say. this one´s fun at any ...       9   \n",
       "257275  Call this 1999 teenage version of Pulp Fiction...       3   \n",
       "257276  Why was this movie made? No doubt to sucker in...       2   \n",
       "\n",
       "                         Key        summary_sim       synopsis_sim  \n",
       "0        tt0111161_ur6574726 0.8182528627370624 0.9379999551535706  \n",
       "1       tt0111161_ur31182745 0.8248598156132173 0.9410306515057832  \n",
       "2        tt0111161_ur9871443 0.8286599404831738 0.9451207633340328  \n",
       "3       tt0111161_ur23169472 0.8536536626202199  0.929594141329498  \n",
       "4       tt0111161_ur34426359 0.7727762898072235 0.8943991748293878  \n",
       "...                      ...                ...                ...  \n",
       "257272   tt0139239_ur0415521 0.7507024106067787 0.7507024106067787  \n",
       "257273   tt0139239_ur0100166 0.7608688119019157 0.7608688119019157  \n",
       "257274   tt0139239_ur0021767 0.7717965122266363 0.7717965122266363  \n",
       "257275   tt0139239_ur0349105 0.7526294445454874 0.7526294445454874  \n",
       "257276   tt0139239_ur0156431 0.8375494060841269 0.8375494060841269  \n",
       "\n",
       "[257277 rows x 8 columns]"
      ]
     },
     "execution_count": 13,
     "metadata": {},
     "output_type": "execute_result"
    }
   ],
   "source": [
    "df_raw"
   ]
  },
  {
   "cell_type": "code",
   "execution_count": 14,
   "id": "0defd96b",
   "metadata": {},
   "outputs": [],
   "source": [
    "df_raw.summary_sim = df_raw.summary_sim.round(3)"
   ]
  },
  {
   "cell_type": "code",
   "execution_count": 15,
   "id": "8f70d4b1",
   "metadata": {},
   "outputs": [],
   "source": [
    "df_raw.synopsis_sim = df_raw.synopsis_sim.round(3)"
   ]
  },
  {
   "cell_type": "code",
   "execution_count": 16,
   "id": "0e9218d6",
   "metadata": {},
   "outputs": [],
   "source": [
    "df_1 = df_raw.iloc[0:250]"
   ]
  },
  {
   "cell_type": "code",
   "execution_count": 17,
   "id": "506fb04b",
   "metadata": {
    "scrolled": true
   },
   "outputs": [
    {
     "name": "stdout",
     "output_type": "stream",
     "text": [
      "DONE.\n"
     ]
    }
   ],
   "source": [
    "data = []\n",
    "# For each of the samples...\n",
    "for index, row in df_1.iterrows():\n",
    "\n",
    "    # Piece it together...    \n",
    "    combined = \"\"\n",
    "    \n",
    "    #combined += \"The ID of this item is {:}, \".format(row[\"Clothing ID\"])\n",
    "    combined += \"My review is {:} similar to the summary. \".format(row[\"summary_sim\"])\n",
    "    \n",
    "    combined += \"And {:} similar to the ending. \".format(row[\"synopsis_sim\"])\n",
    "       \n",
    "    # Finally, append the review the text!\n",
    "    data.append(combined)\n",
    "    \n",
    "df = pd.DataFrame(data, columns=['combined'])\n",
    "df_1 = pd.concat([df_1,df], axis=1)\n",
    "\n",
    "\n",
    "print('DONE.')"
   ]
  },
  {
   "cell_type": "code",
   "execution_count": 18,
   "id": "72d5ebe1",
   "metadata": {},
   "outputs": [
    {
     "data": {
      "text/html": [
       "<div>\n",
       "<style scoped>\n",
       "    .dataframe tbody tr th:only-of-type {\n",
       "        vertical-align: middle;\n",
       "    }\n",
       "\n",
       "    .dataframe tbody tr th {\n",
       "        vertical-align: top;\n",
       "    }\n",
       "\n",
       "    .dataframe thead th {\n",
       "        text-align: right;\n",
       "    }\n",
       "</style>\n",
       "<table border=\"1\" class=\"dataframe\">\n",
       "  <thead>\n",
       "    <tr style=\"text-align: right;\">\n",
       "      <th></th>\n",
       "      <th>combined</th>\n",
       "    </tr>\n",
       "  </thead>\n",
       "  <tbody>\n",
       "    <tr>\n",
       "      <th>0</th>\n",
       "      <td>My review is 0.818 similar to the summary. And...</td>\n",
       "    </tr>\n",
       "    <tr>\n",
       "      <th>1</th>\n",
       "      <td>My review is 0.825 similar to the summary. And...</td>\n",
       "    </tr>\n",
       "    <tr>\n",
       "      <th>2</th>\n",
       "      <td>My review is 0.829 similar to the summary. And...</td>\n",
       "    </tr>\n",
       "    <tr>\n",
       "      <th>3</th>\n",
       "      <td>My review is 0.854 similar to the summary. And...</td>\n",
       "    </tr>\n",
       "    <tr>\n",
       "      <th>4</th>\n",
       "      <td>My review is 0.773 similar to the summary. And...</td>\n",
       "    </tr>\n",
       "    <tr>\n",
       "      <th>...</th>\n",
       "      <td>...</td>\n",
       "    </tr>\n",
       "    <tr>\n",
       "      <th>245</th>\n",
       "      <td>My review is 0.769 similar to the summary. And...</td>\n",
       "    </tr>\n",
       "    <tr>\n",
       "      <th>246</th>\n",
       "      <td>My review is 0.839 similar to the summary. And...</td>\n",
       "    </tr>\n",
       "    <tr>\n",
       "      <th>247</th>\n",
       "      <td>My review is 0.819 similar to the summary. And...</td>\n",
       "    </tr>\n",
       "    <tr>\n",
       "      <th>248</th>\n",
       "      <td>My review is 0.801 similar to the summary. And...</td>\n",
       "    </tr>\n",
       "    <tr>\n",
       "      <th>249</th>\n",
       "      <td>My review is 0.871 similar to the summary. And...</td>\n",
       "    </tr>\n",
       "  </tbody>\n",
       "</table>\n",
       "<p>250 rows × 1 columns</p>\n",
       "</div>"
      ],
      "text/plain": [
       "                                              combined\n",
       "0    My review is 0.818 similar to the summary. And...\n",
       "1    My review is 0.825 similar to the summary. And...\n",
       "2    My review is 0.829 similar to the summary. And...\n",
       "3    My review is 0.854 similar to the summary. And...\n",
       "4    My review is 0.773 similar to the summary. And...\n",
       "..                                                 ...\n",
       "245  My review is 0.769 similar to the summary. And...\n",
       "246  My review is 0.839 similar to the summary. And...\n",
       "247  My review is 0.819 similar to the summary. And...\n",
       "248  My review is 0.801 similar to the summary. And...\n",
       "249  My review is 0.871 similar to the summary. And...\n",
       "\n",
       "[250 rows x 1 columns]"
      ]
     },
     "execution_count": 18,
     "metadata": {},
     "output_type": "execute_result"
    }
   ],
   "source": [
    "df"
   ]
  },
  {
   "cell_type": "code",
   "execution_count": 19,
   "id": "1670646c",
   "metadata": {},
   "outputs": [
    {
     "data": {
      "text/html": [
       "<div>\n",
       "<style scoped>\n",
       "    .dataframe tbody tr th:only-of-type {\n",
       "        vertical-align: middle;\n",
       "    }\n",
       "\n",
       "    .dataframe tbody tr th {\n",
       "        vertical-align: top;\n",
       "    }\n",
       "\n",
       "    .dataframe thead th {\n",
       "        text-align: right;\n",
       "    }\n",
       "</style>\n",
       "<table border=\"1\" class=\"dataframe\">\n",
       "  <thead>\n",
       "    <tr style=\"text-align: right;\">\n",
       "      <th></th>\n",
       "      <th>movie_id</th>\n",
       "      <th>user_id</th>\n",
       "      <th>is_spoiler</th>\n",
       "      <th>review_text</th>\n",
       "      <th>rating</th>\n",
       "      <th>Key</th>\n",
       "      <th>summary_sim</th>\n",
       "      <th>synopsis_sim</th>\n",
       "      <th>combined</th>\n",
       "    </tr>\n",
       "  </thead>\n",
       "  <tbody>\n",
       "    <tr>\n",
       "      <th>0</th>\n",
       "      <td>tt0111161</td>\n",
       "      <td>ur6574726</td>\n",
       "      <td>True</td>\n",
       "      <td>I have been a fan of this movie for a long tim...</td>\n",
       "      <td>9</td>\n",
       "      <td>tt0111161_ur6574726</td>\n",
       "      <td>0.818</td>\n",
       "      <td>0.938</td>\n",
       "      <td>My review is 0.818 similar to the summary. And...</td>\n",
       "    </tr>\n",
       "    <tr>\n",
       "      <th>1</th>\n",
       "      <td>tt0111161</td>\n",
       "      <td>ur31182745</td>\n",
       "      <td>True</td>\n",
       "      <td>I made my account on IMDb Just to Rate this mo...</td>\n",
       "      <td>10</td>\n",
       "      <td>tt0111161_ur31182745</td>\n",
       "      <td>0.825</td>\n",
       "      <td>0.941</td>\n",
       "      <td>My review is 0.825 similar to the summary. And...</td>\n",
       "    </tr>\n",
       "    <tr>\n",
       "      <th>2</th>\n",
       "      <td>tt0111161</td>\n",
       "      <td>ur9871443</td>\n",
       "      <td>True</td>\n",
       "      <td>A friend of mine listed \"The Shawshank Redempt...</td>\n",
       "      <td>10</td>\n",
       "      <td>tt0111161_ur9871443</td>\n",
       "      <td>0.829</td>\n",
       "      <td>0.945</td>\n",
       "      <td>My review is 0.829 similar to the summary. And...</td>\n",
       "    </tr>\n",
       "    <tr>\n",
       "      <th>3</th>\n",
       "      <td>tt0111161</td>\n",
       "      <td>ur23169472</td>\n",
       "      <td>True</td>\n",
       "      <td>To tell the truth, I am speechless. I am a you...</td>\n",
       "      <td>10</td>\n",
       "      <td>tt0111161_ur23169472</td>\n",
       "      <td>0.854</td>\n",
       "      <td>0.93</td>\n",
       "      <td>My review is 0.854 similar to the summary. And...</td>\n",
       "    </tr>\n",
       "    <tr>\n",
       "      <th>4</th>\n",
       "      <td>tt0111161</td>\n",
       "      <td>ur34426359</td>\n",
       "      <td>True</td>\n",
       "      <td>Wow! what a film this baby is and yes this fil...</td>\n",
       "      <td>10</td>\n",
       "      <td>tt0111161_ur34426359</td>\n",
       "      <td>0.773</td>\n",
       "      <td>0.894</td>\n",
       "      <td>My review is 0.773 similar to the summary. And...</td>\n",
       "    </tr>\n",
       "    <tr>\n",
       "      <th>...</th>\n",
       "      <td>...</td>\n",
       "      <td>...</td>\n",
       "      <td>...</td>\n",
       "      <td>...</td>\n",
       "      <td>...</td>\n",
       "      <td>...</td>\n",
       "      <td>...</td>\n",
       "      <td>...</td>\n",
       "      <td>...</td>\n",
       "    </tr>\n",
       "    <tr>\n",
       "      <th>245</th>\n",
       "      <td>tt0111161</td>\n",
       "      <td>ur59411095</td>\n",
       "      <td>True</td>\n",
       "      <td>With little bit of suspense,it's make me insan...</td>\n",
       "      <td>10</td>\n",
       "      <td>tt0111161_ur59411095</td>\n",
       "      <td>0.769</td>\n",
       "      <td>0.899</td>\n",
       "      <td>My review is 0.769 similar to the summary. And...</td>\n",
       "    </tr>\n",
       "    <tr>\n",
       "      <th>246</th>\n",
       "      <td>tt0111161</td>\n",
       "      <td>ur42888444</td>\n",
       "      <td>True</td>\n",
       "      <td>Very good movie. I can't say anything bad abou...</td>\n",
       "      <td>9</td>\n",
       "      <td>tt0111161_ur42888444</td>\n",
       "      <td>0.839</td>\n",
       "      <td>0.922</td>\n",
       "      <td>My review is 0.839 similar to the summary. And...</td>\n",
       "    </tr>\n",
       "    <tr>\n",
       "      <th>247</th>\n",
       "      <td>tt0111161</td>\n",
       "      <td>ur20666327</td>\n",
       "      <td>True</td>\n",
       "      <td>The best movie of all time! Great acting, grea...</td>\n",
       "      <td>10</td>\n",
       "      <td>tt0111161_ur20666327</td>\n",
       "      <td>0.819</td>\n",
       "      <td>0.883</td>\n",
       "      <td>My review is 0.819 similar to the summary. And...</td>\n",
       "    </tr>\n",
       "    <tr>\n",
       "      <th>248</th>\n",
       "      <td>tt0111161</td>\n",
       "      <td>ur58590006</td>\n",
       "      <td>True</td>\n",
       "      <td>ı think it is best movie in the world last end...</td>\n",
       "      <td>10</td>\n",
       "      <td>tt0111161_ur58590006</td>\n",
       "      <td>0.801</td>\n",
       "      <td>0.88</td>\n",
       "      <td>My review is 0.801 similar to the summary. And...</td>\n",
       "    </tr>\n",
       "    <tr>\n",
       "      <th>249</th>\n",
       "      <td>tt0111161</td>\n",
       "      <td>ur48122850</td>\n",
       "      <td>True</td>\n",
       "      <td>This movie is, in my opinion, the best movie o...</td>\n",
       "      <td>10</td>\n",
       "      <td>tt0111161_ur48122850</td>\n",
       "      <td>0.871</td>\n",
       "      <td>0.938</td>\n",
       "      <td>My review is 0.871 similar to the summary. And...</td>\n",
       "    </tr>\n",
       "  </tbody>\n",
       "</table>\n",
       "<p>250 rows × 9 columns</p>\n",
       "</div>"
      ],
      "text/plain": [
       "      movie_id     user_id  is_spoiler  \\\n",
       "0    tt0111161   ur6574726        True   \n",
       "1    tt0111161  ur31182745        True   \n",
       "2    tt0111161   ur9871443        True   \n",
       "3    tt0111161  ur23169472        True   \n",
       "4    tt0111161  ur34426359        True   \n",
       "..         ...         ...         ...   \n",
       "245  tt0111161  ur59411095        True   \n",
       "246  tt0111161  ur42888444        True   \n",
       "247  tt0111161  ur20666327        True   \n",
       "248  tt0111161  ur58590006        True   \n",
       "249  tt0111161  ur48122850        True   \n",
       "\n",
       "                                           review_text  rating  \\\n",
       "0    I have been a fan of this movie for a long tim...       9   \n",
       "1    I made my account on IMDb Just to Rate this mo...      10   \n",
       "2    A friend of mine listed \"The Shawshank Redempt...      10   \n",
       "3    To tell the truth, I am speechless. I am a you...      10   \n",
       "4    Wow! what a film this baby is and yes this fil...      10   \n",
       "..                                                 ...     ...   \n",
       "245  With little bit of suspense,it's make me insan...      10   \n",
       "246  Very good movie. I can't say anything bad abou...       9   \n",
       "247  The best movie of all time! Great acting, grea...      10   \n",
       "248  ı think it is best movie in the world last end...      10   \n",
       "249  This movie is, in my opinion, the best movie o...      10   \n",
       "\n",
       "                      Key  summary_sim  synopsis_sim  \\\n",
       "0     tt0111161_ur6574726        0.818         0.938   \n",
       "1    tt0111161_ur31182745        0.825         0.941   \n",
       "2     tt0111161_ur9871443        0.829         0.945   \n",
       "3    tt0111161_ur23169472        0.854          0.93   \n",
       "4    tt0111161_ur34426359        0.773         0.894   \n",
       "..                    ...          ...           ...   \n",
       "245  tt0111161_ur59411095        0.769         0.899   \n",
       "246  tt0111161_ur42888444        0.839         0.922   \n",
       "247  tt0111161_ur20666327        0.819         0.883   \n",
       "248  tt0111161_ur58590006        0.801          0.88   \n",
       "249  tt0111161_ur48122850        0.871         0.938   \n",
       "\n",
       "                                              combined  \n",
       "0    My review is 0.818 similar to the summary. And...  \n",
       "1    My review is 0.825 similar to the summary. And...  \n",
       "2    My review is 0.829 similar to the summary. And...  \n",
       "3    My review is 0.854 similar to the summary. And...  \n",
       "4    My review is 0.773 similar to the summary. And...  \n",
       "..                                                 ...  \n",
       "245  My review is 0.769 similar to the summary. And...  \n",
       "246  My review is 0.839 similar to the summary. And...  \n",
       "247  My review is 0.819 similar to the summary. And...  \n",
       "248  My review is 0.801 similar to the summary. And...  \n",
       "249  My review is 0.871 similar to the summary. And...  \n",
       "\n",
       "[250 rows x 9 columns]"
      ]
     },
     "execution_count": 19,
     "metadata": {},
     "output_type": "execute_result"
    }
   ],
   "source": [
    "df_1"
   ]
  },
  {
   "cell_type": "code",
   "execution_count": 20,
   "id": "bbb974e9",
   "metadata": {},
   "outputs": [],
   "source": [
    "df_1['text'] = df_1.review_text.map(str) + df_1.combined.map(str)"
   ]
  },
  {
   "cell_type": "markdown",
   "id": "b3459b6d",
   "metadata": {},
   "source": [
    "### Data Preprocessing"
   ]
  },
  {
   "cell_type": "code",
   "execution_count": 21,
   "id": "ad3457ae",
   "metadata": {},
   "outputs": [],
   "source": [
    "# column rename\n",
    "df_raw['is_spoiler']= df_raw['is_spoiler'].replace([True,False],[1,0])\n",
    "df_raw.rename(columns={'is_spoiler':'class', 'review_text':'text'}, inplace = True)\n",
    "df = df_raw[['class','text']]"
   ]
  },
  {
   "cell_type": "code",
   "execution_count": 22,
   "id": "f40fb7d9",
   "metadata": {},
   "outputs": [
    {
     "name": "stderr",
     "output_type": "stream",
     "text": [
      "C:\\Users\\User\\anaconda3\\envs\\juunho\\lib\\site-packages\\pandas\\core\\generic.py:6619: SettingWithCopyWarning: \n",
      "A value is trying to be set on a copy of a slice from a DataFrame\n",
      "\n",
      "See the caveats in the documentation: https://pandas.pydata.org/pandas-docs/stable/user_guide/indexing.html#returning-a-view-versus-a-copy\n",
      "  return self._update_inplace(result)\n",
      "C:\\Users\\User\\anaconda3\\envs\\juunho\\lib\\site-packages\\pandas\\util\\_decorators.py:311: SettingWithCopyWarning: \n",
      "A value is trying to be set on a copy of a slice from a DataFrame\n",
      "\n",
      "See the caveats in the documentation: https://pandas.pydata.org/pandas-docs/stable/user_guide/indexing.html#returning-a-view-versus-a-copy\n",
      "  return func(*args, **kwargs)\n"
     ]
    }
   ],
   "source": [
    "# null replace\n",
    "df['text'].replace('', np.nan, inplace=True)\n",
    "df.dropna(subset=['text'], inplace=True)"
   ]
  },
  {
   "cell_type": "markdown",
   "id": "6ca2e8d3",
   "metadata": {},
   "source": [
    "### Balancing"
   ]
  },
  {
   "cell_type": "code",
   "execution_count": 23,
   "id": "31ec1f75",
   "metadata": {},
   "outputs": [
    {
     "name": "stdout",
     "output_type": "stream",
     "text": [
      "nonspoiler: 208432\n",
      "spoiler: 48845\n"
     ]
    }
   ],
   "source": [
    "df_non = df[df['class'] == 0]\n",
    "df_spoiler = df[df['class'] == 1]\n",
    "print(\"nonspoiler:\", len(df_non))\n",
    "print(\"spoiler:\", len(df_spoiler))"
   ]
  },
  {
   "cell_type": "code",
   "execution_count": 24,
   "id": "6b4924e0",
   "metadata": {},
   "outputs": [
    {
     "name": "stdout",
     "output_type": "stream",
     "text": [
      "weight-decreased nonspoiler: 104216\n",
      "spoiler: 48845\n",
      "balanced total: 153061\n"
     ]
    }
   ],
   "source": [
    "df_non = df_non.sample(frac =.5)\n",
    "print(\"weight-decreased nonspoiler:\", len(df_non))\n",
    "print(\"spoiler:\", len(df_spoiler))\n",
    "print(\"balanced total:\", len(df_non)+len(df_spoiler))"
   ]
  },
  {
   "cell_type": "markdown",
   "id": "f2b2c44e",
   "metadata": {},
   "source": [
    "### Holdout"
   ]
  },
  {
   "cell_type": "code",
   "execution_count": 25,
   "id": "012c5e5b",
   "metadata": {},
   "outputs": [],
   "source": [
    "# 70/10/20 train/val/test\n",
    "df_train_non = df_non.sample(frac = .70)\n",
    "df_non = df_non.drop(df_train_non.index)\n",
    "df_train_spoiler = df_spoiler.sample(frac = .70)\n",
    "df_spoiler = df_spoiler.drop(df_train_spoiler.index)\n",
    "\n",
    "# use 33% of the remaining for validation (which is 10% of whole dataset)\n",
    "df_dev_non = df_non.sample(frac = .333)\n",
    "df_non = df_non.drop(df_dev_non.index)\n",
    "df_dev_spoiler = df_spoiler.sample(frac = .333)\n",
    "df_spoiler = df_spoiler.drop(df_dev_spoiler.index)\n",
    "\n",
    "# use all of the remaining for test (which is 20% of whole dataset)\n",
    "df_test_non = df_non\n",
    "df_test_spoiler = df_spoiler"
   ]
  },
  {
   "cell_type": "code",
   "execution_count": 26,
   "id": "d0147367",
   "metadata": {},
   "outputs": [
    {
     "name": "stdout",
     "output_type": "stream",
     "text": [
      "train: 107143\n",
      "dev: 15290\n",
      "test: 30628\n",
      "all: 153061\n"
     ]
    }
   ],
   "source": [
    "# merge and shuffle\n",
    "\n",
    "df_train = pd.concat([df_train_non, df_train_spoiler])\n",
    "df_train = df_train.sample(frac=1).reset_index(drop=True)\n",
    "\n",
    "df_dev = pd.concat([df_dev_non, df_dev_spoiler])\n",
    "df_dev = df_dev.sample(frac=1).reset_index(drop=True)\n",
    "\n",
    "df_test = pd.concat([df_test_non, df_test_spoiler])\n",
    "df_test = df_test.sample(frac=1).reset_index(drop=True)\n",
    "\n",
    "print(\"train:\",len(df_train))\n",
    "print(\"dev:\",len(df_dev))\n",
    "print(\"test:\",len(df_test))\n",
    "print(\"all:\",len(df_train)+len(df_dev)+len(df_test))"
   ]
  },
  {
   "cell_type": "code",
   "execution_count": 27,
   "id": "5ead6238",
   "metadata": {},
   "outputs": [],
   "source": [
    "df_train.to_csv('IMDB/final/train.csv', index=False)\n",
    "df_dev.to_csv('IMDB/final/dev.csv', index=False)\n",
    "df_test.to_csv('IMDB/final/test.csv', index=False)"
   ]
  },
  {
   "cell_type": "markdown",
   "id": "076e49fa",
   "metadata": {},
   "source": [
    "### Sample"
   ]
  },
  {
   "cell_type": "code",
   "execution_count": 28,
   "id": "a83d2916",
   "metadata": {},
   "outputs": [],
   "source": [
    "df_train_sample = df_train.sample(35000)\n",
    "df_dev_sample = df_dev.sample(5000)\n",
    "df_test_sample = df_test.sample(10000)"
   ]
  },
  {
   "cell_type": "code",
   "execution_count": 29,
   "id": "a4276e20",
   "metadata": {},
   "outputs": [],
   "source": [
    "df_train_sample.to_csv('IMDB/final_sample/train.csv', index=False)\n",
    "df_dev_sample.to_csv('IMDB/final_sample/dev.csv', index=False)\n",
    "df_test_sample.to_csv('IMDB/final_sample/test.csv', index=False)"
   ]
  }
 ],
 "metadata": {
  "kernelspec": {
   "display_name": "juunho",
   "language": "python",
   "name": "juunho"
  },
  "language_info": {
   "codemirror_mode": {
    "name": "ipython",
    "version": 3
   },
   "file_extension": ".py",
   "mimetype": "text/x-python",
   "name": "python",
   "nbconvert_exporter": "python",
   "pygments_lexer": "ipython3",
   "version": "3.7.13"
  },
  "toc": {
   "base_numbering": 1,
   "nav_menu": {},
   "number_sections": true,
   "sideBar": true,
   "skip_h1_title": false,
   "title_cell": "Table of Contents",
   "title_sidebar": "Contents",
   "toc_cell": false,
   "toc_position": {},
   "toc_section_display": true,
   "toc_window_display": false
  }
 },
 "nbformat": 4,
 "nbformat_minor": 5
}
