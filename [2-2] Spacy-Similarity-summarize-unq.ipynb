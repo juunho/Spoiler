{
 "cells": [
  {
   "cell_type": "code",
   "execution_count": 1,
   "id": "bfd44932",
   "metadata": {},
   "outputs": [],
   "source": [
    "import re\n",
    "import pandas as pd\n",
    "import numpy as np\n",
    "import nltk\n",
    "from nltk.corpus import stopwords\n",
    "from nltk.stem import SnowballStemmer, PorterStemmer\n",
    "import spacy\n",
    "nlp = spacy.load('en_core_web_lg')"
   ]
  },
  {
   "cell_type": "code",
   "execution_count": 2,
   "id": "f766b237",
   "metadata": {},
   "outputs": [],
   "source": [
    "from tqdm import tqdm"
   ]
  },
  {
   "cell_type": "markdown",
   "id": "ccda3bae",
   "metadata": {},
   "source": [
    "### Data Load"
   ]
  },
  {
   "cell_type": "code",
   "execution_count": 3,
   "id": "98f23ba7",
   "metadata": {},
   "outputs": [],
   "source": [
    "df = pd.read_csv('IMDB/dataset/gensim-spacy-pre-unq.csv')"
   ]
  },
  {
   "cell_type": "code",
   "execution_count": null,
   "id": "fe763694",
   "metadata": {},
   "outputs": [],
   "source": []
  },
  {
   "cell_type": "code",
   "execution_count": 4,
   "id": "68376656",
   "metadata": {},
   "outputs": [],
   "source": [
    "df_true = df[df['is_spoiler'] == True]\n",
    "df_false = df[df['is_spoiler'] == False]"
   ]
  },
  {
   "cell_type": "code",
   "execution_count": 5,
   "id": "894eea02",
   "metadata": {},
   "outputs": [],
   "source": [
    "df_true = df_true.head(1000)\n",
    "df_false = df_false.head(1000)"
   ]
  },
  {
   "cell_type": "code",
   "execution_count": 6,
   "id": "a1d793b6",
   "metadata": {
    "scrolled": true
   },
   "outputs": [
    {
     "name": "stderr",
     "output_type": "stream",
     "text": [
      "100%|██████████████████████████████████████████████████████████████████████████████| 1000/1000 [01:00<00:00, 16.52it/s]\n"
     ]
    }
   ],
   "source": [
    "similarityValue = []\n",
    "\n",
    "for i in tqdm(range(df_true.count()[0])):\n",
    "    sentence_1 = nlp(df_true.iloc[i][3])\n",
    "    sentence_2 = nlp(df_true.iloc[i][4])\n",
    "    similarityValue.append(sentence_1.similarity(sentence_2))\n",
    "\n",
    "df_true['Similarity'] = similarityValue"
   ]
  },
  {
   "cell_type": "code",
   "execution_count": 7,
   "id": "b3ae9377",
   "metadata": {},
   "outputs": [
    {
     "name": "stderr",
     "output_type": "stream",
     "text": [
      "100%|██████████████████████████████████████████████████████████████████████████████| 1000/1000 [00:57<00:00, 17.43it/s]\n"
     ]
    }
   ],
   "source": [
    "similarityValue = []\n",
    "\n",
    "for i in tqdm(range(df_false.count()[0])):\n",
    "    sentence_1 = nlp(df_false.iloc[i][3])\n",
    "    sentence_2 = nlp(df_false.iloc[i][4])\n",
    "    similarityValue.append(sentence_1.similarity(sentence_2))\n",
    "\n",
    "df_false['Similarity'] = similarityValue"
   ]
  },
  {
   "cell_type": "code",
   "execution_count": 12,
   "id": "fc75d257",
   "metadata": {},
   "outputs": [
    {
     "data": {
      "text/html": [
       "<div>\n",
       "<style scoped>\n",
       "    .dataframe tbody tr th:only-of-type {\n",
       "        vertical-align: middle;\n",
       "    }\n",
       "\n",
       "    .dataframe tbody tr th {\n",
       "        vertical-align: top;\n",
       "    }\n",
       "\n",
       "    .dataframe thead th {\n",
       "        text-align: right;\n",
       "    }\n",
       "</style>\n",
       "<table border=\"1\" class=\"dataframe\">\n",
       "  <thead>\n",
       "    <tr style=\"text-align: right;\">\n",
       "      <th></th>\n",
       "      <th>movie_id</th>\n",
       "      <th>user_id</th>\n",
       "      <th>is_spoiler</th>\n",
       "      <th>review</th>\n",
       "      <th>synopsis</th>\n",
       "      <th>Similarity</th>\n",
       "    </tr>\n",
       "  </thead>\n",
       "  <tbody>\n",
       "    <tr>\n",
       "      <th>0</th>\n",
       "      <td>tt0111161</td>\n",
       "      <td>ur1898687</td>\n",
       "      <td>True</td>\n",
       "      <td>oscar year shawshank redempt written direct fr...</td>\n",
       "      <td>andi dufresn tim robbin banker main convict mu...</td>\n",
       "      <td>0.964982</td>\n",
       "    </tr>\n",
       "    <tr>\n",
       "      <th>1</th>\n",
       "      <td>tt0111161</td>\n",
       "      <td>ur0842118</td>\n",
       "      <td>True</td>\n",
       "      <td>shawshank redempt without doubt one brilliant ...</td>\n",
       "      <td>andi dufresn tim robbin banker main convict mu...</td>\n",
       "      <td>0.940269</td>\n",
       "    </tr>\n",
       "    <tr>\n",
       "      <th>2</th>\n",
       "      <td>tt0111161</td>\n",
       "      <td>ur1285640</td>\n",
       "      <td>True</td>\n",
       "      <td>believ film best stori ever told tell robbin p...</td>\n",
       "      <td>andi dufresn tim robbin banker main convict mu...</td>\n",
       "      <td>0.947347</td>\n",
       "    </tr>\n",
       "    <tr>\n",
       "      <th>3</th>\n",
       "      <td>tt0111161</td>\n",
       "      <td>ur1003471</td>\n",
       "      <td>True</td>\n",
       "      <td>yes spoiler film emot impact find hard write c...</td>\n",
       "      <td>andi dufresn tim robbin banker main convict mu...</td>\n",
       "      <td>0.962060</td>\n",
       "    </tr>\n",
       "    <tr>\n",
       "      <th>4</th>\n",
       "      <td>tt0111161</td>\n",
       "      <td>ur0226855</td>\n",
       "      <td>True</td>\n",
       "      <td>heart extraordinari movi brilliant indel perfo...</td>\n",
       "      <td>andi dufresn tim robbin banker main convict mu...</td>\n",
       "      <td>0.952459</td>\n",
       "    </tr>\n",
       "    <tr>\n",
       "      <th>...</th>\n",
       "      <td>...</td>\n",
       "      <td>...</td>\n",
       "      <td>...</td>\n",
       "      <td>...</td>\n",
       "      <td>...</td>\n",
       "      <td>...</td>\n",
       "    </tr>\n",
       "    <tr>\n",
       "      <th>4400</th>\n",
       "      <td>tt0068646</td>\n",
       "      <td>ur19545316</td>\n",
       "      <td>True</td>\n",
       "      <td>first would like state year old movi made born...</td>\n",
       "      <td>late summer guest gather wed recept vito corle...</td>\n",
       "      <td>0.937990</td>\n",
       "    </tr>\n",
       "    <tr>\n",
       "      <th>4401</th>\n",
       "      <td>tt0068646</td>\n",
       "      <td>ur3665426</td>\n",
       "      <td>True</td>\n",
       "      <td>studi shakespear othello literatur class cant ...</td>\n",
       "      <td>late summer guest gather wed recept vito corle...</td>\n",
       "      <td>0.917677</td>\n",
       "    </tr>\n",
       "    <tr>\n",
       "      <th>4402</th>\n",
       "      <td>tt0068646</td>\n",
       "      <td>ur23603670</td>\n",
       "      <td>True</td>\n",
       "      <td>godfath greatest film time like reason passion...</td>\n",
       "      <td>late summer guest gather wed recept vito corle...</td>\n",
       "      <td>0.960957</td>\n",
       "    </tr>\n",
       "    <tr>\n",
       "      <th>4403</th>\n",
       "      <td>tt0068646</td>\n",
       "      <td>ur2347325</td>\n",
       "      <td>True</td>\n",
       "      <td>final watch movi get hype dislik violenc bothe...</td>\n",
       "      <td>late summer guest gather wed recept vito corle...</td>\n",
       "      <td>0.898767</td>\n",
       "    </tr>\n",
       "    <tr>\n",
       "      <th>4404</th>\n",
       "      <td>tt0068646</td>\n",
       "      <td>ur14207038</td>\n",
       "      <td>True</td>\n",
       "      <td>famili everyon know power end era simpli begin...</td>\n",
       "      <td>late summer guest gather wed recept vito corle...</td>\n",
       "      <td>0.948987</td>\n",
       "    </tr>\n",
       "  </tbody>\n",
       "</table>\n",
       "<p>1000 rows × 6 columns</p>\n",
       "</div>"
      ],
      "text/plain": [
       "       movie_id     user_id  is_spoiler  \\\n",
       "0     tt0111161   ur1898687        True   \n",
       "1     tt0111161   ur0842118        True   \n",
       "2     tt0111161   ur1285640        True   \n",
       "3     tt0111161   ur1003471        True   \n",
       "4     tt0111161   ur0226855        True   \n",
       "...         ...         ...         ...   \n",
       "4400  tt0068646  ur19545316        True   \n",
       "4401  tt0068646   ur3665426        True   \n",
       "4402  tt0068646  ur23603670        True   \n",
       "4403  tt0068646   ur2347325        True   \n",
       "4404  tt0068646  ur14207038        True   \n",
       "\n",
       "                                                 review  \\\n",
       "0     oscar year shawshank redempt written direct fr...   \n",
       "1     shawshank redempt without doubt one brilliant ...   \n",
       "2     believ film best stori ever told tell robbin p...   \n",
       "3     yes spoiler film emot impact find hard write c...   \n",
       "4     heart extraordinari movi brilliant indel perfo...   \n",
       "...                                                 ...   \n",
       "4400  first would like state year old movi made born...   \n",
       "4401  studi shakespear othello literatur class cant ...   \n",
       "4402  godfath greatest film time like reason passion...   \n",
       "4403  final watch movi get hype dislik violenc bothe...   \n",
       "4404  famili everyon know power end era simpli begin...   \n",
       "\n",
       "                                               synopsis  Similarity  \n",
       "0     andi dufresn tim robbin banker main convict mu...    0.964982  \n",
       "1     andi dufresn tim robbin banker main convict mu...    0.940269  \n",
       "2     andi dufresn tim robbin banker main convict mu...    0.947347  \n",
       "3     andi dufresn tim robbin banker main convict mu...    0.962060  \n",
       "4     andi dufresn tim robbin banker main convict mu...    0.952459  \n",
       "...                                                 ...         ...  \n",
       "4400  late summer guest gather wed recept vito corle...    0.937990  \n",
       "4401  late summer guest gather wed recept vito corle...    0.917677  \n",
       "4402  late summer guest gather wed recept vito corle...    0.960957  \n",
       "4403  late summer guest gather wed recept vito corle...    0.898767  \n",
       "4404  late summer guest gather wed recept vito corle...    0.948987  \n",
       "\n",
       "[1000 rows x 6 columns]"
      ]
     },
     "execution_count": 12,
     "metadata": {},
     "output_type": "execute_result"
    }
   ],
   "source": [
    "df_true"
   ]
  },
  {
   "cell_type": "code",
   "execution_count": 8,
   "id": "7832f88c",
   "metadata": {},
   "outputs": [
    {
     "data": {
      "text/plain": [
       "<bound method NDFrame._add_numeric_operations.<locals>.mean of 0       0.964982\n",
       "1       0.940269\n",
       "2       0.947347\n",
       "3       0.962060\n",
       "4       0.952459\n",
       "          ...   \n",
       "4400    0.937990\n",
       "4401    0.917677\n",
       "4402    0.960957\n",
       "4403    0.898767\n",
       "4404    0.948987\n",
       "Name: Similarity, Length: 1000, dtype: float64>"
      ]
     },
     "execution_count": 8,
     "metadata": {},
     "output_type": "execute_result"
    }
   ],
   "source": [
    "df_true['Similarity'].mean"
   ]
  },
  {
   "cell_type": "code",
   "execution_count": 9,
   "id": "39983b58",
   "metadata": {},
   "outputs": [
    {
     "data": {
      "text/plain": [
       "<bound method NDFrame._add_numeric_operations.<locals>.mean of 956     0.941663\n",
       "957     0.937269\n",
       "958     0.936286\n",
       "959     0.963641\n",
       "960     0.935422\n",
       "          ...   \n",
       "1951    0.931559\n",
       "1952    0.900995\n",
       "1953    0.958063\n",
       "1954    0.802454\n",
       "1955    0.945604\n",
       "Name: Similarity, Length: 1000, dtype: float64>"
      ]
     },
     "execution_count": 9,
     "metadata": {},
     "output_type": "execute_result"
    }
   ],
   "source": [
    "df_false['Similarity'].mean"
   ]
  }
 ],
 "metadata": {
  "kernelspec": {
   "display_name": "juunho",
   "language": "python",
   "name": "juunho"
  },
  "language_info": {
   "codemirror_mode": {
    "name": "ipython",
    "version": 3
   },
   "file_extension": ".py",
   "mimetype": "text/x-python",
   "name": "python",
   "nbconvert_exporter": "python",
   "pygments_lexer": "ipython3",
   "version": "3.7.13"
  },
  "toc": {
   "base_numbering": 1,
   "nav_menu": {},
   "number_sections": true,
   "sideBar": true,
   "skip_h1_title": false,
   "title_cell": "Table of Contents",
   "title_sidebar": "Contents",
   "toc_cell": false,
   "toc_position": {},
   "toc_section_display": true,
   "toc_window_display": false
  }
 },
 "nbformat": 4,
 "nbformat_minor": 5
}
