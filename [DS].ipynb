{
 "cells": [
  {
   "cell_type": "code",
   "execution_count": 1,
   "id": "57903ecc",
   "metadata": {},
   "outputs": [],
   "source": [
    "import numpy as np # linear algebra\n",
    "import pandas as pd # data processing, CSV file I/O (e.g. pd.read_csv)\n",
    "import matplotlib.pyplot as plt # Used to do plots\n",
    "%matplotlib inline\n",
    "\n",
    "import nltk \n",
    "from nltk.corpus import stopwords # Stopwords \n",
    "from nltk.tokenize import word_tokenize # Word_tokenizer\n",
    "from nltk.stem.porter import PorterStemmer\n",
    "from pattern.text.en import singularize\n",
    "\n",
    "from pandarallel import pandarallel # Parallel workers on pandas dataframe\n",
    "\n",
    "import unidecode\n",
    "import re \n",
    "import time\n",
    "import string\n",
    "import statistics\n",
    "\n",
    "from datetime import datetime\n",
    "\n",
    "import contractions"
   ]
  },
  {
   "cell_type": "code",
   "execution_count": 2,
   "id": "0a222889",
   "metadata": {},
   "outputs": [],
   "source": [
    "df_reviews_dataset = pd.read_csv('IMDB/DS/dataset.csv')"
   ]
  },
  {
   "cell_type": "code",
   "execution_count": 3,
   "id": "fa5a71d3",
   "metadata": {},
   "outputs": [
    {
     "data": {
      "text/html": [
       "<div>\n",
       "<style scoped>\n",
       "    .dataframe tbody tr th:only-of-type {\n",
       "        vertical-align: middle;\n",
       "    }\n",
       "\n",
       "    .dataframe tbody tr th {\n",
       "        vertical-align: top;\n",
       "    }\n",
       "\n",
       "    .dataframe thead th {\n",
       "        text-align: right;\n",
       "    }\n",
       "</style>\n",
       "<table border=\"1\" class=\"dataframe\">\n",
       "  <thead>\n",
       "    <tr style=\"text-align: right;\">\n",
       "      <th></th>\n",
       "      <th>review_date</th>\n",
       "      <th>movie_id</th>\n",
       "      <th>user_id</th>\n",
       "      <th>is_spoiler</th>\n",
       "      <th>review_text</th>\n",
       "      <th>rating</th>\n",
       "      <th>review_summary</th>\n",
       "      <th>review_text_count</th>\n",
       "      <th>cleaned_review_stemming</th>\n",
       "      <th>cleaned_review</th>\n",
       "    </tr>\n",
       "  </thead>\n",
       "  <tbody>\n",
       "    <tr>\n",
       "      <th>0</th>\n",
       "      <td>6 September 2000</td>\n",
       "      <td>tt0111161</td>\n",
       "      <td>ur0842118</td>\n",
       "      <td>True</td>\n",
       "      <td>The Shawshank Redemption is without a doubt on...</td>\n",
       "      <td>10</td>\n",
       "      <td>Simply amazing. The best film of the 90's.</td>\n",
       "      <td>9</td>\n",
       "      <td>redempt without doubt one brilliant movi ever ...</td>\n",
       "      <td>redemption without doubt one brilliant movie e...</td>\n",
       "    </tr>\n",
       "    <tr>\n",
       "      <th>1</th>\n",
       "      <td>9 October 2005</td>\n",
       "      <td>tt0111161</td>\n",
       "      <td>ur6574726</td>\n",
       "      <td>True</td>\n",
       "      <td>I have been a fan of this movie for a long tim...</td>\n",
       "      <td>9</td>\n",
       "      <td>This Movie Saved My Life.</td>\n",
       "      <td>7</td>\n",
       "      <td>fan movi long time seem ever time life hit dow...</td>\n",
       "      <td>fan movie long time seem ever time life hit do...</td>\n",
       "    </tr>\n",
       "    <tr>\n",
       "      <th>2</th>\n",
       "      <td>4 February 2012</td>\n",
       "      <td>tt0111161</td>\n",
       "      <td>ur31182745</td>\n",
       "      <td>True</td>\n",
       "      <td>I made my account on IMDb Just to Rate this mo...</td>\n",
       "      <td>10</td>\n",
       "      <td>Movie you can see 1000 times</td>\n",
       "      <td>8</td>\n",
       "      <td>made account rate movi someon robin done great...</td>\n",
       "      <td>made account rate movie someone robin done gre...</td>\n",
       "    </tr>\n",
       "    <tr>\n",
       "      <th>3</th>\n",
       "      <td>24 October 2008</td>\n",
       "      <td>tt0111161</td>\n",
       "      <td>ur9871443</td>\n",
       "      <td>True</td>\n",
       "      <td>A friend of mine listed \"The Shawshank Redempt...</td>\n",
       "      <td>10</td>\n",
       "      <td>The Shawshank Redemption</td>\n",
       "      <td>6</td>\n",
       "      <td>friend mine list redempt one time favorit movi...</td>\n",
       "      <td>friend mine listed redemption one time favorit...</td>\n",
       "    </tr>\n",
       "    <tr>\n",
       "      <th>4</th>\n",
       "      <td>1 June 2010</td>\n",
       "      <td>tt0111161</td>\n",
       "      <td>ur23169472</td>\n",
       "      <td>True</td>\n",
       "      <td>To tell the truth, I am speechless. I am a you...</td>\n",
       "      <td>10</td>\n",
       "      <td>Blatantly Simple, yet Utterly Beautiful</td>\n",
       "      <td>9</td>\n",
       "      <td>tell truth young movi fanat fact film came yea...</td>\n",
       "      <td>tell truth young movie fanatic fact film came ...</td>\n",
       "    </tr>\n",
       "    <tr>\n",
       "      <th>...</th>\n",
       "      <td>...</td>\n",
       "      <td>...</td>\n",
       "      <td>...</td>\n",
       "      <td>...</td>\n",
       "      <td>...</td>\n",
       "      <td>...</td>\n",
       "      <td>...</td>\n",
       "      <td>...</td>\n",
       "      <td>...</td>\n",
       "      <td>...</td>\n",
       "    </tr>\n",
       "    <tr>\n",
       "      <th>279665</th>\n",
       "      <td>14 August 1999</td>\n",
       "      <td>tt0139239</td>\n",
       "      <td>ur0415521</td>\n",
       "      <td>False</td>\n",
       "      <td>This type of movie is one that I would not ord...</td>\n",
       "      <td>9</td>\n",
       "      <td>GO see it!</td>\n",
       "      <td>5</td>\n",
       "      <td>type movi one would ordinarili see howev becom...</td>\n",
       "      <td>type movie one would ordinarily see however be...</td>\n",
       "    </tr>\n",
       "    <tr>\n",
       "      <th>279666</th>\n",
       "      <td>8 August 1999</td>\n",
       "      <td>tt0139239</td>\n",
       "      <td>ur0100166</td>\n",
       "      <td>False</td>\n",
       "      <td>Go is wise, fast and pure entertainment. Assem...</td>\n",
       "      <td>10</td>\n",
       "      <td>The best teen movie of the nineties</td>\n",
       "      <td>4</td>\n",
       "      <td>go wise fast pure entertain except cast turn m...</td>\n",
       "      <td>go wise fast pure entertainment exceptional ca...</td>\n",
       "    </tr>\n",
       "    <tr>\n",
       "      <th>279667</th>\n",
       "      <td>31 July 1999</td>\n",
       "      <td>tt0139239</td>\n",
       "      <td>ur0021767</td>\n",
       "      <td>False</td>\n",
       "      <td>Well, what shall I say. this one´s fun at any ...</td>\n",
       "      <td>9</td>\n",
       "      <td>Go - see the movie</td>\n",
       "      <td>7</td>\n",
       "      <td>well shall say one fun rate three one point go...</td>\n",
       "      <td>well shall say one fun rate three one point go...</td>\n",
       "    </tr>\n",
       "    <tr>\n",
       "      <th>279668</th>\n",
       "      <td>11 June 1999</td>\n",
       "      <td>tt0139239</td>\n",
       "      <td>ur0349105</td>\n",
       "      <td>False</td>\n",
       "      <td>Call this 1999 teenage version of Pulp Fiction...</td>\n",
       "      <td>3</td>\n",
       "      <td>Haven't we seen this before?</td>\n",
       "      <td>7</td>\n",
       "      <td>call teenag version pulp fiction whatev want p...</td>\n",
       "      <td>call teenage version pulp fiction whatever wan...</td>\n",
       "    </tr>\n",
       "    <tr>\n",
       "      <th>279669</th>\n",
       "      <td>3 May 1999</td>\n",
       "      <td>tt0139239</td>\n",
       "      <td>ur0156431</td>\n",
       "      <td>False</td>\n",
       "      <td>Why was this movie made? No doubt to sucker in...</td>\n",
       "      <td>2</td>\n",
       "      <td>Go doesn't go anywhere</td>\n",
       "      <td>8</td>\n",
       "      <td>movi made doubt sucker famili faith mani care ...</td>\n",
       "      <td>movie made doubt sucker family faithful many c...</td>\n",
       "    </tr>\n",
       "  </tbody>\n",
       "</table>\n",
       "<p>279670 rows × 10 columns</p>\n",
       "</div>"
      ],
      "text/plain": [
       "             review_date   movie_id     user_id  is_spoiler  \\\n",
       "0       6 September 2000  tt0111161   ur0842118        True   \n",
       "1         9 October 2005  tt0111161   ur6574726        True   \n",
       "2        4 February 2012  tt0111161  ur31182745        True   \n",
       "3        24 October 2008  tt0111161   ur9871443        True   \n",
       "4            1 June 2010  tt0111161  ur23169472        True   \n",
       "...                  ...        ...         ...         ...   \n",
       "279665    14 August 1999  tt0139239   ur0415521       False   \n",
       "279666     8 August 1999  tt0139239   ur0100166       False   \n",
       "279667      31 July 1999  tt0139239   ur0021767       False   \n",
       "279668      11 June 1999  tt0139239   ur0349105       False   \n",
       "279669        3 May 1999  tt0139239   ur0156431       False   \n",
       "\n",
       "                                              review_text  rating  \\\n",
       "0       The Shawshank Redemption is without a doubt on...      10   \n",
       "1       I have been a fan of this movie for a long tim...       9   \n",
       "2       I made my account on IMDb Just to Rate this mo...      10   \n",
       "3       A friend of mine listed \"The Shawshank Redempt...      10   \n",
       "4       To tell the truth, I am speechless. I am a you...      10   \n",
       "...                                                   ...     ...   \n",
       "279665  This type of movie is one that I would not ord...       9   \n",
       "279666  Go is wise, fast and pure entertainment. Assem...      10   \n",
       "279667  Well, what shall I say. this one´s fun at any ...       9   \n",
       "279668  Call this 1999 teenage version of Pulp Fiction...       3   \n",
       "279669  Why was this movie made? No doubt to sucker in...       2   \n",
       "\n",
       "                                    review_summary  review_text_count  \\\n",
       "0       Simply amazing. The best film of the 90's.                  9   \n",
       "1                        This Movie Saved My Life.                  7   \n",
       "2                     Movie you can see 1000 times                  8   \n",
       "3                         The Shawshank Redemption                  6   \n",
       "4          Blatantly Simple, yet Utterly Beautiful                  9   \n",
       "...                                            ...                ...   \n",
       "279665                                  GO see it!                  5   \n",
       "279666         The best teen movie of the nineties                  4   \n",
       "279667                          Go - see the movie                  7   \n",
       "279668                Haven't we seen this before?                  7   \n",
       "279669                      Go doesn't go anywhere                  8   \n",
       "\n",
       "                                  cleaned_review_stemming  \\\n",
       "0       redempt without doubt one brilliant movi ever ...   \n",
       "1       fan movi long time seem ever time life hit dow...   \n",
       "2       made account rate movi someon robin done great...   \n",
       "3       friend mine list redempt one time favorit movi...   \n",
       "4       tell truth young movi fanat fact film came yea...   \n",
       "...                                                   ...   \n",
       "279665  type movi one would ordinarili see howev becom...   \n",
       "279666  go wise fast pure entertain except cast turn m...   \n",
       "279667  well shall say one fun rate three one point go...   \n",
       "279668  call teenag version pulp fiction whatev want p...   \n",
       "279669  movi made doubt sucker famili faith mani care ...   \n",
       "\n",
       "                                           cleaned_review  \n",
       "0       redemption without doubt one brilliant movie e...  \n",
       "1       fan movie long time seem ever time life hit do...  \n",
       "2       made account rate movie someone robin done gre...  \n",
       "3       friend mine listed redemption one time favorit...  \n",
       "4       tell truth young movie fanatic fact film came ...  \n",
       "...                                                   ...  \n",
       "279665  type movie one would ordinarily see however be...  \n",
       "279666  go wise fast pure entertainment exceptional ca...  \n",
       "279667  well shall say one fun rate three one point go...  \n",
       "279668  call teenage version pulp fiction whatever wan...  \n",
       "279669  movie made doubt sucker family faithful many c...  \n",
       "\n",
       "[279670 rows x 10 columns]"
      ]
     },
     "execution_count": 3,
     "metadata": {},
     "output_type": "execute_result"
    }
   ],
   "source": [
    "df_reviews_dataset"
   ]
  },
  {
   "cell_type": "markdown",
   "id": "bf8026de",
   "metadata": {},
   "source": [
    "### Undersampling"
   ]
  },
  {
   "cell_type": "code",
   "execution_count": 4,
   "id": "d57df8f7",
   "metadata": {},
   "outputs": [
    {
     "name": "stdout",
     "output_type": "stream",
     "text": [
      "nonspoiler: 227256\n",
      "spoiler: 52414\n"
     ]
    }
   ],
   "source": [
    "df_non = df_reviews_dataset[df_reviews_dataset['is_spoiler'] == False]\n",
    "df_spoiler = df_reviews_dataset[df_reviews_dataset['is_spoiler'] == True]\n",
    "print(\"nonspoiler:\", len(df_non))\n",
    "print(\"spoiler:\", len(df_spoiler))"
   ]
  },
  {
   "cell_type": "code",
   "execution_count": 5,
   "id": "c7b4cc00",
   "metadata": {},
   "outputs": [
    {
     "name": "stdout",
     "output_type": "stream",
     "text": [
      "weight-decreased nonspoiler: 113628\n",
      "spoiler: 52414\n",
      "balanced total: 166042\n"
     ]
    }
   ],
   "source": [
    "df_non = df_non.sample(frac =.5)\n",
    "print(\"weight-decreased nonspoiler:\", len(df_non))\n",
    "print(\"spoiler:\", len(df_spoiler))\n",
    "print(\"balanced total:\", len(df_non)+len(df_spoiler))"
   ]
  },
  {
   "cell_type": "code",
   "execution_count": 6,
   "id": "fdaf5260",
   "metadata": {},
   "outputs": [],
   "source": [
    "# 70/10/20 train/val/test\n",
    "df_train_non = df_non.sample(frac = .80)\n",
    "df_non = df_non.drop(df_train_non.index)\n",
    "\n",
    "df_train_spoiler = df_spoiler.sample(frac = .80)\n",
    "df_spoiler = df_spoiler.drop(df_train_spoiler.index)\n",
    "\n",
    "# use all of the remaining for test (which is 20% of whole dataset)\n",
    "df_test_non = df_non\n",
    "df_test_spoiler = df_spoiler"
   ]
  },
  {
   "cell_type": "code",
   "execution_count": 7,
   "id": "96b292bf",
   "metadata": {},
   "outputs": [
    {
     "name": "stdout",
     "output_type": "stream",
     "text": [
      "train: 132833\n",
      "test: 33209\n",
      "all: 166042\n"
     ]
    }
   ],
   "source": [
    "# merge and shuffle\n",
    "\n",
    "df_train = pd.concat([df_train_non, df_train_spoiler])\n",
    "#df_train = df_train.sample(frac=1).reset_index(drop=True)\n",
    "\n",
    "\n",
    "df_test = pd.concat([df_test_non, df_test_spoiler])\n",
    "#df_test = df_test.sample(frac=1).reset_index(drop=True)\n",
    "\n",
    "print(\"train:\",len(df_train))\n",
    "print(\"test:\",len(df_test))\n",
    "print(\"all:\",len(df_train)+len(df_test))"
   ]
  },
  {
   "cell_type": "markdown",
   "id": "8f6e90b0",
   "metadata": {},
   "source": [
    "Divide the dataset in X and y, we load the dataset with stemming to check if the stemming is useful to improve the model measures."
   ]
  },
  {
   "cell_type": "code",
   "execution_count": 8,
   "id": "d2bb6ae1",
   "metadata": {},
   "outputs": [],
   "source": [
    "X = df_train.cleaned_review\n",
    "X_stemming = df_train.cleaned_review_stemming\n",
    "y = df_train.is_spoiler"
   ]
  },
  {
   "cell_type": "markdown",
   "id": "a0783044",
   "metadata": {},
   "source": [
    "### Model Evaluation & Selection\n",
    "in this section we have performed all the operation needed to evalute and select the model. As the task is a binary classification problem, we have analyzed the performances of three types of classification models:\n",
    "\n",
    "- Naive Bayes Multinomial\n",
    "- Support Vector Machine\n",
    "- Logistic Regression\n",
    "\n",
    "To do these operations and handle the dataset distribution we have used the sklean and imblearn libraries. \\ We have performed the K-cross validation to evalute the model and select it."
   ]
  },
  {
   "cell_type": "code",
   "execution_count": 9,
   "id": "bfffce78",
   "metadata": {},
   "outputs": [],
   "source": [
    "from imblearn.pipeline import Pipeline, make_pipeline\n",
    "from imblearn.under_sampling import RandomUnderSampler\n",
    "\n",
    "from sklearn.feature_extraction.text import TfidfVectorizer\n",
    "from sklearn.metrics import make_scorer, accuracy_score, precision_score, recall_score, f1_score\n",
    "\n",
    "from sklearn.model_selection import cross_validate\n",
    "\n",
    "from sklearn.naive_bayes import MultinomialNB\n",
    "from sklearn.svm import LinearSVC\n",
    "from sklearn.linear_model import LogisticRegression"
   ]
  },
  {
   "cell_type": "code",
   "execution_count": 10,
   "id": "4e4fd457",
   "metadata": {},
   "outputs": [],
   "source": [
    "def print_kfold_scores(scores):\n",
    "    print(\"Accuracy = \", scores['test_accuracy'])\n",
    "    print(\"\")\n",
    "    print(\"Precision = \", scores['test_precision'])\n",
    "    print(\"\")\n",
    "    print(\"Recall = \", scores['test_recall'])\n",
    "    print(\"\")\n",
    "    print(\"F1 score = \", scores['test_f1_score'])\n",
    "    print(\"\\n-----------------------------------------------------\\n\")\n",
    "    print(\"fit_time (s) = \", scores['fit_time'])\n",
    "    print(\"\")\n",
    "    print(\"score_time (s) = \", scores['score_time'])"
   ]
  },
  {
   "cell_type": "code",
   "execution_count": 11,
   "id": "225d057b",
   "metadata": {},
   "outputs": [],
   "source": [
    "def print_cross_validation(score, stemming):\n",
    "    if stemming:\n",
    "        print(\"--------------    K-FOLD WITH STEMMING    --------------\\n\")\n",
    "        print_kfold_scores(score)\n",
    "    else:\n",
    "        print(\"--------------    K-FOLD WITHOUT STEMMING    --------------\\n\")\n",
    "        print_kfold_scores(score)"
   ]
  },
  {
   "cell_type": "code",
   "execution_count": 12,
   "id": "399c4601",
   "metadata": {},
   "outputs": [],
   "source": [
    "scoring = {\n",
    "    'accuracy' : make_scorer(accuracy_score), \n",
    "    'precision' : make_scorer(precision_score),\n",
    "    'recall' : make_scorer(recall_score), \n",
    "    'f1_score' : make_scorer(f1_score)\n",
    "}"
   ]
  },
  {
   "cell_type": "code",
   "execution_count": 13,
   "id": "238a3cb3",
   "metadata": {},
   "outputs": [],
   "source": [
    "from sklearn.model_selection import StratifiedKFold\n",
    "\n",
    "n_folds = 10\n",
    "skf = StratifiedKFold(n_folds)"
   ]
  },
  {
   "cell_type": "code",
   "execution_count": 14,
   "id": "3e84f388",
   "metadata": {},
   "outputs": [],
   "source": [
    "def apply_cross_validation(clf, X, y, ngrams = (1,1), sampling_ratio = -1, n_jobs = 5, stemming = False):\n",
    "    '''\n",
    "    \n",
    "    '''\n",
    "    \n",
    "    if sampling_ratio == -1: \n",
    "        clf_pipeline = Pipeline([\n",
    "            ('vect', TfidfVectorizer(ngram_range=ngrams)),\n",
    "            ('clf', clf)\n",
    "        ])\n",
    "    else:\n",
    "        clf_pipeline = Pipeline([\n",
    "            ('vect', TfidfVectorizer(ngram_range=ngrams)),\n",
    "            ('rus', RandomUnderSampler(sampling_strategy=sampling_ratio)),\n",
    "            ('clf', clf)\n",
    "        ])\n",
    "    \n",
    "    score = cross_validate(clf_pipeline, X, y, cv = skf, scoring=scoring, n_jobs = n_jobs)\n",
    "    \n",
    "    print_cross_validation(score, stemming)\n",
    "    \n",
    "    return clf_pipeline, score"
   ]
  },
  {
   "cell_type": "markdown",
   "id": "f868b96b",
   "metadata": {},
   "source": [
    "### COMPARE MODELS USING DATASET DISTRIBUTION\n",
    "- We have applied the cross-validation with imbalanced-distribution to compare how classifier works on the general dataset and decide which models analyze in more details."
   ]
  },
  {
   "cell_type": "markdown",
   "id": "5a15639a",
   "metadata": {},
   "source": [
    "1. MULTINOMIAL"
   ]
  },
  {
   "cell_type": "code",
   "execution_count": 15,
   "id": "2ea11c09",
   "metadata": {},
   "outputs": [
    {
     "name": "stdout",
     "output_type": "stream",
     "text": [
      "--------------    K-FOLD WITHOUT STEMMING    --------------\n",
      "\n",
      "Accuracy =  [0.69745559 0.7030262  0.70152063 0.69833622 0.69856207 0.70202514\n",
      " 0.70067003 0.70021832 0.69901378 0.70097117]\n",
      "\n",
      "Precision =  [0.64646465 0.7137931  0.6892562  0.66548043 0.67213115 0.7221172\n",
      " 0.68935428 0.678511   0.67504488 0.69488536]\n",
      "\n",
      "Recall =  [0.09158121 0.09873599 0.09942775 0.08919628 0.08800382 0.09110422\n",
      " 0.09420463 0.09563558 0.08967326 0.09396613]\n",
      "\n",
      "F1 score =  [0.16043451 0.1734758  0.17378621 0.1573081  0.15563054 0.16179585\n",
      " 0.16575745 0.16764214 0.15831579 0.16554622]\n",
      "\n",
      "-----------------------------------------------------\n",
      "\n",
      "fit_time (s) =  [5.8608861  6.10414433 5.89865708 5.93442178 5.96711278 6.00151014\n",
      " 5.97180629 5.90679622 5.92323756 5.97667694]\n",
      "\n",
      "score_time (s) =  [0.72054744 0.73716235 0.66312289 0.80198741 0.80685353 0.70932269\n",
      " 0.63572025 0.62386203 0.64881063 0.61686134]\n"
     ]
    }
   ],
   "source": [
    "# Apply cross-validation\n",
    "clf_pipeline, score = apply_cross_validation(MultinomialNB(), X, y) \n",
    "\n",
    "# Register average precision and recall\n",
    "avg_multinomial_precision = statistics.mean(score['test_precision'])\n",
    "avg_multinomial_recall = statistics.mean(score['test_recall'])"
   ]
  },
  {
   "cell_type": "markdown",
   "id": "8b5de450",
   "metadata": {},
   "source": [
    "2. SVM"
   ]
  },
  {
   "cell_type": "code",
   "execution_count": 16,
   "id": "07a5edaf",
   "metadata": {},
   "outputs": [
    {
     "name": "stdout",
     "output_type": "stream",
     "text": [
      "--------------    K-FOLD WITHOUT STEMMING    --------------\n",
      "\n",
      "Accuracy =  [0.7254592  0.72982535 0.73125565 0.72566438 0.72626666 0.72822405\n",
      " 0.72732064 0.72438455 0.72935331 0.72732064]\n",
      "\n",
      "Precision =  [0.59472588 0.60894661 0.61079545 0.59800071 0.60079624 0.60550127\n",
      " 0.60049278 0.59459459 0.60498596 0.60370505]\n",
      "\n",
      "Recall =  [0.40877653 0.40257572 0.41010968 0.39947532 0.39589793 0.39899833\n",
      " 0.40686859 0.39875984 0.41092297 0.39637491]\n",
      "\n",
      "F1 score =  [0.48452297 0.48470926 0.49072753 0.47898198 0.4772858  0.48102358\n",
      " 0.4850725  0.4773733  0.48941912 0.47854881]\n",
      "\n",
      "-----------------------------------------------------\n",
      "\n",
      "fit_time (s) =  [10.33399367 10.43690205 10.34187865 10.31778526 10.19450879 10.4019568\n",
      " 10.42409158 10.38315248 10.21453786 10.21861839]\n",
      "\n",
      "score_time (s) =  [0.69783211 0.69752717 0.69052219 0.77938676 0.79368687 0.69163513\n",
      " 0.68287849 0.67604113 0.66229296 0.62188768]\n"
     ]
    }
   ],
   "source": [
    "# Apply cross-validation\n",
    "clf_pipeline, score = apply_cross_validation(LinearSVC(), X, y)\n",
    "\n",
    "# Register average precision and recall\n",
    "avg_svm_precision = statistics.mean(score['test_precision'])\n",
    "avg_svm_recall = statistics.mean(score['test_recall'])"
   ]
  },
  {
   "cell_type": "markdown",
   "id": "04438ebd",
   "metadata": {},
   "source": [
    "3. LOGISTIC"
   ]
  },
  {
   "cell_type": "code",
   "execution_count": 17,
   "id": "25c5f279",
   "metadata": {},
   "outputs": [
    {
     "name": "stdout",
     "output_type": "stream",
     "text": [
      "--------------    K-FOLD WITHOUT STEMMING    --------------\n",
      "\n",
      "Accuracy =  [0.73629931 0.73953628 0.74013851 0.73447263 0.73349394 0.74282918\n",
      " 0.7370323  0.7356019  0.73770985 0.73432207]\n",
      "\n",
      "Precision =  [0.63877715 0.65549427 0.65747029 0.64122137 0.64030941 0.66538953\n",
      " 0.64919011 0.64594942 0.64594483 0.64139693]\n",
      "\n",
      "Recall =  [0.37872645 0.36847126 0.36933715 0.360601   0.35535416 0.37276413\n",
      " 0.36322442 0.35940854 0.37419509 0.35917005]\n",
      "\n",
      "F1 score =  [0.47552029 0.47175573 0.4729771  0.46160891 0.45705521 0.47783552\n",
      " 0.46582046 0.46184493 0.47387496 0.46048005]\n",
      "\n",
      "-----------------------------------------------------\n",
      "\n",
      "fit_time (s) =  [14.92054582 13.77290273 13.60211205 14.31327486 14.2218647  15.52633238\n",
      " 13.94021702 15.45724249 14.83387661 14.67006278]\n",
      "\n",
      "score_time (s) =  [0.74517846 0.80081964 0.81693482 0.74231935 0.72523403 0.6930573\n",
      " 0.84058523 0.56311226 0.6560216  0.67547703]\n"
     ]
    }
   ],
   "source": [
    "# Apply cross-validation\n",
    "clf_pipeline, score = apply_cross_validation(LogisticRegression(max_iter=10000), X, y)\n",
    "\n",
    "# Register average precision and recall\n",
    "avg_logistic_precision = statistics.mean(score['test_precision'])\n",
    "avg_logistic_recall = statistics.mean(score['test_recall'])"
   ]
  },
  {
   "cell_type": "markdown",
   "id": "f2376f1c",
   "metadata": {},
   "source": [
    "---"
   ]
  },
  {
   "cell_type": "code",
   "execution_count": 18,
   "id": "2cf4b3b5",
   "metadata": {},
   "outputs": [
    {
     "data": {
      "text/html": [
       "<div>\n",
       "<style scoped>\n",
       "    .dataframe tbody tr th:only-of-type {\n",
       "        vertical-align: middle;\n",
       "    }\n",
       "\n",
       "    .dataframe tbody tr th {\n",
       "        vertical-align: top;\n",
       "    }\n",
       "\n",
       "    .dataframe thead th {\n",
       "        text-align: right;\n",
       "    }\n",
       "</style>\n",
       "<table border=\"1\" class=\"dataframe\">\n",
       "  <thead>\n",
       "    <tr style=\"text-align: right;\">\n",
       "      <th></th>\n",
       "      <th>AVG_Precision</th>\n",
       "      <th>AVG_Recall</th>\n",
       "    </tr>\n",
       "  </thead>\n",
       "  <tbody>\n",
       "    <tr>\n",
       "      <th>Multinomial</th>\n",
       "      <td>0.684704</td>\n",
       "      <td>0.093153</td>\n",
       "    </tr>\n",
       "    <tr>\n",
       "      <th>SVM</th>\n",
       "      <td>0.602254</td>\n",
       "      <td>0.402876</td>\n",
       "    </tr>\n",
       "    <tr>\n",
       "      <th>Logistic</th>\n",
       "      <td>0.648114</td>\n",
       "      <td>0.366125</td>\n",
       "    </tr>\n",
       "  </tbody>\n",
       "</table>\n",
       "</div>"
      ],
      "text/plain": [
       "             AVG_Precision  AVG_Recall\n",
       "Multinomial       0.684704    0.093153\n",
       "SVM               0.602254    0.402876\n",
       "Logistic          0.648114    0.366125"
      ]
     },
     "execution_count": 18,
     "metadata": {},
     "output_type": "execute_result"
    }
   ],
   "source": [
    "pd.DataFrame([\n",
    "    [avg_multinomial_precision, avg_multinomial_recall],\n",
    "    [avg_svm_precision, avg_svm_recall],\n",
    "    [avg_logistic_precision, avg_logistic_recall]\n",
    "], index = ['Multinomial', 'SVM', 'Logistic'], columns=['AVG_Precision', 'AVG_Recall'])"
   ]
  },
  {
   "cell_type": "markdown",
   "id": "4b0987d3",
   "metadata": {},
   "source": [
    "COMPARE THE MODELS PLOTTING AVG PRECISION-RECALL"
   ]
  },
  {
   "cell_type": "code",
   "execution_count": 19,
   "id": "f4950322",
   "metadata": {},
   "outputs": [
    {
     "data": {
      "image/png": "[encoded data removed]",
      "text/plain": [
       "<Figure size 432x288 with 1 Axes>"
      ]
     },
     "metadata": {
      "needs_background": "light"
     },
     "output_type": "display_data"
    }
   ],
   "source": [
    "plt.scatter(avg_multinomial_precision, avg_multinomial_recall, color ='blue')\n",
    "plt.scatter(avg_svm_precision, avg_svm_recall, color ='orange')\n",
    "plt.scatter(avg_logistic_precision, avg_logistic_recall, color ='red')\n",
    "labels = [\"multinomial\", \"svm\", \"logistic\"]\n",
    "\n",
    "plt.xlim([0, 1]) \n",
    "plt.ylim([0, 1]) \n",
    "\n",
    "plt.xlabel('precision')\n",
    "plt.ylabel('recall')\n",
    "\n",
    "plt.legend(labels=labels)\n",
    "\n",
    "plt.title('MODEL COMPARISON ON DATASET DISTRIB. MULTINOMIAL/SVM/LOGISTIC \\n')\n",
    "\n",
    "plt.show()"
   ]
  },
  {
   "cell_type": "markdown",
   "id": "be036a63",
   "metadata": {},
   "source": [
    "As we can see from the plot, the multinomial model works really bad in terms of precision and recall in respect to the other two classifiers. \n",
    "\n",
    "Due to this, we have decided to perform the analysis changing parameters and distribution only to SVM and Logistic models."
   ]
  },
  {
   "cell_type": "markdown",
   "id": "a2a5c8bb",
   "metadata": {},
   "source": [
    "### COMPARING SVM AND LOGISTIC SCORE\n",
    "In this section we have compared the SVM and Logistic model changing parameters of CountVectorizer and the distribution of the classes.\n",
    "\n",
    "We have also analyzed if the stemming is relevant in terms of increasing the model's performances."
   ]
  },
  {
   "cell_type": "markdown",
   "id": "6bd6277c",
   "metadata": {},
   "source": [
    "#### SVM"
   ]
  },
  {
   "cell_type": "code",
   "execution_count": 20,
   "id": "ad21bdc1",
   "metadata": {},
   "outputs": [],
   "source": [
    "from sklearn.svm import LinearSVC\n",
    "svm_pipelines = []\n",
    "svm_scores = []"
   ]
  },
  {
   "cell_type": "markdown",
   "id": "99a35da8",
   "metadata": {},
   "source": [
    "Ngram_range (1,1) & dataset distribution"
   ]
  },
  {
   "cell_type": "code",
   "execution_count": 21,
   "id": "1c94833a",
   "metadata": {},
   "outputs": [
    {
     "name": "stdout",
     "output_type": "stream",
     "text": [
      "--------------    K-FOLD WITHOUT STEMMING    --------------\n",
      "\n",
      "Accuracy =  [0.7254592  0.72990063 0.73125565 0.72566438 0.72626666 0.72822405\n",
      " 0.72732064 0.72438455 0.72935331 0.72732064]\n",
      "\n",
      "Precision =  [0.59472588 0.60916637 0.61079545 0.59800071 0.60079624 0.60550127\n",
      " 0.60049278 0.59459459 0.60498596 0.60370505]\n",
      "\n",
      "Recall =  [0.40877653 0.40257572 0.41010968 0.39947532 0.39589793 0.39899833\n",
      " 0.40686859 0.39875984 0.41092297 0.39637491]\n",
      "\n",
      "F1 score =  [0.48452297 0.48477886 0.49072753 0.47898198 0.4772858  0.48102358\n",
      " 0.4850725  0.4773733  0.48941912 0.47854881]\n",
      "\n",
      "-----------------------------------------------------\n",
      "\n",
      "fit_time (s) =  [10.65392995 10.56200147 10.61085248 10.64330411 10.6073308  10.68170357\n",
      " 10.65187001 10.69042873 10.62137413 10.48283768]\n",
      "\n",
      "score_time (s) =  [0.6892283  0.68777609 0.730196   0.72734523 0.72968984 0.69525909\n",
      " 0.68518353 0.66908622 0.65088153 0.62384582]\n"
     ]
    }
   ],
   "source": [
    "# with stemming\n",
    "clf_pipeline, score = apply_cross_validation(LinearSVC(), X, y, sampling_ratio = -1 )\n",
    "svm_pipelines.append(clf_pipeline)\n",
    "svm_scores.append(score)"
   ]
  },
  {
   "cell_type": "code",
   "execution_count": 22,
   "id": "a7ca7b0d",
   "metadata": {},
   "outputs": [
    {
     "name": "stdout",
     "output_type": "stream",
     "text": [
      "--------------    K-FOLD WITH STEMMING    --------------\n",
      "\n",
      "Accuracy =  [0.72741644 0.72854562 0.72997591 0.72784762 0.72340586 0.73198826\n",
      " 0.73055786 0.72656779 0.73206354 0.72829933]\n",
      "\n",
      "Precision =  [0.60149042 0.6079441  0.61048416 0.6055515  0.5952993  0.61911931\n",
      " 0.61311717 0.60400445 0.61611722 0.6093633 ]\n",
      "\n",
      "Recall =  [0.40424517 0.39422848 0.39985694 0.39542094 0.38659671 0.39232053\n",
      " 0.3968519  0.38850465 0.40114477 0.38802767]\n",
      "\n",
      "F1 score =  [0.48352589 0.47829861 0.48321567 0.47843024 0.46876807 0.48029197\n",
      " 0.48183003 0.47285922 0.48591651 0.47413667]\n",
      "\n",
      "-----------------------------------------------------\n",
      "\n",
      "fit_time (s) =  [10.36216187 10.32117939 10.35870743 10.18963456 10.15500998 10.45149302\n",
      " 10.52623177 10.41685843 10.36645246 10.22694445]\n",
      "\n",
      "score_time (s) =  [0.65476561 0.63667274 0.6513412  0.72992015 0.74458861 0.64129615\n",
      " 0.64636254 0.61520553 0.62533498 0.62234306]\n"
     ]
    }
   ],
   "source": [
    "# without stemming\n",
    "clf_pipeline, score = apply_cross_validation(LinearSVC(), X_stemming, y, sampling_ratio = -1, stemming = True)\n",
    "svm_pipelines.append(clf_pipeline)\n",
    "svm_scores.append(score)"
   ]
  },
  {
   "cell_type": "markdown",
   "id": "2298f13c",
   "metadata": {},
   "source": [
    "- Ngram_range (1,2) & dataset distribution"
   ]
  },
  {
   "cell_type": "code",
   "execution_count": 23,
   "id": "dd35cd88",
   "metadata": {},
   "outputs": [
    {
     "name": "stdout",
     "output_type": "stream",
     "text": [
      "--------------    K-FOLD WITHOUT STEMMING    --------------\n",
      "\n",
      "Accuracy =  [0.71815718 0.73396567 0.72847034 0.7241587  0.72656779 0.73552661\n",
      " 0.72671836 0.7255891  0.73123541 0.72777234]\n",
      "\n",
      "Precision =  [0.55943871 0.59300028 0.58177765 0.57272477 0.57811195 0.59460211\n",
      " 0.57684958 0.5749453  0.58485426 0.58138223]\n",
      "\n",
      "Recall =  [0.50393513 0.50107322 0.49785408 0.49678035 0.4951109  0.50965896\n",
      " 0.50393513 0.50131171 0.51204388 0.49153351]\n",
      "\n",
      "F1 score =  [0.53023839 0.54317477 0.53655403 0.53205619 0.53340185 0.54886349\n",
      " 0.53793279 0.53560963 0.54603255 0.53269579]\n",
      "\n",
      "-----------------------------------------------------\n",
      "\n",
      "fit_time (s) =  [43.11683416 43.40372896 43.00208974 43.07696986 43.37455297 43.20914602\n",
      " 43.0634675  42.72623897 42.90305972 43.1132431 ]\n",
      "\n",
      "score_time (s) =  [2.26518416 2.21026683 2.20578146 2.2496767  2.62976336 2.30102968\n",
      " 2.2833612  2.26728702 2.24946451 2.06566072]\n"
     ]
    }
   ],
   "source": [
    "# with stemming\n",
    "clf_pipeline, score = apply_cross_validation(LinearSVC(), X, y, ngrams= (1,2), sampling_ratio = -1 )\n",
    "svm_pipelines.append(clf_pipeline)\n",
    "svm_scores.append(score)"
   ]
  },
  {
   "cell_type": "code",
   "execution_count": 24,
   "id": "2b7dce17",
   "metadata": {},
   "outputs": [
    {
     "name": "stdout",
     "output_type": "stream",
     "text": [
      "--------------    K-FOLD WITH STEMMING    --------------\n",
      "\n",
      "Accuracy =  [0.72320084 0.73306233 0.72884673 0.72408341 0.72506211 0.73936611\n",
      " 0.73153655 0.72408341 0.72837461 0.72927802]\n",
      "\n",
      "Precision =  [0.57080132 0.59472914 0.58328644 0.57478754 0.57591917 0.60560532\n",
      " 0.58903721 0.57361963 0.58241758 0.58689956]\n",
      "\n",
      "Recall =  [0.49606487 0.48437873 0.49427754 0.48390174 0.48938707 0.49988075\n",
      " 0.49463391 0.49057954 0.49296446 0.48080134]\n",
      "\n",
      "F1 score =  [0.53081536 0.53391167 0.53510583 0.52544348 0.52913873 0.54768748\n",
      " 0.53772362 0.52885975 0.53397055 0.52857892]\n",
      "\n",
      "-----------------------------------------------------\n",
      "\n",
      "fit_time (s) =  [40.73781657 40.85811114 41.18200016 40.92694712 41.25438666 41.10352278\n",
      " 40.80594087 40.23863411 40.4627254  40.67227864]\n",
      "\n",
      "score_time (s) =  [2.25278616 2.20803595 2.42365646 2.20248723 2.44707894 2.15708065\n",
      " 2.15613246 2.21335411 2.21641541 2.08104086]\n"
     ]
    }
   ],
   "source": [
    "# without stemming\n",
    "clf_pipeline, score = apply_cross_validation(LinearSVC(), X_stemming, y, ngrams= (1,2), sampling_ratio = -1, stemming = True)\n",
    "svm_pipelines.append(clf_pipeline)\n",
    "svm_scores.append(score)"
   ]
  },
  {
   "cell_type": "markdown",
   "id": "c9fdbb34",
   "metadata": {},
   "source": [
    "#### Logsitic Regression"
   ]
  },
  {
   "cell_type": "code",
   "execution_count": 25,
   "id": "d749c48f",
   "metadata": {},
   "outputs": [],
   "source": [
    "from sklearn.linear_model import LogisticRegression\n",
    "logistic_pipelines = []\n",
    "logistic_scores = []"
   ]
  },
  {
   "cell_type": "markdown",
   "id": "ae2cba16",
   "metadata": {},
   "source": [
    "- Ngram_range (1,1) & dataset distribution"
   ]
  },
  {
   "cell_type": "code",
   "execution_count": 26,
   "id": "e5c255eb",
   "metadata": {},
   "outputs": [
    {
     "name": "stdout",
     "output_type": "stream",
     "text": [
      "--------------    K-FOLD WITHOUT STEMMING    --------------\n",
      "\n",
      "Accuracy =  [0.73629931 0.73953628 0.74013851 0.73447263 0.73349394 0.74282918\n",
      " 0.7370323  0.7356019  0.73770985 0.73432207]\n",
      "\n",
      "Precision =  [0.63877715 0.65549427 0.65747029 0.64122137 0.64030941 0.66538953\n",
      " 0.64919011 0.64594942 0.64594483 0.64139693]\n",
      "\n",
      "Recall =  [0.37872645 0.36847126 0.36933715 0.360601   0.35535416 0.37276413\n",
      " 0.36322442 0.35940854 0.37419509 0.35917005]\n",
      "\n",
      "F1 score =  [0.47552029 0.47175573 0.4729771  0.46160891 0.45705521 0.47783552\n",
      " 0.46582046 0.46184493 0.47387496 0.46048005]\n",
      "\n",
      "-----------------------------------------------------\n",
      "\n",
      "fit_time (s) =  [14.98619819 13.69972682 13.58163714 14.16310501 14.22561431 15.41625929\n",
      " 14.19888401 15.46123505 14.86573124 14.64483571]\n",
      "\n",
      "score_time (s) =  [0.78311563 0.80984998 0.8188076  0.81468248 0.81701374 0.72549653\n",
      " 0.84586644 0.57235694 0.65480328 0.6498208 ]\n"
     ]
    }
   ],
   "source": [
    "# with stemming\n",
    "clf_pipeline, score = apply_cross_validation(LogisticRegression(max_iter=10000), X, y, sampling_ratio = -1 )\n",
    "logistic_pipelines.append(clf_pipeline)\n",
    "logistic_scores.append(score)"
   ]
  },
  {
   "cell_type": "code",
   "execution_count": 27,
   "id": "cc6debb2",
   "metadata": {},
   "outputs": [
    {
     "name": "stdout",
     "output_type": "stream",
     "text": [
      "--------------    K-FOLD WITH STEMMING    --------------\n",
      "\n",
      "Accuracy =  [0.73652514 0.73931045 0.74096658 0.73432207 0.73198826 0.74403373\n",
      " 0.73831213 0.73499962 0.74079651 0.73650531]\n",
      "\n",
      "Precision =  [0.64011322 0.6547922  0.65786164 0.63891213 0.63337547 0.66922749\n",
      " 0.6522293  0.64252435 0.65560166 0.64890417]\n",
      "\n",
      "Recall =  [0.37753399 0.36823277 0.37410587 0.36417839 0.35845457 0.37395659\n",
      " 0.36632483 0.36179347 0.37681851 0.36012402]\n",
      "\n",
      "F1 score =  [0.47494749 0.47137842 0.47697218 0.46392222 0.45781298 0.47980416\n",
      " 0.46915089 0.46292341 0.47857035 0.46319018]\n",
      "\n",
      "-----------------------------------------------------\n",
      "\n",
      "fit_time (s) =  [13.64409256 15.06238365 13.69296622 13.04647279 14.36085892 12.01717758\n",
      " 13.07406187 12.40755129 11.96884203 12.61179328]\n",
      "\n",
      "score_time (s) =  [0.78887439 0.67986178 0.78055048 0.77595043 0.70765734 0.77308536\n",
      " 0.67786527 0.69354367 0.65592432 0.51458502]\n"
     ]
    }
   ],
   "source": [
    "# without stemming\n",
    "clf_pipeline, score = apply_cross_validation(LogisticRegression(max_iter=10000), X_stemming, y, sampling_ratio = -1, stemming = True)\n",
    "logistic_pipelines.append(clf_pipeline)\n",
    "logistic_scores.append(score)"
   ]
  },
  {
   "cell_type": "markdown",
   "id": "4265e43d",
   "metadata": {},
   "source": [
    "Ngram_range (1,2) & dataset distribution"
   ]
  },
  {
   "cell_type": "code",
   "execution_count": 28,
   "id": "d530bca9",
   "metadata": {},
   "outputs": [
    {
     "name": "stdout",
     "output_type": "stream",
     "text": [
      "--------------    K-FOLD WITHOUT STEMMING    --------------\n",
      "\n",
      "Accuracy =  [0.73298705 0.7408913  0.74224631 0.73710758 0.7398931  0.74900248\n",
      " 0.73966724 0.73740872 0.74290446 0.73801099]\n",
      "\n",
      "Precision =  [0.60745176 0.6292599  0.63248451 0.62233857 0.62956461 0.65107281\n",
      " 0.62668046 0.62084333 0.63367698 0.62451973]\n",
      "\n",
      "Recall =  [0.43548772 0.4359647  0.43824511 0.42523253 0.42761746 0.44145004\n",
      " 0.43357978 0.43191033 0.43978059 0.42642499]\n",
      "\n",
      "F1 score =  [0.50729268 0.51507467 0.51774648 0.50524228 0.50930266 0.52615122\n",
      " 0.51254581 0.50942335 0.51921723 0.50680272]\n",
      "\n",
      "-----------------------------------------------------\n",
      "\n",
      "fit_time (s) =  [215.7134397  184.36310387 212.76326871 222.6598053  187.42686653\n",
      " 176.92029238 107.7085402  188.73865747 173.77601147 134.53184009]\n",
      "\n",
      "score_time (s) =  [2.69163465 3.59524465 2.99570799 2.02821422 3.34794879 2.69251752\n",
      " 3.51409912 1.5494802  2.08986473 3.12096763]\n"
     ]
    }
   ],
   "source": [
    "# with stemming\n",
    "clf_pipeline, score = apply_cross_validation(LogisticRegression(max_iter=10000), X, y, ngrams= (1,2), sampling_ratio = -1 )\n",
    "logistic_pipelines.append(clf_pipeline)\n",
    "logistic_scores.append(score)"
   ]
  },
  {
   "cell_type": "code",
   "execution_count": 29,
   "id": "3f2b4748",
   "metadata": {},
   "outputs": [
    {
     "name": "stdout",
     "output_type": "stream",
     "text": [
      "--------------    K-FOLD WITH STEMMING    --------------\n",
      "\n",
      "Accuracy =  [0.73599819 0.73953628 0.74247215 0.73673116 0.73966724 0.74734623\n",
      " 0.74192577 0.7370323  0.74305503 0.74162463]\n",
      "\n",
      "Precision =  [0.61860304 0.63038065 0.63700815 0.625      0.62999646 0.65005378\n",
      " 0.63473054 0.62420156 0.63819986 0.63831334]\n",
      "\n",
      "Recall =  [0.42666349 0.42260911 0.42846924 0.41497734 0.42475554 0.43238731\n",
      " 0.42976389 0.4195087  0.4295254  0.41879323]\n",
      "\n",
      "F1 score =  [0.50501059 0.50599657 0.51233072 0.49878171 0.50740741 0.51933543\n",
      " 0.51251422 0.50178291 0.51347113 0.50576037]\n",
      "\n",
      "-----------------------------------------------------\n",
      "\n",
      "fit_time (s) =  [156.30069423 210.05874252 208.56929016 211.29202437 183.01728725\n",
      " 209.95564628 192.42014241 163.14294529 204.20312071 198.3360579 ]\n",
      "\n",
      "score_time (s) =  [3.49230504 2.66966343 2.81736279 2.73929858 3.24233985 3.50176215\n",
      " 2.60193229 3.04943013 1.55995202 1.99235272]\n"
     ]
    }
   ],
   "source": [
    "# without stemming\n",
    "clf_pipeline, score = apply_cross_validation(LogisticRegression(max_iter=10000), X_stemming, y, ngrams= (1,2), sampling_ratio = -1, stemming = True)\n",
    "logistic_pipelines.append(clf_pipeline)\n",
    "logistic_scores.append(score)"
   ]
  },
  {
   "cell_type": "markdown",
   "id": "db0ae528",
   "metadata": {},
   "source": [
    "---"
   ]
  },
  {
   "cell_type": "code",
   "execution_count": 30,
   "id": "c6df570c",
   "metadata": {},
   "outputs": [],
   "source": [
    "indexes=[\n",
    "    #\"ngram_1_1-sample5050\",\n",
    "    #\"ngram_1_1-sample5050_stem\",\n",
    "    #\"ngram_1_1-sample6040\",\n",
    "    #\"ngram_1_1-sample6040_stem\",\n",
    "    \"ngram_1_1-sampledataset\",\n",
    "    \"ngram_1_1-sampledataset_stem\",\n",
    "    #\"ngram_1_2-sample5050\",\n",
    "    #\"ngram_1_2-sample5050_stem\",\n",
    "    #\"ngram_1_2-sample6040\",\n",
    "    #\"ngram_1_2-sample6040_stem\",\n",
    "    \"ngram_1_2-sampledataset\",\n",
    "    \"ngram_1_2-sampledataset_stem\",\n",
    "]\n",
    "\n",
    "def create_df_scores(scores):\n",
    "    list_scores_precision = []\n",
    "    list_scores_recall = []\n",
    "    for x in scores:\n",
    "        list_scores_precision.append(x['test_precision'])\n",
    "        list_scores_recall.append(x['test_recall'])      \n",
    "                                       \n",
    "    score_df_precision = pd.DataFrame(list_scores_precision, index=indexes)\n",
    "    score_df_recall = pd.DataFrame(list_scores_recall, index=indexes)\n",
    "                                       \n",
    "    score_df_precision['mean'] = score_df_precision.mean(axis=1)\n",
    "    score_df_recall['mean'] = score_df_recall.mean(axis=1)\n",
    "    \n",
    "    score_df = pd.DataFrame([score_df_precision['mean'],score_df_recall['mean']]).T\n",
    "    score_df.columns = ['avg_precision', 'avg_recall']\n",
    "    \n",
    "    return score_df"
   ]
  },
  {
   "cell_type": "markdown",
   "id": "02544176",
   "metadata": {},
   "source": [
    "### SVM Score"
   ]
  },
  {
   "cell_type": "code",
   "execution_count": 31,
   "id": "1b091927",
   "metadata": {},
   "outputs": [
    {
     "data": {
      "text/html": [
       "<div>\n",
       "<style scoped>\n",
       "    .dataframe tbody tr th:only-of-type {\n",
       "        vertical-align: middle;\n",
       "    }\n",
       "\n",
       "    .dataframe tbody tr th {\n",
       "        vertical-align: top;\n",
       "    }\n",
       "\n",
       "    .dataframe thead th {\n",
       "        text-align: right;\n",
       "    }\n",
       "</style>\n",
       "<table border=\"1\" class=\"dataframe\">\n",
       "  <thead>\n",
       "    <tr style=\"text-align: right;\">\n",
       "      <th></th>\n",
       "      <th>avg_precision</th>\n",
       "      <th>avg_recall</th>\n",
       "    </tr>\n",
       "  </thead>\n",
       "  <tbody>\n",
       "    <tr>\n",
       "      <th>ngram_1_1-sampledataset</th>\n",
       "      <td>0.602276</td>\n",
       "      <td>0.402876</td>\n",
       "    </tr>\n",
       "    <tr>\n",
       "      <th>ngram_1_1-sampledataset_stem</th>\n",
       "      <td>0.608249</td>\n",
       "      <td>0.394720</td>\n",
       "    </tr>\n",
       "    <tr>\n",
       "      <th>ngram_1_2-sampledataset</th>\n",
       "      <td>0.579769</td>\n",
       "      <td>0.501324</td>\n",
       "    </tr>\n",
       "    <tr>\n",
       "      <th>ngram_1_2-sampledataset_stem</th>\n",
       "      <td>0.583710</td>\n",
       "      <td>0.490687</td>\n",
       "    </tr>\n",
       "  </tbody>\n",
       "</table>\n",
       "</div>"
      ],
      "text/plain": [
       "                              avg_precision  avg_recall\n",
       "ngram_1_1-sampledataset            0.602276    0.402876\n",
       "ngram_1_1-sampledataset_stem       0.608249    0.394720\n",
       "ngram_1_2-sampledataset            0.579769    0.501324\n",
       "ngram_1_2-sampledataset_stem       0.583710    0.490687"
      ]
     },
     "execution_count": 31,
     "metadata": {},
     "output_type": "execute_result"
    }
   ],
   "source": [
    "svm_df_scores = create_df_scores(svm_scores)\n",
    "svm_df_scores"
   ]
  },
  {
   "cell_type": "markdown",
   "id": "759aaa5f",
   "metadata": {},
   "source": [
    "#### Drop SVM Stemming result"
   ]
  },
  {
   "cell_type": "markdown",
   "id": "670655c3",
   "metadata": {},
   "source": [
    "We decided to drop the SVM stemming results 'cause it doesn't improve the Accuracy and Precision"
   ]
  },
  {
   "cell_type": "code",
   "execution_count": 32,
   "id": "a4d66d14",
   "metadata": {},
   "outputs": [],
   "source": [
    "svm_df_scores = svm_df_scores.drop(index=[\n",
    "    'ngram_1_2-sampledataset_stem'\n",
    "])"
   ]
  },
  {
   "cell_type": "markdown",
   "id": "f0db1286",
   "metadata": {},
   "source": [
    "### LOGISTIC REGRESSION SCORES"
   ]
  },
  {
   "cell_type": "code",
   "execution_count": 33,
   "id": "a84d4e1c",
   "metadata": {},
   "outputs": [
    {
     "data": {
      "text/html": [
       "<div>\n",
       "<style scoped>\n",
       "    .dataframe tbody tr th:only-of-type {\n",
       "        vertical-align: middle;\n",
       "    }\n",
       "\n",
       "    .dataframe tbody tr th {\n",
       "        vertical-align: top;\n",
       "    }\n",
       "\n",
       "    .dataframe thead th {\n",
       "        text-align: right;\n",
       "    }\n",
       "</style>\n",
       "<table border=\"1\" class=\"dataframe\">\n",
       "  <thead>\n",
       "    <tr style=\"text-align: right;\">\n",
       "      <th></th>\n",
       "      <th>avg_precision</th>\n",
       "      <th>avg_recall</th>\n",
       "    </tr>\n",
       "  </thead>\n",
       "  <tbody>\n",
       "    <tr>\n",
       "      <th>ngram_1_1-sampledataset</th>\n",
       "      <td>0.648114</td>\n",
       "      <td>0.366125</td>\n",
       "    </tr>\n",
       "    <tr>\n",
       "      <th>ngram_1_1-sampledataset_stem</th>\n",
       "      <td>0.649354</td>\n",
       "      <td>0.368152</td>\n",
       "    </tr>\n",
       "    <tr>\n",
       "      <th>ngram_1_2-sampledataset</th>\n",
       "      <td>0.627789</td>\n",
       "      <td>0.433569</td>\n",
       "    </tr>\n",
       "    <tr>\n",
       "      <th>ngram_1_2-sampledataset_stem</th>\n",
       "      <td>0.632649</td>\n",
       "      <td>0.424745</td>\n",
       "    </tr>\n",
       "  </tbody>\n",
       "</table>\n",
       "</div>"
      ],
      "text/plain": [
       "                              avg_precision  avg_recall\n",
       "ngram_1_1-sampledataset            0.648114    0.366125\n",
       "ngram_1_1-sampledataset_stem       0.649354    0.368152\n",
       "ngram_1_2-sampledataset            0.627789    0.433569\n",
       "ngram_1_2-sampledataset_stem       0.632649    0.424745"
      ]
     },
     "execution_count": 33,
     "metadata": {},
     "output_type": "execute_result"
    }
   ],
   "source": [
    "logistic_df_scores = create_df_scores(logistic_scores)\n",
    "logistic_df_scores"
   ]
  },
  {
   "cell_type": "markdown",
   "id": "7df20837",
   "metadata": {},
   "source": [
    "#### Drop Logistic stemming result\n",
    "- We decided to drop the Logistic stemming result 'cause it doesn't improve the Accuracy and Precision"
   ]
  },
  {
   "cell_type": "code",
   "execution_count": 34,
   "id": "d1432f68",
   "metadata": {},
   "outputs": [],
   "source": [
    "logistic_df_scores = logistic_df_scores.drop(index=[\n",
    "    'ngram_1_2-sampledataset_stem'\n",
    "])"
   ]
  },
  {
   "cell_type": "markdown",
   "id": "afe377a3",
   "metadata": {},
   "source": [
    "### EXTRACT ONLY RELEVANT RESULTS\n",
    "We have considered as relevant results the results that had precision and recall > 0.45"
   ]
  },
  {
   "cell_type": "code",
   "execution_count": 35,
   "id": "fd8e597a",
   "metadata": {},
   "outputs": [],
   "source": [
    "def get_relevant_results(df_precision, df_recall):\n",
    "    \n",
    "    indexes_precision = df_precision.loc[(\n",
    "        df_precision > 0.45\n",
    "    )].index\n",
    "    \n",
    "    indexes_recall = df_recall.loc[(\n",
    "        df_recall > 0.45\n",
    "    )].index\n",
    "    \n",
    "    indexes = [x for x in indexes_precision if x in indexes_recall]\n",
    "    \n",
    "    return indexes"
   ]
  },
  {
   "cell_type": "markdown",
   "id": "fefdae38",
   "metadata": {},
   "source": [
    "#### SVM RELEVANT RESULTS"
   ]
  },
  {
   "cell_type": "code",
   "execution_count": 36,
   "id": "76255c66",
   "metadata": {},
   "outputs": [
    {
     "data": {
      "text/html": [
       "<div>\n",
       "<style scoped>\n",
       "    .dataframe tbody tr th:only-of-type {\n",
       "        vertical-align: middle;\n",
       "    }\n",
       "\n",
       "    .dataframe tbody tr th {\n",
       "        vertical-align: top;\n",
       "    }\n",
       "\n",
       "    .dataframe thead th {\n",
       "        text-align: right;\n",
       "    }\n",
       "</style>\n",
       "<table border=\"1\" class=\"dataframe\">\n",
       "  <thead>\n",
       "    <tr style=\"text-align: right;\">\n",
       "      <th></th>\n",
       "      <th>precision</th>\n",
       "      <th>recall</th>\n",
       "    </tr>\n",
       "  </thead>\n",
       "  <tbody>\n",
       "    <tr>\n",
       "      <th>ngram_1_2-sampledataset</th>\n",
       "      <td>0.579769</td>\n",
       "      <td>0.501324</td>\n",
       "    </tr>\n",
       "  </tbody>\n",
       "</table>\n",
       "</div>"
      ],
      "text/plain": [
       "                         precision    recall\n",
       "ngram_1_2-sampledataset   0.579769  0.501324"
      ]
     },
     "execution_count": 36,
     "metadata": {},
     "output_type": "execute_result"
    }
   ],
   "source": [
    "svm_indexes = get_relevant_results(svm_df_scores['avg_precision'], svm_df_scores['avg_recall'])\n",
    "svm_results = pd.DataFrame([svm_df_scores['avg_precision'].rename('precision'),svm_df_scores['avg_recall'].rename('recall')]).T.loc[svm_indexes]\n",
    "svm_results"
   ]
  },
  {
   "cell_type": "markdown",
   "id": "9d91476d",
   "metadata": {},
   "source": [
    "###"
   ]
  },
  {
   "cell_type": "code",
   "execution_count": 37,
   "id": "2bedf95b",
   "metadata": {},
   "outputs": [
    {
     "data": {
      "text/html": [
       "<div>\n",
       "<style scoped>\n",
       "    .dataframe tbody tr th:only-of-type {\n",
       "        vertical-align: middle;\n",
       "    }\n",
       "\n",
       "    .dataframe tbody tr th {\n",
       "        vertical-align: top;\n",
       "    }\n",
       "\n",
       "    .dataframe thead th {\n",
       "        text-align: right;\n",
       "    }\n",
       "</style>\n",
       "<table border=\"1\" class=\"dataframe\">\n",
       "  <thead>\n",
       "    <tr style=\"text-align: right;\">\n",
       "      <th></th>\n",
       "      <th>precision</th>\n",
       "      <th>recall</th>\n",
       "    </tr>\n",
       "  </thead>\n",
       "  <tbody>\n",
       "  </tbody>\n",
       "</table>\n",
       "</div>"
      ],
      "text/plain": [
       "Empty DataFrame\n",
       "Columns: [precision, recall]\n",
       "Index: []"
      ]
     },
     "execution_count": 37,
     "metadata": {},
     "output_type": "execute_result"
    }
   ],
   "source": [
    "logistic_indexes = get_relevant_results(logistic_df_scores['avg_precision'], logistic_df_scores['avg_recall'])\n",
    "logistic_results = pd.DataFrame([logistic_df_scores['avg_precision'].rename('precision'),logistic_df_scores['avg_recall'].rename('recall')]).T.loc[logistic_indexes]\n",
    "logistic_results"
   ]
  },
  {
   "cell_type": "markdown",
   "id": "2c71b6a5",
   "metadata": {},
   "source": [
    "### EVALUATE THE MODEL"
   ]
  },
  {
   "cell_type": "code",
   "execution_count": 38,
   "id": "45afc331",
   "metadata": {},
   "outputs": [
    {
     "ename": "NameError",
     "evalue": "name 'folds' is not defined",
     "output_type": "error",
     "traceback": [
      "\u001b[1;31m---------------------------------------------------------------------------\u001b[0m",
      "\u001b[1;31mNameError\u001b[0m                                 Traceback (most recent call last)",
      "\u001b[1;32m~\\AppData\\Local\\Temp\\ipykernel_6396\\722905278.py\u001b[0m in \u001b[0;36m<module>\u001b[1;34m\u001b[0m\n\u001b[0;32m      5\u001b[0m \u001b[0mnot_spoiler_distribs\u001b[0m \u001b[1;33m=\u001b[0m \u001b[1;33m[\u001b[0m\u001b[1;33m]\u001b[0m\u001b[1;33m\u001b[0m\u001b[1;33m\u001b[0m\u001b[0m\n\u001b[0;32m      6\u001b[0m \u001b[1;33m\u001b[0m\u001b[0m\n\u001b[1;32m----> 7\u001b[1;33m \u001b[1;32mfor\u001b[0m \u001b[0mfold\u001b[0m \u001b[1;32min\u001b[0m \u001b[0mfolds\u001b[0m\u001b[1;33m:\u001b[0m\u001b[1;33m\u001b[0m\u001b[1;33m\u001b[0m\u001b[0m\n\u001b[0m\u001b[0;32m      8\u001b[0m     \u001b[1;31m# Extract month and year\u001b[0m\u001b[1;33m\u001b[0m\u001b[1;33m\u001b[0m\u001b[1;33m\u001b[0m\u001b[0m\n\u001b[0;32m      9\u001b[0m     \u001b[0mmonth_year\u001b[0m \u001b[1;33m=\u001b[0m \u001b[0mdatetime\u001b[0m\u001b[1;33m.\u001b[0m\u001b[0mstrptime\u001b[0m\u001b[1;33m(\u001b[0m\u001b[0mfold\u001b[0m\u001b[1;33m[\u001b[0m\u001b[1;34m'review_date'\u001b[0m\u001b[1;33m]\u001b[0m\u001b[1;33m[\u001b[0m\u001b[1;36m0\u001b[0m\u001b[1;33m]\u001b[0m\u001b[1;33m,\u001b[0m\u001b[1;34m\"%Y-%m-%d\"\u001b[0m\u001b[1;33m)\u001b[0m\u001b[1;33m.\u001b[0m\u001b[0mstrftime\u001b[0m\u001b[1;33m(\u001b[0m\u001b[1;34m'%Y-%m'\u001b[0m\u001b[1;33m)\u001b[0m\u001b[1;33m\u001b[0m\u001b[1;33m\u001b[0m\u001b[0m\n",
      "\u001b[1;31mNameError\u001b[0m: name 'folds' is not defined"
     ]
    }
   ],
   "source": [
    "labels = []\n",
    "spoiler_list = []\n",
    "spoiler_distribs = []\n",
    "not_spoiler_list = []\n",
    "not_spoiler_distribs = []\n",
    "\n",
    "for fold in folds:\n",
    "    # Extract month and year \n",
    "    month_year = datetime.strptime(fold['review_date'][0],\"%Y-%m-%d\").strftime('%Y-%m')\n",
    "    \n",
    "    # Number of the total review in the fold\n",
    "    review_number = len(fold['is_spoiler'])\n",
    "    \n",
    "    # Number of spoiler/not spoiler review in the folt \n",
    "    spoiler = int(fold['is_spoiler'][fold['is_spoiler']==1].value_counts())\n",
    "    not_spoiler = int(fold['is_spoiler'][fold['is_spoiler']==0].value_counts())\n",
    "    \n",
    "    # Compute distribution \n",
    "    spoiler_distrib = spoiler/review_number\n",
    "    not_spoiler_distrib = not_spoiler/review_number\n",
    "    \n",
    "    # List to plot values\n",
    "    labels.append(month_year)\n",
    "\n",
    "    spoiler_list.append(spoiler)\n",
    "    not_spoiler_list.append(not_spoiler)\n",
    "    \n",
    "    spoiler_distribs.append(spoiler_distrib)\n",
    "    not_spoiler_distribs.append(not_spoiler_distrib)\n",
    "\n",
    "    \n",
    "# ------ PLOT ------ #\n",
    "    \n",
    "width = 0.35\n",
    "fig, (ax1, ax2) = plt.subplots(1, 2, figsize=(20,7))\n",
    "\n",
    "ax1.bar(labels, not_spoiler_list, width, label='Not_spoiler')\n",
    "ax1.bar(labels, spoiler_list, width, bottom=not_spoiler_list, label='Spoiler')\n",
    "\n",
    "ax1.set_ylabel('Number of instances')\n",
    "ax1.set_title('Instances by month and spoiler')\n",
    "ax1.tick_params(axis='x', rotation=45)\n",
    "ax1.legend()\n",
    "\n",
    "\n",
    "ax2.bar(labels, not_spoiler_distribs, width, label='Not_spoiler')\n",
    "ax2.bar(labels, spoiler_distribs, width, bottom=not_spoiler_distribs, label='Spoiler')\n",
    "\n",
    "ax2.set_ylabel('Monthly distribution of spoilers')\n",
    "ax2.set_title('Distribution percentage')\n",
    "ax2.tick_params(axis='x', rotation=45)\n",
    "ax2.legend()\n",
    "\n",
    "plt.show()"
   ]
  },
  {
   "cell_type": "code",
   "execution_count": null,
   "id": "e673d97a",
   "metadata": {},
   "outputs": [],
   "source": []
  }
 ],
 "metadata": {
  "kernelspec": {
   "display_name": "juunho",
   "language": "python",
   "name": "juunho"
  },
  "language_info": {
   "codemirror_mode": {
    "name": "ipython",
    "version": 3
   },
   "file_extension": ".py",
   "mimetype": "text/x-python",
   "name": "python",
   "nbconvert_exporter": "python",
   "pygments_lexer": "ipython3",
   "version": "3.7.13"
  },
  "toc": {
   "base_numbering": 1,
   "nav_menu": {},
   "number_sections": true,
   "sideBar": true,
   "skip_h1_title": false,
   "title_cell": "Table of Contents",
   "title_sidebar": "Contents",
   "toc_cell": false,
   "toc_position": {},
   "toc_section_display": true,
   "toc_window_display": false
  }
 },
 "nbformat": 4,
 "nbformat_minor": 5
}
