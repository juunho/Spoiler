{
 "cells": [
  {
   "cell_type": "code",
   "execution_count": 1,
   "id": "bfd44932",
   "metadata": {},
   "outputs": [],
   "source": [
    "import re\n",
    "import pandas as pd\n",
    "import numpy as np\n",
    "import nltk\n",
    "from nltk.corpus import stopwords\n",
    "from nltk.stem import SnowballStemmer, PorterStemmer\n",
    "import spacy\n",
    "nlp = spacy.load('en_core_web_lg')"
   ]
  },
  {
   "cell_type": "code",
   "execution_count": 2,
   "id": "f948a343",
   "metadata": {},
   "outputs": [],
   "source": [
    "from tqdm import tqdm"
   ]
  },
  {
   "cell_type": "markdown",
   "id": "ccda3bae",
   "metadata": {},
   "source": [
    "### Data Load"
   ]
  },
  {
   "cell_type": "code",
   "execution_count": 3,
   "id": "98f23ba7",
   "metadata": {},
   "outputs": [],
   "source": [
    "df = pd.read_csv('IMDB/dataset/spacy-pre.csv')"
   ]
  },
  {
   "cell_type": "code",
   "execution_count": 4,
   "id": "3c2f7c75",
   "metadata": {},
   "outputs": [
    {
     "data": {
      "text/html": [
       "<div>\n",
       "<style scoped>\n",
       "    .dataframe tbody tr th:only-of-type {\n",
       "        vertical-align: middle;\n",
       "    }\n",
       "\n",
       "    .dataframe tbody tr th {\n",
       "        vertical-align: top;\n",
       "    }\n",
       "\n",
       "    .dataframe thead th {\n",
       "        text-align: right;\n",
       "    }\n",
       "</style>\n",
       "<table border=\"1\" class=\"dataframe\">\n",
       "  <thead>\n",
       "    <tr style=\"text-align: right;\">\n",
       "      <th></th>\n",
       "      <th>movie_id</th>\n",
       "      <th>user_id</th>\n",
       "      <th>is_spoiler</th>\n",
       "      <th>review</th>\n",
       "      <th>synopsis</th>\n",
       "    </tr>\n",
       "  </thead>\n",
       "  <tbody>\n",
       "    <tr>\n",
       "      <th>0</th>\n",
       "      <td>tt0111161</td>\n",
       "      <td>ur1898687</td>\n",
       "      <td>True</td>\n",
       "      <td>oscar year shawshank redempt written direct fr...</td>\n",
       "      <td>andi dufresn tim robbin banker main convict mu...</td>\n",
       "    </tr>\n",
       "    <tr>\n",
       "      <th>1</th>\n",
       "      <td>tt0111161</td>\n",
       "      <td>ur0842118</td>\n",
       "      <td>True</td>\n",
       "      <td>shawshank redempt without doubt one brilliant ...</td>\n",
       "      <td>andi dufresn tim robbin banker main convict mu...</td>\n",
       "    </tr>\n",
       "    <tr>\n",
       "      <th>2</th>\n",
       "      <td>tt0111161</td>\n",
       "      <td>ur1285640</td>\n",
       "      <td>True</td>\n",
       "      <td>believ film best stori ever told film tell rob...</td>\n",
       "      <td>andi dufresn tim robbin banker main convict mu...</td>\n",
       "    </tr>\n",
       "    <tr>\n",
       "      <th>3</th>\n",
       "      <td>tt0111161</td>\n",
       "      <td>ur1003471</td>\n",
       "      <td>True</td>\n",
       "      <td>yes spoiler film emot impact find hard write c...</td>\n",
       "      <td>andi dufresn tim robbin banker main convict mu...</td>\n",
       "    </tr>\n",
       "    <tr>\n",
       "      <th>4</th>\n",
       "      <td>tt0111161</td>\n",
       "      <td>ur0226855</td>\n",
       "      <td>True</td>\n",
       "      <td>heart extraordinari movi brilliant indel perfo...</td>\n",
       "      <td>andi dufresn tim robbin banker main convict mu...</td>\n",
       "    </tr>\n",
       "    <tr>\n",
       "      <th>...</th>\n",
       "      <td>...</td>\n",
       "      <td>...</td>\n",
       "      <td>...</td>\n",
       "      <td>...</td>\n",
       "      <td>...</td>\n",
       "    </tr>\n",
       "    <tr>\n",
       "      <th>538823</th>\n",
       "      <td>tt0139239</td>\n",
       "      <td>ur0100166</td>\n",
       "      <td>False</td>\n",
       "      <td>go wise fast pure entertain assembl except cas...</td>\n",
       "      <td>film told chronolog format stori told four dif...</td>\n",
       "    </tr>\n",
       "    <tr>\n",
       "      <th>538824</th>\n",
       "      <td>tt0139239</td>\n",
       "      <td>ur0021767</td>\n",
       "      <td>False</td>\n",
       "      <td>well shall say fun rate three plotlin origin o...</td>\n",
       "      <td>film told chronolog format stori told four dif...</td>\n",
       "    </tr>\n",
       "    <tr>\n",
       "      <th>538825</th>\n",
       "      <td>tt0139239</td>\n",
       "      <td>ur0392750</td>\n",
       "      <td>False</td>\n",
       "      <td>go best movi ever seen seen lot movi read revi...</td>\n",
       "      <td>film told chronolog format stori told four dif...</td>\n",
       "    </tr>\n",
       "    <tr>\n",
       "      <th>538826</th>\n",
       "      <td>tt0139239</td>\n",
       "      <td>ur0349105</td>\n",
       "      <td>False</td>\n",
       "      <td>call teenag version pulp fiction whatev want p...</td>\n",
       "      <td>film told chronolog format stori told four dif...</td>\n",
       "    </tr>\n",
       "    <tr>\n",
       "      <th>538827</th>\n",
       "      <td>tt0139239</td>\n",
       "      <td>ur0156431</td>\n",
       "      <td>False</td>\n",
       "      <td>movi made doubt sucker mtv faith mani care any...</td>\n",
       "      <td>film told chronolog format stori told four dif...</td>\n",
       "    </tr>\n",
       "  </tbody>\n",
       "</table>\n",
       "<p>538828 rows × 5 columns</p>\n",
       "</div>"
      ],
      "text/plain": [
       "         movie_id    user_id  is_spoiler  \\\n",
       "0       tt0111161  ur1898687        True   \n",
       "1       tt0111161  ur0842118        True   \n",
       "2       tt0111161  ur1285640        True   \n",
       "3       tt0111161  ur1003471        True   \n",
       "4       tt0111161  ur0226855        True   \n",
       "...           ...        ...         ...   \n",
       "538823  tt0139239  ur0100166       False   \n",
       "538824  tt0139239  ur0021767       False   \n",
       "538825  tt0139239  ur0392750       False   \n",
       "538826  tt0139239  ur0349105       False   \n",
       "538827  tt0139239  ur0156431       False   \n",
       "\n",
       "                                                   review  \\\n",
       "0       oscar year shawshank redempt written direct fr...   \n",
       "1       shawshank redempt without doubt one brilliant ...   \n",
       "2       believ film best stori ever told film tell rob...   \n",
       "3       yes spoiler film emot impact find hard write c...   \n",
       "4       heart extraordinari movi brilliant indel perfo...   \n",
       "...                                                   ...   \n",
       "538823  go wise fast pure entertain assembl except cas...   \n",
       "538824  well shall say fun rate three plotlin origin o...   \n",
       "538825  go best movi ever seen seen lot movi read revi...   \n",
       "538826  call teenag version pulp fiction whatev want p...   \n",
       "538827  movi made doubt sucker mtv faith mani care any...   \n",
       "\n",
       "                                                 synopsis  \n",
       "0       andi dufresn tim robbin banker main convict mu...  \n",
       "1       andi dufresn tim robbin banker main convict mu...  \n",
       "2       andi dufresn tim robbin banker main convict mu...  \n",
       "3       andi dufresn tim robbin banker main convict mu...  \n",
       "4       andi dufresn tim robbin banker main convict mu...  \n",
       "...                                                   ...  \n",
       "538823  film told chronolog format stori told four dif...  \n",
       "538824  film told chronolog format stori told four dif...  \n",
       "538825  film told chronolog format stori told four dif...  \n",
       "538826  film told chronolog format stori told four dif...  \n",
       "538827  film told chronolog format stori told four dif...  \n",
       "\n",
       "[538828 rows x 5 columns]"
      ]
     },
     "execution_count": 4,
     "metadata": {},
     "output_type": "execute_result"
    }
   ],
   "source": [
    "df"
   ]
  },
  {
   "cell_type": "code",
   "execution_count": 5,
   "id": "d4ad2e10",
   "metadata": {},
   "outputs": [],
   "source": [
    "df['review'].replace('', np.nan, inplace=True)\n",
    "df.dropna(subset=['review'], inplace=True)\n",
    "\n",
    "df['synopsis'].replace('', np.nan, inplace=True)\n",
    "df.dropna(subset=['synopsis'], inplace=True)"
   ]
  },
  {
   "cell_type": "code",
   "execution_count": 6,
   "id": "37d5edb0",
   "metadata": {},
   "outputs": [],
   "source": [
    "df_1 = df.iloc[1:250000]\n",
    "df_2 = df.iloc[250000:]"
   ]
  },
  {
   "cell_type": "code",
   "execution_count": 7,
   "id": "a1d793b6",
   "metadata": {
    "scrolled": true
   },
   "outputs": [
    {
     "name": "stderr",
     "output_type": "stream",
     "text": [
      " 13%|█████████▍                                                             | 33147/249999 [1:40:22<7:08:40,  8.43it/s]C:\\Users\\User\\anaconda3\\envs\\juunho\\lib\\site-packages\\ipykernel_launcher.py:6: UserWarning: [W008] Evaluating Doc.similarity based on empty vectors.\n",
      "  \n",
      "100%|████████████████████████████████████████████████████████████████████████| 249999/249999 [8:20:49<00:00,  8.32it/s]\n",
      "C:\\Users\\User\\anaconda3\\envs\\juunho\\lib\\site-packages\\ipykernel_launcher.py:8: SettingWithCopyWarning: \n",
      "A value is trying to be set on a copy of a slice from a DataFrame.\n",
      "Try using .loc[row_indexer,col_indexer] = value instead\n",
      "\n",
      "See the caveats in the documentation: https://pandas.pydata.org/pandas-docs/stable/user_guide/indexing.html#returning-a-view-versus-a-copy\n",
      "  \n"
     ]
    }
   ],
   "source": [
    "similarityValue = []\n",
    "\n",
    "for i in tqdm(range(df_1.count()[0])):\n",
    "    sentence_1 = nlp(df_1.iloc[i][3])\n",
    "    sentence_2 = nlp(df_1.iloc[i][4])\n",
    "    similarityValue.append(sentence_1.similarity(sentence_2))\n",
    "\n",
    "df_1['Similarity'] = similarityValue"
   ]
  },
  {
   "cell_type": "code",
   "execution_count": 11,
   "id": "a56f2477",
   "metadata": {},
   "outputs": [
    {
     "name": "stderr",
     "output_type": "stream",
     "text": [
      "100%|████████████████████████████████████████████████████████████████████████| 288827/288827 [7:24:38<00:00, 10.83it/s]\n",
      "C:\\Users\\User\\anaconda3\\envs\\juunho\\lib\\site-packages\\ipykernel_launcher.py:8: SettingWithCopyWarning: \n",
      "A value is trying to be set on a copy of a slice from a DataFrame.\n",
      "Try using .loc[row_indexer,col_indexer] = value instead\n",
      "\n",
      "See the caveats in the documentation: https://pandas.pydata.org/pandas-docs/stable/user_guide/indexing.html#returning-a-view-versus-a-copy\n",
      "  \n"
     ]
    }
   ],
   "source": [
    "similarityValue = []\n",
    "\n",
    "for i in tqdm(range(df_2.count()[0])):\n",
    "    sentence_1 = nlp(df_2.iloc[i][3])\n",
    "    sentence_2 = nlp(df_2.iloc[i][4])\n",
    "    similarityValue.append(sentence_1.similarity(sentence_2))\n",
    "\n",
    "df_2['Similarity'] = similarityValue"
   ]
  }
 ],
 "metadata": {
  "kernelspec": {
   "display_name": "juunho",
   "language": "python",
   "name": "juunho"
  },
  "language_info": {
   "codemirror_mode": {
    "name": "ipython",
    "version": 3
   },
   "file_extension": ".py",
   "mimetype": "text/x-python",
   "name": "python",
   "nbconvert_exporter": "python",
   "pygments_lexer": "ipython3",
   "version": "3.7.13"
  },
  "toc": {
   "base_numbering": 1,
   "nav_menu": {},
   "number_sections": true,
   "sideBar": true,
   "skip_h1_title": false,
   "title_cell": "Table of Contents",
   "title_sidebar": "Contents",
   "toc_cell": false,
   "toc_position": {},
   "toc_section_display": true,
   "toc_window_display": false
  }
 },
 "nbformat": 4,
 "nbformat_minor": 5
}
