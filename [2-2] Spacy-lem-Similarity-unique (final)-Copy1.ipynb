{
 "cells": [
  {
   "cell_type": "code",
   "execution_count": 1,
   "id": "bfd44932",
   "metadata": {},
   "outputs": [],
   "source": [
    "import re\n",
    "import pandas as pd\n",
    "import numpy as np\n",
    "import nltk\n",
    "from nltk.corpus import stopwords\n",
    "from nltk.stem import SnowballStemmer, PorterStemmer\n",
    "import spacy\n",
    "nlp = spacy.load('en_core_web_lg')"
   ]
  },
  {
   "cell_type": "code",
   "execution_count": 2,
   "id": "f766b237",
   "metadata": {},
   "outputs": [],
   "source": [
    "from tqdm import tqdm"
   ]
  },
  {
   "cell_type": "markdown",
   "id": "ccda3bae",
   "metadata": {},
   "source": [
    "### Data Load"
   ]
  },
  {
   "cell_type": "code",
   "execution_count": 3,
   "id": "98f23ba7",
   "metadata": {},
   "outputs": [],
   "source": [
    "df = pd.read_csv('IMDB/dataset/spacy-pre-unq.csv')"
   ]
  },
  {
   "cell_type": "code",
   "execution_count": 4,
   "id": "68376656",
   "metadata": {},
   "outputs": [],
   "source": [
    "df['review'].replace('', np.nan, inplace=True)\n",
    "df.dropna(subset=['review'], inplace=True)\n",
    "\n",
    "df['synopsis'].replace('', np.nan, inplace=True)\n",
    "df.dropna(subset=['synopsis'], inplace=True)"
   ]
  },
  {
   "cell_type": "code",
   "execution_count": 5,
   "id": "894eea02",
   "metadata": {},
   "outputs": [],
   "source": [
    "df_1 = df.iloc[1:250000]\n",
    "df_2 = df.iloc[250000:]"
   ]
  },
  {
   "cell_type": "code",
   "execution_count": 6,
   "id": "a1d793b6",
   "metadata": {
    "scrolled": false
   },
   "outputs": [
    {
     "name": "stderr",
     "output_type": "stream",
     "text": [
      " 13%|█████████▋                                                               | 33146/249999 [40:04<3:02:35, 19.79it/s]C:\\Users\\User\\anaconda3\\envs\\juunho\\lib\\site-packages\\ipykernel_launcher.py:6: UserWarning: [W008] Evaluating Doc.similarity based on empty vectors.\n",
      "  \n",
      "100%|████████████████████████████████████████████████████████████████████████| 249999/249999 [4:05:18<00:00, 16.98it/s]\n",
      "C:\\Users\\User\\anaconda3\\envs\\juunho\\lib\\site-packages\\ipykernel_launcher.py:8: SettingWithCopyWarning: \n",
      "A value is trying to be set on a copy of a slice from a DataFrame.\n",
      "Try using .loc[row_indexer,col_indexer] = value instead\n",
      "\n",
      "See the caveats in the documentation: https://pandas.pydata.org/pandas-docs/stable/user_guide/indexing.html#returning-a-view-versus-a-copy\n",
      "  \n"
     ]
    }
   ],
   "source": [
    "similarityValue = []\n",
    "\n",
    "for i in tqdm(range(df_1.count()[0])):\n",
    "    sentence_1 = nlp(df_1.iloc[i][3])\n",
    "    sentence_2 = nlp(df_1.iloc[i][4])\n",
    "    similarityValue.append(sentence_1.similarity(sentence_2))\n",
    "\n",
    "df_1['Similarity'] = similarityValue"
   ]
  },
  {
   "cell_type": "code",
   "execution_count": 7,
   "id": "39983b58",
   "metadata": {},
   "outputs": [
    {
     "name": "stderr",
     "output_type": "stream",
     "text": [
      "100%|████████████████████████████████████████████████████████████████████████| 288826/288826 [3:53:47<00:00, 20.59it/s]\n",
      "C:\\Users\\User\\anaconda3\\envs\\juunho\\lib\\site-packages\\ipykernel_launcher.py:8: SettingWithCopyWarning: \n",
      "A value is trying to be set on a copy of a slice from a DataFrame.\n",
      "Try using .loc[row_indexer,col_indexer] = value instead\n",
      "\n",
      "See the caveats in the documentation: https://pandas.pydata.org/pandas-docs/stable/user_guide/indexing.html#returning-a-view-versus-a-copy\n",
      "  \n"
     ]
    }
   ],
   "source": [
    "similarityValue = []\n",
    "\n",
    "for i in tqdm(range(df_2.count()[0])):\n",
    "    sentence_1 = nlp(df_2.iloc[i][3])\n",
    "    sentence_2 = nlp(df_2.iloc[i][4])\n",
    "    similarityValue.append(sentence_1.similarity(sentence_2))\n",
    "\n",
    "df_2['Similarity'] = similarityValue"
   ]
  },
  {
   "cell_type": "code",
   "execution_count": 8,
   "id": "e5433fca",
   "metadata": {},
   "outputs": [],
   "source": [
    "df_1.to_csv('IMDB/dataset/sim1-spacy-pre-unq-lem.csv', index= False)"
   ]
  },
  {
   "cell_type": "code",
   "execution_count": 9,
   "id": "1f8ecabb",
   "metadata": {},
   "outputs": [],
   "source": [
    "df_2.to_csv('IMDB/dataset/sim2-spacy-pre-unq-lem.csv', index= False)"
   ]
  },
  {
   "cell_type": "code",
   "execution_count": 11,
   "id": "32bd1dcc",
   "metadata": {},
   "outputs": [
    {
     "data": {
      "text/html": [
       "<div>\n",
       "<style scoped>\n",
       "    .dataframe tbody tr th:only-of-type {\n",
       "        vertical-align: middle;\n",
       "    }\n",
       "\n",
       "    .dataframe tbody tr th {\n",
       "        vertical-align: top;\n",
       "    }\n",
       "\n",
       "    .dataframe thead th {\n",
       "        text-align: right;\n",
       "    }\n",
       "</style>\n",
       "<table border=\"1\" class=\"dataframe\">\n",
       "  <thead>\n",
       "    <tr style=\"text-align: right;\">\n",
       "      <th></th>\n",
       "      <th>movie_id</th>\n",
       "      <th>user_id</th>\n",
       "      <th>is_spoiler</th>\n",
       "      <th>review</th>\n",
       "      <th>synopsis</th>\n",
       "      <th>Similarity</th>\n",
       "    </tr>\n",
       "  </thead>\n",
       "  <tbody>\n",
       "    <tr>\n",
       "      <th>1</th>\n",
       "      <td>tt0111161</td>\n",
       "      <td>ur0842118</td>\n",
       "      <td>True</td>\n",
       "      <td>shawshank redemption without doubt one brillia...</td>\n",
       "      <td>andy dufresne tim robbins banker maine convict...</td>\n",
       "      <td>0.928757</td>\n",
       "    </tr>\n",
       "    <tr>\n",
       "      <th>2</th>\n",
       "      <td>tt0111161</td>\n",
       "      <td>ur1285640</td>\n",
       "      <td>True</td>\n",
       "      <td>believe film best story ever told tell robbins...</td>\n",
       "      <td>andy dufresne tim robbins banker maine convict...</td>\n",
       "      <td>0.947812</td>\n",
       "    </tr>\n",
       "    <tr>\n",
       "      <th>3</th>\n",
       "      <td>tt0111161</td>\n",
       "      <td>ur1003471</td>\n",
       "      <td>True</td>\n",
       "      <td>film emotional impact find hard write comment ...</td>\n",
       "      <td>andy dufresne tim robbins banker maine convict...</td>\n",
       "      <td>0.955923</td>\n",
       "    </tr>\n",
       "    <tr>\n",
       "      <th>4</th>\n",
       "      <td>tt0111161</td>\n",
       "      <td>ur0226855</td>\n",
       "      <td>True</td>\n",
       "      <td>heart extraordinary brilliant indelible perfor...</td>\n",
       "      <td>andy dufresne tim robbins banker maine convict...</td>\n",
       "      <td>0.945747</td>\n",
       "    </tr>\n",
       "    <tr>\n",
       "      <th>5</th>\n",
       "      <td>tt0111161</td>\n",
       "      <td>ur1532177</td>\n",
       "      <td>True</td>\n",
       "      <td>recent year top godfather number shawshank red...</td>\n",
       "      <td>andy dufresne tim robbins banker maine convict...</td>\n",
       "      <td>0.952926</td>\n",
       "    </tr>\n",
       "    <tr>\n",
       "      <th>...</th>\n",
       "      <td>...</td>\n",
       "      <td>...</td>\n",
       "      <td>...</td>\n",
       "      <td>...</td>\n",
       "      <td>...</td>\n",
       "      <td>...</td>\n",
       "    </tr>\n",
       "    <tr>\n",
       "      <th>249996</th>\n",
       "      <td>tt3385516</td>\n",
       "      <td>ur9344916</td>\n",
       "      <td>True</td>\n",
       "      <td>context first class day future past give one s...</td>\n",
       "      <td>nile valley people egypt bowing chanting name ...</td>\n",
       "      <td>0.920886</td>\n",
       "    </tr>\n",
       "    <tr>\n",
       "      <th>249997</th>\n",
       "      <td>tt3385516</td>\n",
       "      <td>ur48964509</td>\n",
       "      <td>True</td>\n",
       "      <td>equal measure plenty entertain bang average po...</td>\n",
       "      <td>nile valley people egypt bowing chanting name ...</td>\n",
       "      <td>0.931760</td>\n",
       "    </tr>\n",
       "    <tr>\n",
       "      <th>249998</th>\n",
       "      <td>tt3385516</td>\n",
       "      <td>ur43363139</td>\n",
       "      <td>True</td>\n",
       "      <td>always edge competition utilizing rich relatio...</td>\n",
       "      <td>nile valley people egypt bowing chanting name ...</td>\n",
       "      <td>0.929789</td>\n",
       "    </tr>\n",
       "    <tr>\n",
       "      <th>249999</th>\n",
       "      <td>tt3385516</td>\n",
       "      <td>ur5261700</td>\n",
       "      <td>True</td>\n",
       "      <td>day future past played nostalgia giving u orig...</td>\n",
       "      <td>nile valley people egypt bowing chanting name ...</td>\n",
       "      <td>0.944919</td>\n",
       "    </tr>\n",
       "    <tr>\n",
       "      <th>250000</th>\n",
       "      <td>tt3385516</td>\n",
       "      <td>ur21054934</td>\n",
       "      <td>True</td>\n",
       "      <td>best moment franchise always big action fueled...</td>\n",
       "      <td>nile valley people egypt bowing chanting name ...</td>\n",
       "      <td>0.924793</td>\n",
       "    </tr>\n",
       "  </tbody>\n",
       "</table>\n",
       "<p>249999 rows × 6 columns</p>\n",
       "</div>"
      ],
      "text/plain": [
       "         movie_id     user_id  is_spoiler  \\\n",
       "1       tt0111161   ur0842118        True   \n",
       "2       tt0111161   ur1285640        True   \n",
       "3       tt0111161   ur1003471        True   \n",
       "4       tt0111161   ur0226855        True   \n",
       "5       tt0111161   ur1532177        True   \n",
       "...           ...         ...         ...   \n",
       "249996  tt3385516   ur9344916        True   \n",
       "249997  tt3385516  ur48964509        True   \n",
       "249998  tt3385516  ur43363139        True   \n",
       "249999  tt3385516   ur5261700        True   \n",
       "250000  tt3385516  ur21054934        True   \n",
       "\n",
       "                                                   review  \\\n",
       "1       shawshank redemption without doubt one brillia...   \n",
       "2       believe film best story ever told tell robbins...   \n",
       "3       film emotional impact find hard write comment ...   \n",
       "4       heart extraordinary brilliant indelible perfor...   \n",
       "5       recent year top godfather number shawshank red...   \n",
       "...                                                   ...   \n",
       "249996  context first class day future past give one s...   \n",
       "249997  equal measure plenty entertain bang average po...   \n",
       "249998  always edge competition utilizing rich relatio...   \n",
       "249999  day future past played nostalgia giving u orig...   \n",
       "250000  best moment franchise always big action fueled...   \n",
       "\n",
       "                                                 synopsis  Similarity  \n",
       "1       andy dufresne tim robbins banker maine convict...    0.928757  \n",
       "2       andy dufresne tim robbins banker maine convict...    0.947812  \n",
       "3       andy dufresne tim robbins banker maine convict...    0.955923  \n",
       "4       andy dufresne tim robbins banker maine convict...    0.945747  \n",
       "5       andy dufresne tim robbins banker maine convict...    0.952926  \n",
       "...                                                   ...         ...  \n",
       "249996  nile valley people egypt bowing chanting name ...    0.920886  \n",
       "249997  nile valley people egypt bowing chanting name ...    0.931760  \n",
       "249998  nile valley people egypt bowing chanting name ...    0.929789  \n",
       "249999  nile valley people egypt bowing chanting name ...    0.944919  \n",
       "250000  nile valley people egypt bowing chanting name ...    0.924793  \n",
       "\n",
       "[249999 rows x 6 columns]"
      ]
     },
     "execution_count": 11,
     "metadata": {},
     "output_type": "execute_result"
    }
   ],
   "source": [
    "df_1"
   ]
  }
 ],
 "metadata": {
  "kernelspec": {
   "display_name": "juunho",
   "language": "python",
   "name": "juunho"
  },
  "language_info": {
   "codemirror_mode": {
    "name": "ipython",
    "version": 3
   },
   "file_extension": ".py",
   "mimetype": "text/x-python",
   "name": "python",
   "nbconvert_exporter": "python",
   "pygments_lexer": "ipython3",
   "version": "3.7.13"
  },
  "toc": {
   "base_numbering": 1,
   "nav_menu": {},
   "number_sections": true,
   "sideBar": true,
   "skip_h1_title": false,
   "title_cell": "Table of Contents",
   "title_sidebar": "Contents",
   "toc_cell": false,
   "toc_position": {},
   "toc_section_display": true,
   "toc_window_display": false
  }
 },
 "nbformat": 4,
 "nbformat_minor": 5
}
