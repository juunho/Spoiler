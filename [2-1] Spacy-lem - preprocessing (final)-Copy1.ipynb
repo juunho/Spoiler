{
 "cells": [
  {
   "cell_type": "code",
   "execution_count": 1,
   "id": "bfd44932",
   "metadata": {},
   "outputs": [],
   "source": [
    "import re\n",
    "import pandas as pd\n",
    "import numpy as np\n",
    "import nltk\n",
    "from nltk.corpus import stopwords\n",
    "from nltk.stem import WordNetLemmatizer\n",
    "from collections import OrderedDict"
   ]
  },
  {
   "cell_type": "markdown",
   "id": "cb0d6b79",
   "metadata": {},
   "source": [
    "### Data Load"
   ]
  },
  {
   "cell_type": "code",
   "execution_count": 2,
   "id": "98f23ba7",
   "metadata": {},
   "outputs": [
    {
     "data": {
      "text/html": [
       "<div>\n",
       "<style scoped>\n",
       "    .dataframe tbody tr th:only-of-type {\n",
       "        vertical-align: middle;\n",
       "    }\n",
       "\n",
       "    .dataframe tbody tr th {\n",
       "        vertical-align: top;\n",
       "    }\n",
       "\n",
       "    .dataframe thead th {\n",
       "        text-align: right;\n",
       "    }\n",
       "</style>\n",
       "<table border=\"1\" class=\"dataframe\">\n",
       "  <thead>\n",
       "    <tr style=\"text-align: right;\">\n",
       "      <th></th>\n",
       "      <th>movie_id</th>\n",
       "      <th>plot_synopsis</th>\n",
       "    </tr>\n",
       "  </thead>\n",
       "  <tbody>\n",
       "    <tr>\n",
       "      <th>0</th>\n",
       "      <td>tt0105112</td>\n",
       "      <td>Jack Ryan (Ford) is on a \"working vacation\" in...</td>\n",
       "    </tr>\n",
       "    <tr>\n",
       "      <th>1</th>\n",
       "      <td>tt1204975</td>\n",
       "      <td>Four boys around the age of 10 are friends in ...</td>\n",
       "    </tr>\n",
       "    <tr>\n",
       "      <th>3</th>\n",
       "      <td>tt0040897</td>\n",
       "      <td>Fred Dobbs (Humphrey Bogart) and Bob Curtin (T...</td>\n",
       "    </tr>\n",
       "    <tr>\n",
       "      <th>4</th>\n",
       "      <td>tt0126886</td>\n",
       "      <td>Jim McAllister (Matthew Broderick) is a much-a...</td>\n",
       "    </tr>\n",
       "    <tr>\n",
       "      <th>5</th>\n",
       "      <td>tt0286716</td>\n",
       "      <td>Bruce Banner (Eric Bana) is a research scienti...</td>\n",
       "    </tr>\n",
       "  </tbody>\n",
       "</table>\n",
       "</div>"
      ],
      "text/plain": [
       "    movie_id                                      plot_synopsis\n",
       "0  tt0105112  Jack Ryan (Ford) is on a \"working vacation\" in...\n",
       "1  tt1204975  Four boys around the age of 10 are friends in ...\n",
       "3  tt0040897  Fred Dobbs (Humphrey Bogart) and Bob Curtin (T...\n",
       "4  tt0126886  Jim McAllister (Matthew Broderick) is a much-a...\n",
       "5  tt0286716  Bruce Banner (Eric Bana) is a research scienti..."
      ]
     },
     "execution_count": 2,
     "metadata": {},
     "output_type": "execute_result"
    }
   ],
   "source": [
    "df_detail = pd.read_json('IMDB_movie_details.json', lines=True)\n",
    "df_detail = df_detail[['movie_id','plot_synopsis']]\n",
    "\n",
    "df_detail['plot_synopsis'].replace('', np.nan, inplace=True)\n",
    "df_detail.dropna(subset=['plot_synopsis'], inplace=True)\n",
    "\n",
    "df_detail.head()"
   ]
  },
  {
   "cell_type": "code",
   "execution_count": 3,
   "id": "a1d793b6",
   "metadata": {},
   "outputs": [
    {
     "data": {
      "text/html": [
       "<div>\n",
       "<style scoped>\n",
       "    .dataframe tbody tr th:only-of-type {\n",
       "        vertical-align: middle;\n",
       "    }\n",
       "\n",
       "    .dataframe tbody tr th {\n",
       "        vertical-align: top;\n",
       "    }\n",
       "\n",
       "    .dataframe thead th {\n",
       "        text-align: right;\n",
       "    }\n",
       "</style>\n",
       "<table border=\"1\" class=\"dataframe\">\n",
       "  <thead>\n",
       "    <tr style=\"text-align: right;\">\n",
       "      <th></th>\n",
       "      <th>movie_id</th>\n",
       "      <th>user_id</th>\n",
       "      <th>is_spoiler</th>\n",
       "      <th>review_text</th>\n",
       "    </tr>\n",
       "  </thead>\n",
       "  <tbody>\n",
       "    <tr>\n",
       "      <th>0</th>\n",
       "      <td>tt0111161</td>\n",
       "      <td>ur1898687</td>\n",
       "      <td>True</td>\n",
       "      <td>In its Oscar year, Shawshank Redemption (writt...</td>\n",
       "    </tr>\n",
       "    <tr>\n",
       "      <th>1</th>\n",
       "      <td>tt0111161</td>\n",
       "      <td>ur0842118</td>\n",
       "      <td>True</td>\n",
       "      <td>The Shawshank Redemption is without a doubt on...</td>\n",
       "    </tr>\n",
       "    <tr>\n",
       "      <th>2</th>\n",
       "      <td>tt0111161</td>\n",
       "      <td>ur1285640</td>\n",
       "      <td>True</td>\n",
       "      <td>I believe that this film is the best story eve...</td>\n",
       "    </tr>\n",
       "    <tr>\n",
       "      <th>3</th>\n",
       "      <td>tt0111161</td>\n",
       "      <td>ur1003471</td>\n",
       "      <td>True</td>\n",
       "      <td>**Yes, there are SPOILERS here**This film has ...</td>\n",
       "    </tr>\n",
       "    <tr>\n",
       "      <th>4</th>\n",
       "      <td>tt0111161</td>\n",
       "      <td>ur0226855</td>\n",
       "      <td>True</td>\n",
       "      <td>At the heart of this extraordinary movie is a ...</td>\n",
       "    </tr>\n",
       "  </tbody>\n",
       "</table>\n",
       "</div>"
      ],
      "text/plain": [
       "    movie_id    user_id  is_spoiler  \\\n",
       "0  tt0111161  ur1898687        True   \n",
       "1  tt0111161  ur0842118        True   \n",
       "2  tt0111161  ur1285640        True   \n",
       "3  tt0111161  ur1003471        True   \n",
       "4  tt0111161  ur0226855        True   \n",
       "\n",
       "                                         review_text  \n",
       "0  In its Oscar year, Shawshank Redemption (writt...  \n",
       "1  The Shawshank Redemption is without a doubt on...  \n",
       "2  I believe that this film is the best story eve...  \n",
       "3  **Yes, there are SPOILERS here**This film has ...  \n",
       "4  At the heart of this extraordinary movie is a ...  "
      ]
     },
     "execution_count": 3,
     "metadata": {},
     "output_type": "execute_result"
    }
   ],
   "source": [
    "df_raw = pd.read_json('IMDB_reviews.json', lines=True)\n",
    "df_raw = df_raw[['movie_id','user_id','is_spoiler','review_text']]\n",
    "\n",
    "df_raw.head()"
   ]
  },
  {
   "cell_type": "markdown",
   "id": "f960ab3b",
   "metadata": {},
   "source": [
    "### Lower-case"
   ]
  },
  {
   "cell_type": "code",
   "execution_count": 4,
   "id": "bdd51f9b",
   "metadata": {},
   "outputs": [],
   "source": [
    "df_detail['plot_synopsis'] = df_detail['plot_synopsis'].str.lower()\n",
    "df_raw['review_text'] = df_raw['review_text'].str.lower()"
   ]
  },
  {
   "cell_type": "markdown",
   "id": "5daccc5d",
   "metadata": {},
   "source": [
    "### Tokenization"
   ]
  },
  {
   "cell_type": "code",
   "execution_count": 5,
   "id": "a885e552",
   "metadata": {},
   "outputs": [],
   "source": [
    "def tokenize(column):\n",
    "    tokens = nltk.word_tokenize(column)\n",
    "    return [w for w in tokens if w.isalpha()]    "
   ]
  },
  {
   "cell_type": "code",
   "execution_count": 6,
   "id": "b05ca45d",
   "metadata": {},
   "outputs": [
    {
     "data": {
      "text/html": [
       "<div>\n",
       "<style scoped>\n",
       "    .dataframe tbody tr th:only-of-type {\n",
       "        vertical-align: middle;\n",
       "    }\n",
       "\n",
       "    .dataframe tbody tr th {\n",
       "        vertical-align: top;\n",
       "    }\n",
       "\n",
       "    .dataframe thead th {\n",
       "        text-align: right;\n",
       "    }\n",
       "</style>\n",
       "<table border=\"1\" class=\"dataframe\">\n",
       "  <thead>\n",
       "    <tr style=\"text-align: right;\">\n",
       "      <th></th>\n",
       "      <th>review_text</th>\n",
       "      <th>r_tokenized</th>\n",
       "    </tr>\n",
       "  </thead>\n",
       "  <tbody>\n",
       "    <tr>\n",
       "      <th>0</th>\n",
       "      <td>in its oscar year, shawshank redemption (writt...</td>\n",
       "      <td>[in, its, oscar, year, shawshank, redemption, ...</td>\n",
       "    </tr>\n",
       "    <tr>\n",
       "      <th>1</th>\n",
       "      <td>the shawshank redemption is without a doubt on...</td>\n",
       "      <td>[the, shawshank, redemption, is, without, a, d...</td>\n",
       "    </tr>\n",
       "    <tr>\n",
       "      <th>2</th>\n",
       "      <td>i believe that this film is the best story eve...</td>\n",
       "      <td>[i, believe, that, this, film, is, the, best, ...</td>\n",
       "    </tr>\n",
       "    <tr>\n",
       "      <th>3</th>\n",
       "      <td>**yes, there are spoilers here**this film has ...</td>\n",
       "      <td>[yes, there, are, spoilers, here, this, film, ...</td>\n",
       "    </tr>\n",
       "    <tr>\n",
       "      <th>4</th>\n",
       "      <td>at the heart of this extraordinary movie is a ...</td>\n",
       "      <td>[at, the, heart, of, this, extraordinary, movi...</td>\n",
       "    </tr>\n",
       "  </tbody>\n",
       "</table>\n",
       "</div>"
      ],
      "text/plain": [
       "                                         review_text  \\\n",
       "0  in its oscar year, shawshank redemption (writt...   \n",
       "1  the shawshank redemption is without a doubt on...   \n",
       "2  i believe that this film is the best story eve...   \n",
       "3  **yes, there are spoilers here**this film has ...   \n",
       "4  at the heart of this extraordinary movie is a ...   \n",
       "\n",
       "                                         r_tokenized  \n",
       "0  [in, its, oscar, year, shawshank, redemption, ...  \n",
       "1  [the, shawshank, redemption, is, without, a, d...  \n",
       "2  [i, believe, that, this, film, is, the, best, ...  \n",
       "3  [yes, there, are, spoilers, here, this, film, ...  \n",
       "4  [at, the, heart, of, this, extraordinary, movi...  "
      ]
     },
     "execution_count": 6,
     "metadata": {},
     "output_type": "execute_result"
    }
   ],
   "source": [
    "df_detail['p_tokenized'] = df_detail.apply(lambda x: tokenize(x['plot_synopsis']), axis=1)\n",
    "df_raw['r_tokenized'] = df_raw.apply(lambda x: tokenize(x['review_text']), axis=1)\n",
    "\n",
    "df_raw[['review_text', 'r_tokenized']].head()"
   ]
  },
  {
   "cell_type": "markdown",
   "id": "dc995156",
   "metadata": {},
   "source": [
    "### Stopwords"
   ]
  },
  {
   "cell_type": "code",
   "execution_count": 7,
   "id": "9a48bc46",
   "metadata": {},
   "outputs": [],
   "source": [
    "def remove_stopwords(tokenized_column):\n",
    "    stop_words = stopwords.words('english')\n",
    "    stop_words.extend(['from', 'subject', 're', 'edu', 'use', 'not', 'would', 'say', 'could', 'all', 'be', 'know',\n",
    "                      'good', 'go', 'get', 'do', 'done', 'try', 'many', 'some', 'nice', 'thank', 'think', 'see',\n",
    "                      'rather', 'easy', 'easilSy', 'lot', 'lack', 'make', 'want', 'seem', 'need', 'even', 'spoiler',\n",
    "                      'right', 'movie', 'even', 'also', 'may', 'take', 'come', 'yes', 'no', 'oscar','award','imdb','review'])\n",
    "    stops = set(stop_words)\n",
    "\n",
    "    \n",
    "    return [word for word in tokenized_column if not word in stops]"
   ]
  },
  {
   "cell_type": "code",
   "execution_count": 8,
   "id": "7579b0e0",
   "metadata": {},
   "outputs": [
    {
     "data": {
      "text/html": [
       "<div>\n",
       "<style scoped>\n",
       "    .dataframe tbody tr th:only-of-type {\n",
       "        vertical-align: middle;\n",
       "    }\n",
       "\n",
       "    .dataframe tbody tr th {\n",
       "        vertical-align: top;\n",
       "    }\n",
       "\n",
       "    .dataframe thead th {\n",
       "        text-align: right;\n",
       "    }\n",
       "</style>\n",
       "<table border=\"1\" class=\"dataframe\">\n",
       "  <thead>\n",
       "    <tr style=\"text-align: right;\">\n",
       "      <th></th>\n",
       "      <th>review_text</th>\n",
       "      <th>r_stopwords_removed</th>\n",
       "    </tr>\n",
       "  </thead>\n",
       "  <tbody>\n",
       "    <tr>\n",
       "      <th>0</th>\n",
       "      <td>in its oscar year, shawshank redemption (writt...</td>\n",
       "      <td>[year, shawshank, redemption, written, directe...</td>\n",
       "    </tr>\n",
       "    <tr>\n",
       "      <th>1</th>\n",
       "      <td>the shawshank redemption is without a doubt on...</td>\n",
       "      <td>[shawshank, redemption, without, doubt, one, b...</td>\n",
       "    </tr>\n",
       "    <tr>\n",
       "      <th>2</th>\n",
       "      <td>i believe that this film is the best story eve...</td>\n",
       "      <td>[believe, film, best, story, ever, told, film,...</td>\n",
       "    </tr>\n",
       "    <tr>\n",
       "      <th>3</th>\n",
       "      <td>**yes, there are spoilers here**this film has ...</td>\n",
       "      <td>[spoilers, film, emotional, impact, find, hard...</td>\n",
       "    </tr>\n",
       "    <tr>\n",
       "      <th>4</th>\n",
       "      <td>at the heart of this extraordinary movie is a ...</td>\n",
       "      <td>[heart, extraordinary, brilliant, indelible, p...</td>\n",
       "    </tr>\n",
       "  </tbody>\n",
       "</table>\n",
       "</div>"
      ],
      "text/plain": [
       "                                         review_text  \\\n",
       "0  in its oscar year, shawshank redemption (writt...   \n",
       "1  the shawshank redemption is without a doubt on...   \n",
       "2  i believe that this film is the best story eve...   \n",
       "3  **yes, there are spoilers here**this film has ...   \n",
       "4  at the heart of this extraordinary movie is a ...   \n",
       "\n",
       "                                 r_stopwords_removed  \n",
       "0  [year, shawshank, redemption, written, directe...  \n",
       "1  [shawshank, redemption, without, doubt, one, b...  \n",
       "2  [believe, film, best, story, ever, told, film,...  \n",
       "3  [spoilers, film, emotional, impact, find, hard...  \n",
       "4  [heart, extraordinary, brilliant, indelible, p...  "
      ]
     },
     "execution_count": 8,
     "metadata": {},
     "output_type": "execute_result"
    }
   ],
   "source": [
    "df_detail['p_stopwords_removed'] = df_detail.apply(lambda x: remove_stopwords(x['p_tokenized']), axis=1)\n",
    "df_raw['r_stopwords_removed'] = df_raw.apply(lambda x: remove_stopwords(x['r_tokenized']), axis=1)\n",
    "\n",
    "df_raw[['review_text', 'r_stopwords_removed']].head()"
   ]
  },
  {
   "cell_type": "markdown",
   "id": "b5d19be7",
   "metadata": {},
   "source": [
    "### Stemming"
   ]
  },
  {
   "cell_type": "code",
   "execution_count": 9,
   "id": "f3926665",
   "metadata": {},
   "outputs": [],
   "source": [
    "def apply_lemmatizing(tokenized_column):\n",
    "    lemmatizer = WordNetLemmatizer()\n",
    "    return [lemmatizer.lemmatize(word) for word in tokenized_column]"
   ]
  },
  {
   "cell_type": "code",
   "execution_count": 10,
   "id": "1c9ef97c",
   "metadata": {},
   "outputs": [],
   "source": [
    "df_detail['p_lemmatized'] = df_detail.apply(lambda x: apply_lemmatizing(x['p_stopwords_removed']), axis=1)"
   ]
  },
  {
   "cell_type": "code",
   "execution_count": 11,
   "id": "360d3b82",
   "metadata": {
    "scrolled": true
   },
   "outputs": [
    {
     "data": {
      "text/html": [
       "<div>\n",
       "<style scoped>\n",
       "    .dataframe tbody tr th:only-of-type {\n",
       "        vertical-align: middle;\n",
       "    }\n",
       "\n",
       "    .dataframe tbody tr th {\n",
       "        vertical-align: top;\n",
       "    }\n",
       "\n",
       "    .dataframe thead th {\n",
       "        text-align: right;\n",
       "    }\n",
       "</style>\n",
       "<table border=\"1\" class=\"dataframe\">\n",
       "  <thead>\n",
       "    <tr style=\"text-align: right;\">\n",
       "      <th></th>\n",
       "      <th>review_text</th>\n",
       "      <th>r_lemmatized</th>\n",
       "      <th>r_lemmatized</th>\n",
       "    </tr>\n",
       "  </thead>\n",
       "  <tbody>\n",
       "    <tr>\n",
       "      <th>0</th>\n",
       "      <td>in its oscar year, shawshank redemption (writt...</td>\n",
       "      <td>[year, shawshank, redemption, written, directe...</td>\n",
       "      <td>[year, shawshank, redemption, written, directe...</td>\n",
       "    </tr>\n",
       "    <tr>\n",
       "      <th>1</th>\n",
       "      <td>the shawshank redemption is without a doubt on...</td>\n",
       "      <td>[shawshank, redemption, without, doubt, one, b...</td>\n",
       "      <td>[shawshank, redemption, without, doubt, one, b...</td>\n",
       "    </tr>\n",
       "    <tr>\n",
       "      <th>2</th>\n",
       "      <td>i believe that this film is the best story eve...</td>\n",
       "      <td>[believe, film, best, story, ever, told, film,...</td>\n",
       "      <td>[believe, film, best, story, ever, told, film,...</td>\n",
       "    </tr>\n",
       "    <tr>\n",
       "      <th>3</th>\n",
       "      <td>**yes, there are spoilers here**this film has ...</td>\n",
       "      <td>[spoiler, film, emotional, impact, find, hard,...</td>\n",
       "      <td>[spoiler, film, emotional, impact, find, hard,...</td>\n",
       "    </tr>\n",
       "    <tr>\n",
       "      <th>4</th>\n",
       "      <td>at the heart of this extraordinary movie is a ...</td>\n",
       "      <td>[heart, extraordinary, brilliant, indelible, p...</td>\n",
       "      <td>[heart, extraordinary, brilliant, indelible, p...</td>\n",
       "    </tr>\n",
       "  </tbody>\n",
       "</table>\n",
       "</div>"
      ],
      "text/plain": [
       "                                         review_text  \\\n",
       "0  in its oscar year, shawshank redemption (writt...   \n",
       "1  the shawshank redemption is without a doubt on...   \n",
       "2  i believe that this film is the best story eve...   \n",
       "3  **yes, there are spoilers here**this film has ...   \n",
       "4  at the heart of this extraordinary movie is a ...   \n",
       "\n",
       "                                        r_lemmatized  \\\n",
       "0  [year, shawshank, redemption, written, directe...   \n",
       "1  [shawshank, redemption, without, doubt, one, b...   \n",
       "2  [believe, film, best, story, ever, told, film,...   \n",
       "3  [spoiler, film, emotional, impact, find, hard,...   \n",
       "4  [heart, extraordinary, brilliant, indelible, p...   \n",
       "\n",
       "                                        r_lemmatized  \n",
       "0  [year, shawshank, redemption, written, directe...  \n",
       "1  [shawshank, redemption, without, doubt, one, b...  \n",
       "2  [believe, film, best, story, ever, told, film,...  \n",
       "3  [spoiler, film, emotional, impact, find, hard,...  \n",
       "4  [heart, extraordinary, brilliant, indelible, p...  "
      ]
     },
     "execution_count": 11,
     "metadata": {},
     "output_type": "execute_result"
    }
   ],
   "source": [
    "df_raw['r_lemmatized'] = df_raw.apply(lambda x: apply_lemmatizing(x['r_stopwords_removed']), axis=1)\n",
    "df_raw[['review_text', 'r_lemmatized', 'r_lemmatized']].head()"
   ]
  },
  {
   "cell_type": "markdown",
   "id": "8ec37854",
   "metadata": {},
   "source": [
    "### re Stopword"
   ]
  },
  {
   "cell_type": "code",
   "execution_count": 12,
   "id": "1e91d5f9",
   "metadata": {},
   "outputs": [],
   "source": [
    "df_detail['p_re_stopwords'] = df_detail.apply(lambda x: remove_stopwords(x['p_lemmatized']), axis=1)\n",
    "df_raw['r_re_stopwords'] = df_raw.apply(lambda x: remove_stopwords(x['r_lemmatized']), axis=1)"
   ]
  },
  {
   "cell_type": "markdown",
   "id": "200c9e32",
   "metadata": {},
   "source": [
    "### Rejoin"
   ]
  },
  {
   "cell_type": "code",
   "execution_count": 13,
   "id": "119133d4",
   "metadata": {},
   "outputs": [],
   "source": [
    "def rejoin_words(tokenized_column):\n",
    "    \n",
    "    return ( \" \".join(tokenized_column))"
   ]
  },
  {
   "cell_type": "code",
   "execution_count": 14,
   "id": "f0a65e04",
   "metadata": {},
   "outputs": [
    {
     "data": {
      "text/html": [
       "<div>\n",
       "<style scoped>\n",
       "    .dataframe tbody tr th:only-of-type {\n",
       "        vertical-align: middle;\n",
       "    }\n",
       "\n",
       "    .dataframe tbody tr th {\n",
       "        vertical-align: top;\n",
       "    }\n",
       "\n",
       "    .dataframe thead th {\n",
       "        text-align: right;\n",
       "    }\n",
       "</style>\n",
       "<table border=\"1\" class=\"dataframe\">\n",
       "  <thead>\n",
       "    <tr style=\"text-align: right;\">\n",
       "      <th></th>\n",
       "      <th>review_text</th>\n",
       "      <th>review</th>\n",
       "    </tr>\n",
       "  </thead>\n",
       "  <tbody>\n",
       "    <tr>\n",
       "      <th>0</th>\n",
       "      <td>in its oscar year, shawshank redemption (writt...</td>\n",
       "      <td>year shawshank redemption written directed fra...</td>\n",
       "    </tr>\n",
       "    <tr>\n",
       "      <th>1</th>\n",
       "      <td>the shawshank redemption is without a doubt on...</td>\n",
       "      <td>shawshank redemption without doubt one brillia...</td>\n",
       "    </tr>\n",
       "    <tr>\n",
       "      <th>2</th>\n",
       "      <td>i believe that this film is the best story eve...</td>\n",
       "      <td>believe film best story ever told film tell ro...</td>\n",
       "    </tr>\n",
       "    <tr>\n",
       "      <th>3</th>\n",
       "      <td>**yes, there are spoilers here**this film has ...</td>\n",
       "      <td>film emotional impact find hard write comment ...</td>\n",
       "    </tr>\n",
       "    <tr>\n",
       "      <th>4</th>\n",
       "      <td>at the heart of this extraordinary movie is a ...</td>\n",
       "      <td>heart extraordinary brilliant indelible perfor...</td>\n",
       "    </tr>\n",
       "  </tbody>\n",
       "</table>\n",
       "</div>"
      ],
      "text/plain": [
       "                                         review_text  \\\n",
       "0  in its oscar year, shawshank redemption (writt...   \n",
       "1  the shawshank redemption is without a doubt on...   \n",
       "2  i believe that this film is the best story eve...   \n",
       "3  **yes, there are spoilers here**this film has ...   \n",
       "4  at the heart of this extraordinary movie is a ...   \n",
       "\n",
       "                                              review  \n",
       "0  year shawshank redemption written directed fra...  \n",
       "1  shawshank redemption without doubt one brillia...  \n",
       "2  believe film best story ever told film tell ro...  \n",
       "3  film emotional impact find hard write comment ...  \n",
       "4  heart extraordinary brilliant indelible perfor...  "
      ]
     },
     "execution_count": 14,
     "metadata": {},
     "output_type": "execute_result"
    }
   ],
   "source": [
    "df_detail['synopsis'] = df_detail.apply(lambda x: rejoin_words(x['p_re_stopwords']), axis=1)\n",
    "df_raw['review'] = df_raw.apply(lambda x: rejoin_words(x['r_re_stopwords']), axis=1)\n",
    "\n",
    "df_raw[['review_text', 'review']].head()"
   ]
  },
  {
   "cell_type": "code",
   "execution_count": 15,
   "id": "e5d762c1",
   "metadata": {},
   "outputs": [
    {
     "data": {
      "text/plain": [
       "'year shawshank redemption written directed frank darabont novella rita hayworth shawshank redemption stephen king nominated seven academy walked away zero best picture went forrest gump shawshank pulp fiction happy nominated course hindsight history look back gump film pulp redemption remembered best pulp however success word making huge splash cannes making american master two film andy dufresne success fortunately failure life opening screen film fell fast theatre finished mere reason failure firstly title clunker iconic fan today people knew cared dvd tim robbins laugh recounting fan congratulating film nightmare drama tough sell woman story love two best friend spell winner men worst slow molasses desson thomson writes washington post wanders subplots every opportunity ignores abundance narrative exit point settling finale weakness film setting opening aerial shot prison total amazing piece architecture strong gothic design immediately prison becomes character cast shadow film tall stone wall stretching every shot tower men contains blotting memory outside world andy robbins hold onto hope music sandy beach zihuatanejo forget forget place world made stone something inside ca touch red morgan freeman much andy first picking tall glass milk silver spoon first new fish crack andy word losing bet red resents time two quickly become best friend one film major strength love flick hero shawshank one look honestly love two best friend seems odd hollywood skip relationship time feeling weighs much everyone day day life perhaps sentimental conventional shawshank core friendship hit note film much better pacing deliberate well spend film watching actor forget timeline span well year huge measure time pas slowly reality amplified prison film interest moment still going merely intends taking sweet time getting pay well tedium prison life climax much exhilarating anyone moment never theme faith hope definite religious subtext found quiet selfless carefree andy obvious christ figure warden norton bob gunton obviously modeled richard nixon day close personified satan looking subtexts speaks anyone search hope compelling drama moving film perfectly written acted shot much better score shawshank redemption served message hope hollywood well film memory proved life box office besting forrest fiction ran solely strong word mouth became hottest rented film currently sits top film occasionally swapping spot godfather top ranked film time redemption indeed seen yet hell waiting andy simple choice really either busy living busy dying'"
      ]
     },
     "execution_count": 15,
     "metadata": {},
     "output_type": "execute_result"
    }
   ],
   "source": [
    "df_raw['review'].iloc[0]"
   ]
  },
  {
   "cell_type": "markdown",
   "id": "b03e5ee5",
   "metadata": {},
   "source": [
    "### Remove Duplicate"
   ]
  },
  {
   "cell_type": "code",
   "execution_count": 16,
   "id": "8eba8bc1",
   "metadata": {},
   "outputs": [],
   "source": [
    "df_raw['review'] = (df_raw['review'].str.split()\n",
    "                              .apply(lambda x: OrderedDict.fromkeys(x).keys())\n",
    "                              .str.join(' '))\n",
    "\n",
    "df_detail['synopsis'] = (df_detail['synopsis'].str.split()\n",
    "                              .apply(lambda x: OrderedDict.fromkeys(x).keys())\n",
    "                              .str.join(' '))"
   ]
  },
  {
   "cell_type": "code",
   "execution_count": 17,
   "id": "66f20e24",
   "metadata": {},
   "outputs": [
    {
     "data": {
      "text/plain": [
       "'year shawshank redemption written directed frank darabont novella rita hayworth stephen king nominated seven academy walked away zero best picture went forrest gump pulp fiction happy course hindsight history look back film remembered however success word making huge splash cannes american master two andy dufresne fortunately failure life opening screen fell fast theatre finished mere reason firstly title clunker iconic fan today people knew cared dvd tim robbins laugh recounting congratulating nightmare drama tough sell woman story love friend spell winner men worst slow molasses desson thomson writes washington post wanders subplots every opportunity ignores abundance narrative exit point settling finale weakness setting aerial shot prison total amazing piece architecture strong gothic design immediately becomes character cast shadow tall stone wall stretching tower contains blotting memory outside world hold onto hope music sandy beach zihuatanejo forget place made something inside ca touch red morgan freeman much first picking glass milk silver spoon new fish crack losing bet resents time quickly become one major strength flick hero honestly seems odd hollywood skip relationship feeling weighs everyone day perhaps sentimental conventional core friendship hit note better pacing deliberate well spend watching actor timeline span measure pas slowly reality amplified interest moment still going merely intends taking sweet getting pay tedium climax exhilarating anyone never theme faith definite religious subtext found quiet selfless carefree obvious christ figure warden norton bob gunton obviously modeled richard nixon close personified satan looking subtexts speaks search compelling moving perfectly acted score served message proved box office besting ran solely mouth became hottest rented currently sits top occasionally swapping spot godfather ranked indeed seen yet hell waiting simple choice really either busy living dying'"
      ]
     },
     "execution_count": 17,
     "metadata": {},
     "output_type": "execute_result"
    }
   ],
   "source": [
    "df_raw['review'].iloc[0]"
   ]
  },
  {
   "cell_type": "markdown",
   "id": "2a73a80d",
   "metadata": {},
   "source": [
    "### Merge"
   ]
  },
  {
   "cell_type": "code",
   "execution_count": 18,
   "id": "026c51ba",
   "metadata": {},
   "outputs": [],
   "source": [
    "df_synopsis = df_detail[['movie_id','synopsis']]"
   ]
  },
  {
   "cell_type": "code",
   "execution_count": 19,
   "id": "7f7fd73b",
   "metadata": {},
   "outputs": [
    {
     "data": {
      "text/html": [
       "<div>\n",
       "<style scoped>\n",
       "    .dataframe tbody tr th:only-of-type {\n",
       "        vertical-align: middle;\n",
       "    }\n",
       "\n",
       "    .dataframe tbody tr th {\n",
       "        vertical-align: top;\n",
       "    }\n",
       "\n",
       "    .dataframe thead th {\n",
       "        text-align: right;\n",
       "    }\n",
       "</style>\n",
       "<table border=\"1\" class=\"dataframe\">\n",
       "  <thead>\n",
       "    <tr style=\"text-align: right;\">\n",
       "      <th></th>\n",
       "      <th>movie_id</th>\n",
       "      <th>synopsis</th>\n",
       "    </tr>\n",
       "  </thead>\n",
       "  <tbody>\n",
       "    <tr>\n",
       "      <th>0</th>\n",
       "      <td>tt0105112</td>\n",
       "      <td>jack ryan ford working vacation london family ...</td>\n",
       "    </tr>\n",
       "    <tr>\n",
       "      <th>1</th>\n",
       "      <td>tt1204975</td>\n",
       "      <td>four boy around age friend brooklyn nickname f...</td>\n",
       "    </tr>\n",
       "    <tr>\n",
       "      <th>3</th>\n",
       "      <td>tt0040897</td>\n",
       "      <td>fred dobbs humphrey bogart bob curtin tim holt...</td>\n",
       "    </tr>\n",
       "    <tr>\n",
       "      <th>4</th>\n",
       "      <td>tt0126886</td>\n",
       "      <td>jim mcallister matthew broderick high school h...</td>\n",
       "    </tr>\n",
       "    <tr>\n",
       "      <th>5</th>\n",
       "      <td>tt0286716</td>\n",
       "      <td>bruce banner eric bana research scientist berk...</td>\n",
       "    </tr>\n",
       "    <tr>\n",
       "      <th>...</th>\n",
       "      <td>...</td>\n",
       "      <td>...</td>\n",
       "    </tr>\n",
       "    <tr>\n",
       "      <th>1563</th>\n",
       "      <td>tt0120655</td>\n",
       "      <td>film open homeless man bud cort deserted new j...</td>\n",
       "    </tr>\n",
       "    <tr>\n",
       "      <th>1565</th>\n",
       "      <td>tt0276751</td>\n",
       "      <td>freeman hugh grant bachelor pride cool thanks ...</td>\n",
       "    </tr>\n",
       "    <tr>\n",
       "      <th>1567</th>\n",
       "      <td>tt0289879</td>\n",
       "      <td>year evan treborn ashton kutcher suffered seve...</td>\n",
       "    </tr>\n",
       "    <tr>\n",
       "      <th>1568</th>\n",
       "      <td>tt1723811</td>\n",
       "      <td>brandon michael fassbender successful handsome...</td>\n",
       "    </tr>\n",
       "    <tr>\n",
       "      <th>1569</th>\n",
       "      <td>tt5013056</td>\n",
       "      <td>film alternate three different period time inv...</td>\n",
       "    </tr>\n",
       "  </tbody>\n",
       "</table>\n",
       "<p>1339 rows × 2 columns</p>\n",
       "</div>"
      ],
      "text/plain": [
       "       movie_id                                           synopsis\n",
       "0     tt0105112  jack ryan ford working vacation london family ...\n",
       "1     tt1204975  four boy around age friend brooklyn nickname f...\n",
       "3     tt0040897  fred dobbs humphrey bogart bob curtin tim holt...\n",
       "4     tt0126886  jim mcallister matthew broderick high school h...\n",
       "5     tt0286716  bruce banner eric bana research scientist berk...\n",
       "...         ...                                                ...\n",
       "1563  tt0120655  film open homeless man bud cort deserted new j...\n",
       "1565  tt0276751  freeman hugh grant bachelor pride cool thanks ...\n",
       "1567  tt0289879  year evan treborn ashton kutcher suffered seve...\n",
       "1568  tt1723811  brandon michael fassbender successful handsome...\n",
       "1569  tt5013056  film alternate three different period time inv...\n",
       "\n",
       "[1339 rows x 2 columns]"
      ]
     },
     "execution_count": 19,
     "metadata": {},
     "output_type": "execute_result"
    }
   ],
   "source": [
    "df_synopsis"
   ]
  },
  {
   "cell_type": "code",
   "execution_count": 20,
   "id": "df9cc525",
   "metadata": {},
   "outputs": [],
   "source": [
    "df_review = df_raw[['movie_id','user_id','is_spoiler','review']]"
   ]
  },
  {
   "cell_type": "code",
   "execution_count": 21,
   "id": "5bf9ab56",
   "metadata": {},
   "outputs": [
    {
     "data": {
      "text/html": [
       "<div>\n",
       "<style scoped>\n",
       "    .dataframe tbody tr th:only-of-type {\n",
       "        vertical-align: middle;\n",
       "    }\n",
       "\n",
       "    .dataframe tbody tr th {\n",
       "        vertical-align: top;\n",
       "    }\n",
       "\n",
       "    .dataframe thead th {\n",
       "        text-align: right;\n",
       "    }\n",
       "</style>\n",
       "<table border=\"1\" class=\"dataframe\">\n",
       "  <thead>\n",
       "    <tr style=\"text-align: right;\">\n",
       "      <th></th>\n",
       "      <th>movie_id</th>\n",
       "      <th>user_id</th>\n",
       "      <th>is_spoiler</th>\n",
       "      <th>review</th>\n",
       "    </tr>\n",
       "  </thead>\n",
       "  <tbody>\n",
       "    <tr>\n",
       "      <th>0</th>\n",
       "      <td>tt0111161</td>\n",
       "      <td>ur1898687</td>\n",
       "      <td>True</td>\n",
       "      <td>year shawshank redemption written directed fra...</td>\n",
       "    </tr>\n",
       "    <tr>\n",
       "      <th>1</th>\n",
       "      <td>tt0111161</td>\n",
       "      <td>ur0842118</td>\n",
       "      <td>True</td>\n",
       "      <td>shawshank redemption without doubt one brillia...</td>\n",
       "    </tr>\n",
       "    <tr>\n",
       "      <th>2</th>\n",
       "      <td>tt0111161</td>\n",
       "      <td>ur1285640</td>\n",
       "      <td>True</td>\n",
       "      <td>believe film best story ever told tell robbins...</td>\n",
       "    </tr>\n",
       "    <tr>\n",
       "      <th>3</th>\n",
       "      <td>tt0111161</td>\n",
       "      <td>ur1003471</td>\n",
       "      <td>True</td>\n",
       "      <td>film emotional impact find hard write comment ...</td>\n",
       "    </tr>\n",
       "    <tr>\n",
       "      <th>4</th>\n",
       "      <td>tt0111161</td>\n",
       "      <td>ur0226855</td>\n",
       "      <td>True</td>\n",
       "      <td>heart extraordinary brilliant indelible perfor...</td>\n",
       "    </tr>\n",
       "    <tr>\n",
       "      <th>...</th>\n",
       "      <td>...</td>\n",
       "      <td>...</td>\n",
       "      <td>...</td>\n",
       "      <td>...</td>\n",
       "    </tr>\n",
       "    <tr>\n",
       "      <th>573908</th>\n",
       "      <td>tt0139239</td>\n",
       "      <td>ur0100166</td>\n",
       "      <td>False</td>\n",
       "      <td>wise fast pure entertainment assembling except...</td>\n",
       "    </tr>\n",
       "    <tr>\n",
       "      <th>573909</th>\n",
       "      <td>tt0139239</td>\n",
       "      <td>ur0021767</td>\n",
       "      <td>False</td>\n",
       "      <td>well shall fun rate three plotlines origining ...</td>\n",
       "    </tr>\n",
       "    <tr>\n",
       "      <th>573910</th>\n",
       "      <td>tt0139239</td>\n",
       "      <td>ur0392750</td>\n",
       "      <td>False</td>\n",
       "      <td>best ever seen read noticed people compared pu...</td>\n",
       "    </tr>\n",
       "    <tr>\n",
       "      <th>573911</th>\n",
       "      <td>tt0139239</td>\n",
       "      <td>ur0349105</td>\n",
       "      <td>False</td>\n",
       "      <td>call teenage version pulp fiction whatever ple...</td>\n",
       "    </tr>\n",
       "    <tr>\n",
       "      <th>573912</th>\n",
       "      <td>tt0139239</td>\n",
       "      <td>ur0156431</td>\n",
       "      <td>False</td>\n",
       "      <td>made doubt sucker mtv faithful care anything e...</td>\n",
       "    </tr>\n",
       "  </tbody>\n",
       "</table>\n",
       "<p>573913 rows × 4 columns</p>\n",
       "</div>"
      ],
      "text/plain": [
       "         movie_id    user_id  is_spoiler  \\\n",
       "0       tt0111161  ur1898687        True   \n",
       "1       tt0111161  ur0842118        True   \n",
       "2       tt0111161  ur1285640        True   \n",
       "3       tt0111161  ur1003471        True   \n",
       "4       tt0111161  ur0226855        True   \n",
       "...           ...        ...         ...   \n",
       "573908  tt0139239  ur0100166       False   \n",
       "573909  tt0139239  ur0021767       False   \n",
       "573910  tt0139239  ur0392750       False   \n",
       "573911  tt0139239  ur0349105       False   \n",
       "573912  tt0139239  ur0156431       False   \n",
       "\n",
       "                                                   review  \n",
       "0       year shawshank redemption written directed fra...  \n",
       "1       shawshank redemption without doubt one brillia...  \n",
       "2       believe film best story ever told tell robbins...  \n",
       "3       film emotional impact find hard write comment ...  \n",
       "4       heart extraordinary brilliant indelible perfor...  \n",
       "...                                                   ...  \n",
       "573908  wise fast pure entertainment assembling except...  \n",
       "573909  well shall fun rate three plotlines origining ...  \n",
       "573910  best ever seen read noticed people compared pu...  \n",
       "573911  call teenage version pulp fiction whatever ple...  \n",
       "573912  made doubt sucker mtv faithful care anything e...  \n",
       "\n",
       "[573913 rows x 4 columns]"
      ]
     },
     "execution_count": 21,
     "metadata": {},
     "output_type": "execute_result"
    }
   ],
   "source": [
    "df_review"
   ]
  },
  {
   "cell_type": "code",
   "execution_count": 22,
   "id": "7edf0253",
   "metadata": {},
   "outputs": [],
   "source": [
    "df_spoiler = pd.merge(df_review, df_synopsis, how='inner', on ='movie_id')"
   ]
  },
  {
   "cell_type": "code",
   "execution_count": 23,
   "id": "03324458",
   "metadata": {
    "scrolled": true
   },
   "outputs": [],
   "source": [
    "df_spoiler.to_csv('IMDB/dataset/spacy-pre-unq-lem.csv', index= False)"
   ]
  },
  {
   "cell_type": "code",
   "execution_count": null,
   "id": "c340f9cf",
   "metadata": {},
   "outputs": [],
   "source": []
  }
 ],
 "metadata": {
  "kernelspec": {
   "display_name": "juunho",
   "language": "python",
   "name": "juunho"
  },
  "language_info": {
   "codemirror_mode": {
    "name": "ipython",
    "version": 3
   },
   "file_extension": ".py",
   "mimetype": "text/x-python",
   "name": "python",
   "nbconvert_exporter": "python",
   "pygments_lexer": "ipython3",
   "version": "3.7.13"
  },
  "toc": {
   "base_numbering": 1,
   "nav_menu": {},
   "number_sections": true,
   "sideBar": true,
   "skip_h1_title": false,
   "title_cell": "Table of Contents",
   "title_sidebar": "Contents",
   "toc_cell": false,
   "toc_position": {},
   "toc_section_display": true,
   "toc_window_display": false
  }
 },
 "nbformat": 4,
 "nbformat_minor": 5
}
