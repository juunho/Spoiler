{
 "cells": [
  {
   "cell_type": "code",
   "execution_count": 1,
   "id": "bfd44932",
   "metadata": {},
   "outputs": [],
   "source": [
    "import re\n",
    "import pandas as pd\n",
    "import numpy as np\n",
    "import nltk\n",
    "from nltk.corpus import stopwords\n",
    "from nltk.stem import SnowballStemmer, PorterStemmer\n",
    "import spacy\n",
    "nlp = spacy.load('en_core_web_lg')"
   ]
  },
  {
   "cell_type": "code",
   "execution_count": 2,
   "id": "f766b237",
   "metadata": {},
   "outputs": [],
   "source": [
    "from tqdm import tqdm"
   ]
  },
  {
   "cell_type": "markdown",
   "id": "ccda3bae",
   "metadata": {},
   "source": [
    "### Data Load"
   ]
  },
  {
   "cell_type": "code",
   "execution_count": 3,
   "id": "98f23ba7",
   "metadata": {},
   "outputs": [],
   "source": [
    "df = pd.read_csv('IMDB/dataset/spacy-pre-unq.csv')"
   ]
  },
  {
   "cell_type": "code",
   "execution_count": 4,
   "id": "68376656",
   "metadata": {},
   "outputs": [],
   "source": [
    "df['review'].replace('', np.nan, inplace=True)\n",
    "df.dropna(subset=['review'], inplace=True)\n",
    "\n",
    "df['synopsis'].replace('', np.nan, inplace=True)\n",
    "df.dropna(subset=['synopsis'], inplace=True)"
   ]
  },
  {
   "cell_type": "code",
   "execution_count": 5,
   "id": "894eea02",
   "metadata": {},
   "outputs": [],
   "source": [
    "df_1 = df.iloc[1:250000]\n",
    "df_2 = df.iloc[250000:]"
   ]
  },
  {
   "cell_type": "code",
   "execution_count": 6,
   "id": "a1d793b6",
   "metadata": {
    "scrolled": false
   },
   "outputs": [
    {
     "name": "stderr",
     "output_type": "stream",
     "text": [
      " 13%|█████████▋                                                               | 33145/249999 [35:57<2:51:25, 21.08it/s]C:\\Users\\User\\anaconda3\\envs\\juunho\\lib\\site-packages\\ipykernel_launcher.py:6: UserWarning: [W008] Evaluating Doc.similarity based on empty vectors.\n",
      "  \n",
      "100%|████████████████████████████████████████████████████████████████████████| 249999/249999 [3:47:14<00:00, 18.34it/s]\n",
      "C:\\Users\\User\\anaconda3\\envs\\juunho\\lib\\site-packages\\ipykernel_launcher.py:8: SettingWithCopyWarning: \n",
      "A value is trying to be set on a copy of a slice from a DataFrame.\n",
      "Try using .loc[row_indexer,col_indexer] = value instead\n",
      "\n",
      "See the caveats in the documentation: https://pandas.pydata.org/pandas-docs/stable/user_guide/indexing.html#returning-a-view-versus-a-copy\n",
      "  \n"
     ]
    }
   ],
   "source": [
    "similarityValue = []\n",
    "\n",
    "for i in tqdm(range(df_1.count()[0])):\n",
    "    sentence_1 = nlp(df_1.iloc[i][3])\n",
    "    sentence_2 = nlp(df_1.iloc[i][4])\n",
    "    similarityValue.append(sentence_1.similarity(sentence_2))\n",
    "\n",
    "df_1['Similarity'] = similarityValue"
   ]
  },
  {
   "cell_type": "code",
   "execution_count": 7,
   "id": "39983b58",
   "metadata": {},
   "outputs": [
    {
     "name": "stderr",
     "output_type": "stream",
     "text": [
      "100%|████████████████████████████████████████████████████████████████████████| 288826/288826 [3:38:59<00:00, 21.98it/s]\n",
      "C:\\Users\\User\\anaconda3\\envs\\juunho\\lib\\site-packages\\ipykernel_launcher.py:8: SettingWithCopyWarning: \n",
      "A value is trying to be set on a copy of a slice from a DataFrame.\n",
      "Try using .loc[row_indexer,col_indexer] = value instead\n",
      "\n",
      "See the caveats in the documentation: https://pandas.pydata.org/pandas-docs/stable/user_guide/indexing.html#returning-a-view-versus-a-copy\n",
      "  \n"
     ]
    }
   ],
   "source": [
    "similarityValue = []\n",
    "\n",
    "for i in tqdm(range(df_2.count()[0])):\n",
    "    sentence_1 = nlp(df_2.iloc[i][3])\n",
    "    sentence_2 = nlp(df_2.iloc[i][4])\n",
    "    similarityValue.append(sentence_1.similarity(sentence_2))\n",
    "\n",
    "df_2['Similarity'] = similarityValue"
   ]
  },
  {
   "cell_type": "code",
   "execution_count": 8,
   "id": "e5433fca",
   "metadata": {},
   "outputs": [],
   "source": [
    "df_1.to_csv('IMDB/dataset/sim1-spacy-pre-unq.csv', index= False)"
   ]
  },
  {
   "cell_type": "code",
   "execution_count": 9,
   "id": "1f8ecabb",
   "metadata": {},
   "outputs": [],
   "source": [
    "df_2.to_csv('IMDB/dataset/sim2-spacy-pre-unq.csv', index= False)"
   ]
  }
 ],
 "metadata": {
  "kernelspec": {
   "display_name": "juunho",
   "language": "python",
   "name": "juunho"
  },
  "language_info": {
   "codemirror_mode": {
    "name": "ipython",
    "version": 3
   },
   "file_extension": ".py",
   "mimetype": "text/x-python",
   "name": "python",
   "nbconvert_exporter": "python",
   "pygments_lexer": "ipython3",
   "version": "3.7.13"
  },
  "toc": {
   "base_numbering": 1,
   "nav_menu": {},
   "number_sections": true,
   "sideBar": true,
   "skip_h1_title": false,
   "title_cell": "Table of Contents",
   "title_sidebar": "Contents",
   "toc_cell": false,
   "toc_position": {},
   "toc_section_display": true,
   "toc_window_display": false
  }
 },
 "nbformat": 4,
 "nbformat_minor": 5
}
